{
 "cells": [
  {
   "cell_type": "code",
   "execution_count": 1,
   "id": "fb9732a6",
   "metadata": {
    "_cell_guid": "b1076dfc-b9ad-4769-8c92-a6c4dae69d19",
    "_uuid": "8f2839f25d086af736a60e9eeb907d3b93b6e0e5",
    "execution": {
     "iopub.execute_input": "2023-04-04T16:32:02.342473Z",
     "iopub.status.busy": "2023-04-04T16:32:02.341786Z",
     "iopub.status.idle": "2023-04-04T16:32:05.186693Z",
     "shell.execute_reply": "2023-04-04T16:32:05.185645Z"
    },
    "papermill": {
     "duration": 2.866072,
     "end_time": "2023-04-04T16:32:05.189628",
     "exception": false,
     "start_time": "2023-04-04T16:32:02.323556",
     "status": "completed"
    },
    "tags": []
   },
   "outputs": [],
   "source": [
    "import numpy as np # linear algebra\n",
    "import pandas as pd # data processing, CSV file I/O (e.g. pd.read_csv)\n",
    "import matplotlib.pyplot as plt\n",
    "from matplotlib.pyplot import figure\n",
    "import seaborn as sns\n",
    "import plotly.express as px\n",
    "import plotly.graph_objs as go\n",
    "from scipy.stats import poisson"
   ]
  },
  {
   "cell_type": "code",
   "execution_count": 2,
   "id": "74451d45",
   "metadata": {
    "execution": {
     "iopub.execute_input": "2023-04-04T16:32:05.222568Z",
     "iopub.status.busy": "2023-04-04T16:32:05.221555Z",
     "iopub.status.idle": "2023-04-04T16:32:05.243123Z",
     "shell.execute_reply": "2023-04-04T16:32:05.241780Z"
    },
    "papermill": {
     "duration": 0.040504,
     "end_time": "2023-04-04T16:32:05.245812",
     "exception": false,
     "start_time": "2023-04-04T16:32:05.205308",
     "status": "completed"
    },
    "tags": []
   },
   "outputs": [],
   "source": [
    "df=pd.read_csv('/kaggle/input/titanic/train.csv')"
   ]
  },
  {
   "cell_type": "markdown",
   "id": "218ddf6b",
   "metadata": {
    "papermill": {
     "duration": 0.016115,
     "end_time": "2023-04-04T16:32:05.277298",
     "exception": false,
     "start_time": "2023-04-04T16:32:05.261183",
     "status": "completed"
    },
    "tags": []
   },
   "source": [
    "# **Basic steps**"
   ]
  },
  {
   "cell_type": "code",
   "execution_count": 3,
   "id": "e5f7f9de",
   "metadata": {
    "execution": {
     "iopub.execute_input": "2023-04-04T16:32:05.309446Z",
     "iopub.status.busy": "2023-04-04T16:32:05.308622Z",
     "iopub.status.idle": "2023-04-04T16:32:05.348416Z",
     "shell.execute_reply": "2023-04-04T16:32:05.347484Z"
    },
    "papermill": {
     "duration": 0.059368,
     "end_time": "2023-04-04T16:32:05.351612",
     "exception": false,
     "start_time": "2023-04-04T16:32:05.292244",
     "status": "completed"
    },
    "tags": []
   },
   "outputs": [
    {
     "data": {
      "text/html": [
       "<div>\n",
       "<style scoped>\n",
       "    .dataframe tbody tr th:only-of-type {\n",
       "        vertical-align: middle;\n",
       "    }\n",
       "\n",
       "    .dataframe tbody tr th {\n",
       "        vertical-align: top;\n",
       "    }\n",
       "\n",
       "    .dataframe thead th {\n",
       "        text-align: right;\n",
       "    }\n",
       "</style>\n",
       "<table border=\"1\" class=\"dataframe\">\n",
       "  <thead>\n",
       "    <tr style=\"text-align: right;\">\n",
       "      <th></th>\n",
       "      <th>PassengerId</th>\n",
       "      <th>Survived</th>\n",
       "      <th>Pclass</th>\n",
       "      <th>Name</th>\n",
       "      <th>Sex</th>\n",
       "      <th>Age</th>\n",
       "      <th>SibSp</th>\n",
       "      <th>Parch</th>\n",
       "      <th>Ticket</th>\n",
       "      <th>Fare</th>\n",
       "      <th>Cabin</th>\n",
       "      <th>Embarked</th>\n",
       "    </tr>\n",
       "  </thead>\n",
       "  <tbody>\n",
       "    <tr>\n",
       "      <th>0</th>\n",
       "      <td>1</td>\n",
       "      <td>0</td>\n",
       "      <td>3</td>\n",
       "      <td>Braund, Mr. Owen Harris</td>\n",
       "      <td>male</td>\n",
       "      <td>22.0</td>\n",
       "      <td>1</td>\n",
       "      <td>0</td>\n",
       "      <td>A/5 21171</td>\n",
       "      <td>7.2500</td>\n",
       "      <td>NaN</td>\n",
       "      <td>S</td>\n",
       "    </tr>\n",
       "    <tr>\n",
       "      <th>1</th>\n",
       "      <td>2</td>\n",
       "      <td>1</td>\n",
       "      <td>1</td>\n",
       "      <td>Cumings, Mrs. John Bradley (Florence Briggs Th...</td>\n",
       "      <td>female</td>\n",
       "      <td>38.0</td>\n",
       "      <td>1</td>\n",
       "      <td>0</td>\n",
       "      <td>PC 17599</td>\n",
       "      <td>71.2833</td>\n",
       "      <td>C85</td>\n",
       "      <td>C</td>\n",
       "    </tr>\n",
       "    <tr>\n",
       "      <th>2</th>\n",
       "      <td>3</td>\n",
       "      <td>1</td>\n",
       "      <td>3</td>\n",
       "      <td>Heikkinen, Miss. Laina</td>\n",
       "      <td>female</td>\n",
       "      <td>26.0</td>\n",
       "      <td>0</td>\n",
       "      <td>0</td>\n",
       "      <td>STON/O2. 3101282</td>\n",
       "      <td>7.9250</td>\n",
       "      <td>NaN</td>\n",
       "      <td>S</td>\n",
       "    </tr>\n",
       "    <tr>\n",
       "      <th>3</th>\n",
       "      <td>4</td>\n",
       "      <td>1</td>\n",
       "      <td>1</td>\n",
       "      <td>Futrelle, Mrs. Jacques Heath (Lily May Peel)</td>\n",
       "      <td>female</td>\n",
       "      <td>35.0</td>\n",
       "      <td>1</td>\n",
       "      <td>0</td>\n",
       "      <td>113803</td>\n",
       "      <td>53.1000</td>\n",
       "      <td>C123</td>\n",
       "      <td>S</td>\n",
       "    </tr>\n",
       "    <tr>\n",
       "      <th>4</th>\n",
       "      <td>5</td>\n",
       "      <td>0</td>\n",
       "      <td>3</td>\n",
       "      <td>Allen, Mr. William Henry</td>\n",
       "      <td>male</td>\n",
       "      <td>35.0</td>\n",
       "      <td>0</td>\n",
       "      <td>0</td>\n",
       "      <td>373450</td>\n",
       "      <td>8.0500</td>\n",
       "      <td>NaN</td>\n",
       "      <td>S</td>\n",
       "    </tr>\n",
       "    <tr>\n",
       "      <th>...</th>\n",
       "      <td>...</td>\n",
       "      <td>...</td>\n",
       "      <td>...</td>\n",
       "      <td>...</td>\n",
       "      <td>...</td>\n",
       "      <td>...</td>\n",
       "      <td>...</td>\n",
       "      <td>...</td>\n",
       "      <td>...</td>\n",
       "      <td>...</td>\n",
       "      <td>...</td>\n",
       "      <td>...</td>\n",
       "    </tr>\n",
       "    <tr>\n",
       "      <th>886</th>\n",
       "      <td>887</td>\n",
       "      <td>0</td>\n",
       "      <td>2</td>\n",
       "      <td>Montvila, Rev. Juozas</td>\n",
       "      <td>male</td>\n",
       "      <td>27.0</td>\n",
       "      <td>0</td>\n",
       "      <td>0</td>\n",
       "      <td>211536</td>\n",
       "      <td>13.0000</td>\n",
       "      <td>NaN</td>\n",
       "      <td>S</td>\n",
       "    </tr>\n",
       "    <tr>\n",
       "      <th>887</th>\n",
       "      <td>888</td>\n",
       "      <td>1</td>\n",
       "      <td>1</td>\n",
       "      <td>Graham, Miss. Margaret Edith</td>\n",
       "      <td>female</td>\n",
       "      <td>19.0</td>\n",
       "      <td>0</td>\n",
       "      <td>0</td>\n",
       "      <td>112053</td>\n",
       "      <td>30.0000</td>\n",
       "      <td>B42</td>\n",
       "      <td>S</td>\n",
       "    </tr>\n",
       "    <tr>\n",
       "      <th>888</th>\n",
       "      <td>889</td>\n",
       "      <td>0</td>\n",
       "      <td>3</td>\n",
       "      <td>Johnston, Miss. Catherine Helen \"Carrie\"</td>\n",
       "      <td>female</td>\n",
       "      <td>NaN</td>\n",
       "      <td>1</td>\n",
       "      <td>2</td>\n",
       "      <td>W./C. 6607</td>\n",
       "      <td>23.4500</td>\n",
       "      <td>NaN</td>\n",
       "      <td>S</td>\n",
       "    </tr>\n",
       "    <tr>\n",
       "      <th>889</th>\n",
       "      <td>890</td>\n",
       "      <td>1</td>\n",
       "      <td>1</td>\n",
       "      <td>Behr, Mr. Karl Howell</td>\n",
       "      <td>male</td>\n",
       "      <td>26.0</td>\n",
       "      <td>0</td>\n",
       "      <td>0</td>\n",
       "      <td>111369</td>\n",
       "      <td>30.0000</td>\n",
       "      <td>C148</td>\n",
       "      <td>C</td>\n",
       "    </tr>\n",
       "    <tr>\n",
       "      <th>890</th>\n",
       "      <td>891</td>\n",
       "      <td>0</td>\n",
       "      <td>3</td>\n",
       "      <td>Dooley, Mr. Patrick</td>\n",
       "      <td>male</td>\n",
       "      <td>32.0</td>\n",
       "      <td>0</td>\n",
       "      <td>0</td>\n",
       "      <td>370376</td>\n",
       "      <td>7.7500</td>\n",
       "      <td>NaN</td>\n",
       "      <td>Q</td>\n",
       "    </tr>\n",
       "  </tbody>\n",
       "</table>\n",
       "<p>891 rows × 12 columns</p>\n",
       "</div>"
      ],
      "text/plain": [
       "     PassengerId  Survived  Pclass  \\\n",
       "0              1         0       3   \n",
       "1              2         1       1   \n",
       "2              3         1       3   \n",
       "3              4         1       1   \n",
       "4              5         0       3   \n",
       "..           ...       ...     ...   \n",
       "886          887         0       2   \n",
       "887          888         1       1   \n",
       "888          889         0       3   \n",
       "889          890         1       1   \n",
       "890          891         0       3   \n",
       "\n",
       "                                                  Name     Sex   Age  SibSp  \\\n",
       "0                              Braund, Mr. Owen Harris    male  22.0      1   \n",
       "1    Cumings, Mrs. John Bradley (Florence Briggs Th...  female  38.0      1   \n",
       "2                               Heikkinen, Miss. Laina  female  26.0      0   \n",
       "3         Futrelle, Mrs. Jacques Heath (Lily May Peel)  female  35.0      1   \n",
       "4                             Allen, Mr. William Henry    male  35.0      0   \n",
       "..                                                 ...     ...   ...    ...   \n",
       "886                              Montvila, Rev. Juozas    male  27.0      0   \n",
       "887                       Graham, Miss. Margaret Edith  female  19.0      0   \n",
       "888           Johnston, Miss. Catherine Helen \"Carrie\"  female   NaN      1   \n",
       "889                              Behr, Mr. Karl Howell    male  26.0      0   \n",
       "890                                Dooley, Mr. Patrick    male  32.0      0   \n",
       "\n",
       "     Parch            Ticket     Fare Cabin Embarked  \n",
       "0        0         A/5 21171   7.2500   NaN        S  \n",
       "1        0          PC 17599  71.2833   C85        C  \n",
       "2        0  STON/O2. 3101282   7.9250   NaN        S  \n",
       "3        0            113803  53.1000  C123        S  \n",
       "4        0            373450   8.0500   NaN        S  \n",
       "..     ...               ...      ...   ...      ...  \n",
       "886      0            211536  13.0000   NaN        S  \n",
       "887      0            112053  30.0000   B42        S  \n",
       "888      2        W./C. 6607  23.4500   NaN        S  \n",
       "889      0            111369  30.0000  C148        C  \n",
       "890      0            370376   7.7500   NaN        Q  \n",
       "\n",
       "[891 rows x 12 columns]"
      ]
     },
     "execution_count": 3,
     "metadata": {},
     "output_type": "execute_result"
    }
   ],
   "source": [
    "df"
   ]
  },
  {
   "cell_type": "code",
   "execution_count": 4,
   "id": "2bc88a24",
   "metadata": {
    "execution": {
     "iopub.execute_input": "2023-04-04T16:32:05.384917Z",
     "iopub.status.busy": "2023-04-04T16:32:05.383982Z",
     "iopub.status.idle": "2023-04-04T16:32:05.401935Z",
     "shell.execute_reply": "2023-04-04T16:32:05.400755Z"
    },
    "papermill": {
     "duration": 0.037128,
     "end_time": "2023-04-04T16:32:05.404293",
     "exception": false,
     "start_time": "2023-04-04T16:32:05.367165",
     "status": "completed"
    },
    "tags": []
   },
   "outputs": [
    {
     "data": {
      "text/html": [
       "<div>\n",
       "<style scoped>\n",
       "    .dataframe tbody tr th:only-of-type {\n",
       "        vertical-align: middle;\n",
       "    }\n",
       "\n",
       "    .dataframe tbody tr th {\n",
       "        vertical-align: top;\n",
       "    }\n",
       "\n",
       "    .dataframe thead th {\n",
       "        text-align: right;\n",
       "    }\n",
       "</style>\n",
       "<table border=\"1\" class=\"dataframe\">\n",
       "  <thead>\n",
       "    <tr style=\"text-align: right;\">\n",
       "      <th></th>\n",
       "      <th>PassengerId</th>\n",
       "      <th>Survived</th>\n",
       "      <th>Pclass</th>\n",
       "      <th>Name</th>\n",
       "      <th>Sex</th>\n",
       "      <th>Age</th>\n",
       "      <th>SibSp</th>\n",
       "      <th>Parch</th>\n",
       "      <th>Ticket</th>\n",
       "      <th>Fare</th>\n",
       "      <th>Cabin</th>\n",
       "      <th>Embarked</th>\n",
       "    </tr>\n",
       "  </thead>\n",
       "  <tbody>\n",
       "    <tr>\n",
       "      <th>0</th>\n",
       "      <td>1</td>\n",
       "      <td>0</td>\n",
       "      <td>3</td>\n",
       "      <td>Braund, Mr. Owen Harris</td>\n",
       "      <td>male</td>\n",
       "      <td>22.0</td>\n",
       "      <td>1</td>\n",
       "      <td>0</td>\n",
       "      <td>A/5 21171</td>\n",
       "      <td>7.2500</td>\n",
       "      <td>NaN</td>\n",
       "      <td>S</td>\n",
       "    </tr>\n",
       "    <tr>\n",
       "      <th>1</th>\n",
       "      <td>2</td>\n",
       "      <td>1</td>\n",
       "      <td>1</td>\n",
       "      <td>Cumings, Mrs. John Bradley (Florence Briggs Th...</td>\n",
       "      <td>female</td>\n",
       "      <td>38.0</td>\n",
       "      <td>1</td>\n",
       "      <td>0</td>\n",
       "      <td>PC 17599</td>\n",
       "      <td>71.2833</td>\n",
       "      <td>C85</td>\n",
       "      <td>C</td>\n",
       "    </tr>\n",
       "    <tr>\n",
       "      <th>2</th>\n",
       "      <td>3</td>\n",
       "      <td>1</td>\n",
       "      <td>3</td>\n",
       "      <td>Heikkinen, Miss. Laina</td>\n",
       "      <td>female</td>\n",
       "      <td>26.0</td>\n",
       "      <td>0</td>\n",
       "      <td>0</td>\n",
       "      <td>STON/O2. 3101282</td>\n",
       "      <td>7.9250</td>\n",
       "      <td>NaN</td>\n",
       "      <td>S</td>\n",
       "    </tr>\n",
       "    <tr>\n",
       "      <th>3</th>\n",
       "      <td>4</td>\n",
       "      <td>1</td>\n",
       "      <td>1</td>\n",
       "      <td>Futrelle, Mrs. Jacques Heath (Lily May Peel)</td>\n",
       "      <td>female</td>\n",
       "      <td>35.0</td>\n",
       "      <td>1</td>\n",
       "      <td>0</td>\n",
       "      <td>113803</td>\n",
       "      <td>53.1000</td>\n",
       "      <td>C123</td>\n",
       "      <td>S</td>\n",
       "    </tr>\n",
       "    <tr>\n",
       "      <th>4</th>\n",
       "      <td>5</td>\n",
       "      <td>0</td>\n",
       "      <td>3</td>\n",
       "      <td>Allen, Mr. William Henry</td>\n",
       "      <td>male</td>\n",
       "      <td>35.0</td>\n",
       "      <td>0</td>\n",
       "      <td>0</td>\n",
       "      <td>373450</td>\n",
       "      <td>8.0500</td>\n",
       "      <td>NaN</td>\n",
       "      <td>S</td>\n",
       "    </tr>\n",
       "    <tr>\n",
       "      <th>5</th>\n",
       "      <td>6</td>\n",
       "      <td>0</td>\n",
       "      <td>3</td>\n",
       "      <td>Moran, Mr. James</td>\n",
       "      <td>male</td>\n",
       "      <td>NaN</td>\n",
       "      <td>0</td>\n",
       "      <td>0</td>\n",
       "      <td>330877</td>\n",
       "      <td>8.4583</td>\n",
       "      <td>NaN</td>\n",
       "      <td>Q</td>\n",
       "    </tr>\n",
       "    <tr>\n",
       "      <th>6</th>\n",
       "      <td>7</td>\n",
       "      <td>0</td>\n",
       "      <td>1</td>\n",
       "      <td>McCarthy, Mr. Timothy J</td>\n",
       "      <td>male</td>\n",
       "      <td>54.0</td>\n",
       "      <td>0</td>\n",
       "      <td>0</td>\n",
       "      <td>17463</td>\n",
       "      <td>51.8625</td>\n",
       "      <td>E46</td>\n",
       "      <td>S</td>\n",
       "    </tr>\n",
       "    <tr>\n",
       "      <th>7</th>\n",
       "      <td>8</td>\n",
       "      <td>0</td>\n",
       "      <td>3</td>\n",
       "      <td>Palsson, Master. Gosta Leonard</td>\n",
       "      <td>male</td>\n",
       "      <td>2.0</td>\n",
       "      <td>3</td>\n",
       "      <td>1</td>\n",
       "      <td>349909</td>\n",
       "      <td>21.0750</td>\n",
       "      <td>NaN</td>\n",
       "      <td>S</td>\n",
       "    </tr>\n",
       "    <tr>\n",
       "      <th>8</th>\n",
       "      <td>9</td>\n",
       "      <td>1</td>\n",
       "      <td>3</td>\n",
       "      <td>Johnson, Mrs. Oscar W (Elisabeth Vilhelmina Berg)</td>\n",
       "      <td>female</td>\n",
       "      <td>27.0</td>\n",
       "      <td>0</td>\n",
       "      <td>2</td>\n",
       "      <td>347742</td>\n",
       "      <td>11.1333</td>\n",
       "      <td>NaN</td>\n",
       "      <td>S</td>\n",
       "    </tr>\n",
       "    <tr>\n",
       "      <th>9</th>\n",
       "      <td>10</td>\n",
       "      <td>1</td>\n",
       "      <td>2</td>\n",
       "      <td>Nasser, Mrs. Nicholas (Adele Achem)</td>\n",
       "      <td>female</td>\n",
       "      <td>14.0</td>\n",
       "      <td>1</td>\n",
       "      <td>0</td>\n",
       "      <td>237736</td>\n",
       "      <td>30.0708</td>\n",
       "      <td>NaN</td>\n",
       "      <td>C</td>\n",
       "    </tr>\n",
       "  </tbody>\n",
       "</table>\n",
       "</div>"
      ],
      "text/plain": [
       "   PassengerId  Survived  Pclass  \\\n",
       "0            1         0       3   \n",
       "1            2         1       1   \n",
       "2            3         1       3   \n",
       "3            4         1       1   \n",
       "4            5         0       3   \n",
       "5            6         0       3   \n",
       "6            7         0       1   \n",
       "7            8         0       3   \n",
       "8            9         1       3   \n",
       "9           10         1       2   \n",
       "\n",
       "                                                Name     Sex   Age  SibSp  \\\n",
       "0                            Braund, Mr. Owen Harris    male  22.0      1   \n",
       "1  Cumings, Mrs. John Bradley (Florence Briggs Th...  female  38.0      1   \n",
       "2                             Heikkinen, Miss. Laina  female  26.0      0   \n",
       "3       Futrelle, Mrs. Jacques Heath (Lily May Peel)  female  35.0      1   \n",
       "4                           Allen, Mr. William Henry    male  35.0      0   \n",
       "5                                   Moran, Mr. James    male   NaN      0   \n",
       "6                            McCarthy, Mr. Timothy J    male  54.0      0   \n",
       "7                     Palsson, Master. Gosta Leonard    male   2.0      3   \n",
       "8  Johnson, Mrs. Oscar W (Elisabeth Vilhelmina Berg)  female  27.0      0   \n",
       "9                Nasser, Mrs. Nicholas (Adele Achem)  female  14.0      1   \n",
       "\n",
       "   Parch            Ticket     Fare Cabin Embarked  \n",
       "0      0         A/5 21171   7.2500   NaN        S  \n",
       "1      0          PC 17599  71.2833   C85        C  \n",
       "2      0  STON/O2. 3101282   7.9250   NaN        S  \n",
       "3      0            113803  53.1000  C123        S  \n",
       "4      0            373450   8.0500   NaN        S  \n",
       "5      0            330877   8.4583   NaN        Q  \n",
       "6      0             17463  51.8625   E46        S  \n",
       "7      1            349909  21.0750   NaN        S  \n",
       "8      2            347742  11.1333   NaN        S  \n",
       "9      0            237736  30.0708   NaN        C  "
      ]
     },
     "execution_count": 4,
     "metadata": {},
     "output_type": "execute_result"
    }
   ],
   "source": [
    "df.head(10)"
   ]
  },
  {
   "cell_type": "code",
   "execution_count": 5,
   "id": "ee294a81",
   "metadata": {
    "execution": {
     "iopub.execute_input": "2023-04-04T16:32:05.438442Z",
     "iopub.status.busy": "2023-04-04T16:32:05.437278Z",
     "iopub.status.idle": "2023-04-04T16:32:05.462022Z",
     "shell.execute_reply": "2023-04-04T16:32:05.460565Z"
    },
    "papermill": {
     "duration": 0.04417,
     "end_time": "2023-04-04T16:32:05.464378",
     "exception": false,
     "start_time": "2023-04-04T16:32:05.420208",
     "status": "completed"
    },
    "tags": []
   },
   "outputs": [
    {
     "name": "stdout",
     "output_type": "stream",
     "text": [
      "<class 'pandas.core.frame.DataFrame'>\n",
      "RangeIndex: 891 entries, 0 to 890\n",
      "Data columns (total 12 columns):\n",
      " #   Column       Non-Null Count  Dtype  \n",
      "---  ------       --------------  -----  \n",
      " 0   PassengerId  891 non-null    int64  \n",
      " 1   Survived     891 non-null    int64  \n",
      " 2   Pclass       891 non-null    int64  \n",
      " 3   Name         891 non-null    object \n",
      " 4   Sex          891 non-null    object \n",
      " 5   Age          714 non-null    float64\n",
      " 6   SibSp        891 non-null    int64  \n",
      " 7   Parch        891 non-null    int64  \n",
      " 8   Ticket       891 non-null    object \n",
      " 9   Fare         891 non-null    float64\n",
      " 10  Cabin        204 non-null    object \n",
      " 11  Embarked     889 non-null    object \n",
      "dtypes: float64(2), int64(5), object(5)\n",
      "memory usage: 83.7+ KB\n"
     ]
    }
   ],
   "source": [
    "df.info()"
   ]
  },
  {
   "cell_type": "code",
   "execution_count": 6,
   "id": "f662819c",
   "metadata": {
    "execution": {
     "iopub.execute_input": "2023-04-04T16:32:05.497941Z",
     "iopub.status.busy": "2023-04-04T16:32:05.497068Z",
     "iopub.status.idle": "2023-04-04T16:32:05.504096Z",
     "shell.execute_reply": "2023-04-04T16:32:05.503021Z"
    },
    "papermill": {
     "duration": 0.026206,
     "end_time": "2023-04-04T16:32:05.506417",
     "exception": false,
     "start_time": "2023-04-04T16:32:05.480211",
     "status": "completed"
    },
    "tags": []
   },
   "outputs": [
    {
     "data": {
      "text/plain": [
       "(891, 12)"
      ]
     },
     "execution_count": 6,
     "metadata": {},
     "output_type": "execute_result"
    }
   ],
   "source": [
    "df.shape"
   ]
  },
  {
   "cell_type": "code",
   "execution_count": 7,
   "id": "8ee33c4b",
   "metadata": {
    "execution": {
     "iopub.execute_input": "2023-04-04T16:32:05.539600Z",
     "iopub.status.busy": "2023-04-04T16:32:05.538832Z",
     "iopub.status.idle": "2023-04-04T16:32:05.547606Z",
     "shell.execute_reply": "2023-04-04T16:32:05.546466Z"
    },
    "papermill": {
     "duration": 0.027973,
     "end_time": "2023-04-04T16:32:05.549915",
     "exception": false,
     "start_time": "2023-04-04T16:32:05.521942",
     "status": "completed"
    },
    "tags": []
   },
   "outputs": [
    {
     "data": {
      "text/plain": [
       "False"
      ]
     },
     "execution_count": 7,
     "metadata": {},
     "output_type": "execute_result"
    }
   ],
   "source": [
    "#check duplicated values\n",
    "df.Name.duplicated().any()"
   ]
  },
  {
   "cell_type": "code",
   "execution_count": 8,
   "id": "c89f9b78",
   "metadata": {
    "execution": {
     "iopub.execute_input": "2023-04-04T16:32:05.583901Z",
     "iopub.status.busy": "2023-04-04T16:32:05.583034Z",
     "iopub.status.idle": "2023-04-04T16:32:05.598697Z",
     "shell.execute_reply": "2023-04-04T16:32:05.597578Z"
    },
    "papermill": {
     "duration": 0.035299,
     "end_time": "2023-04-04T16:32:05.600951",
     "exception": false,
     "start_time": "2023-04-04T16:32:05.565652",
     "status": "completed"
    },
    "tags": []
   },
   "outputs": [
    {
     "data": {
      "text/plain": [
       "False    891\n",
       "dtype: int64"
      ]
     },
     "execution_count": 8,
     "metadata": {},
     "output_type": "execute_result"
    }
   ],
   "source": [
    "df.duplicated().value_counts()"
   ]
  },
  {
   "cell_type": "code",
   "execution_count": 9,
   "id": "84eed416",
   "metadata": {
    "execution": {
     "iopub.execute_input": "2023-04-04T16:32:05.636233Z",
     "iopub.status.busy": "2023-04-04T16:32:05.635172Z",
     "iopub.status.idle": "2023-04-04T16:32:05.667396Z",
     "shell.execute_reply": "2023-04-04T16:32:05.666303Z"
    },
    "papermill": {
     "duration": 0.052248,
     "end_time": "2023-04-04T16:32:05.669928",
     "exception": false,
     "start_time": "2023-04-04T16:32:05.617680",
     "status": "completed"
    },
    "tags": []
   },
   "outputs": [
    {
     "data": {
      "text/html": [
       "<div>\n",
       "<style scoped>\n",
       "    .dataframe tbody tr th:only-of-type {\n",
       "        vertical-align: middle;\n",
       "    }\n",
       "\n",
       "    .dataframe tbody tr th {\n",
       "        vertical-align: top;\n",
       "    }\n",
       "\n",
       "    .dataframe thead th {\n",
       "        text-align: right;\n",
       "    }\n",
       "</style>\n",
       "<table border=\"1\" class=\"dataframe\">\n",
       "  <thead>\n",
       "    <tr style=\"text-align: right;\">\n",
       "      <th></th>\n",
       "      <th>PassengerId</th>\n",
       "      <th>Survived</th>\n",
       "      <th>Pclass</th>\n",
       "      <th>Age</th>\n",
       "      <th>SibSp</th>\n",
       "      <th>Parch</th>\n",
       "      <th>Fare</th>\n",
       "    </tr>\n",
       "  </thead>\n",
       "  <tbody>\n",
       "    <tr>\n",
       "      <th>count</th>\n",
       "      <td>891.000000</td>\n",
       "      <td>891.000000</td>\n",
       "      <td>891.000000</td>\n",
       "      <td>714.000000</td>\n",
       "      <td>891.000000</td>\n",
       "      <td>891.000000</td>\n",
       "      <td>891.000000</td>\n",
       "    </tr>\n",
       "    <tr>\n",
       "      <th>mean</th>\n",
       "      <td>446.000000</td>\n",
       "      <td>0.383838</td>\n",
       "      <td>2.308642</td>\n",
       "      <td>29.699118</td>\n",
       "      <td>0.523008</td>\n",
       "      <td>0.381594</td>\n",
       "      <td>32.204208</td>\n",
       "    </tr>\n",
       "    <tr>\n",
       "      <th>std</th>\n",
       "      <td>257.353842</td>\n",
       "      <td>0.486592</td>\n",
       "      <td>0.836071</td>\n",
       "      <td>14.526497</td>\n",
       "      <td>1.102743</td>\n",
       "      <td>0.806057</td>\n",
       "      <td>49.693429</td>\n",
       "    </tr>\n",
       "    <tr>\n",
       "      <th>min</th>\n",
       "      <td>1.000000</td>\n",
       "      <td>0.000000</td>\n",
       "      <td>1.000000</td>\n",
       "      <td>0.420000</td>\n",
       "      <td>0.000000</td>\n",
       "      <td>0.000000</td>\n",
       "      <td>0.000000</td>\n",
       "    </tr>\n",
       "    <tr>\n",
       "      <th>25%</th>\n",
       "      <td>223.500000</td>\n",
       "      <td>0.000000</td>\n",
       "      <td>2.000000</td>\n",
       "      <td>20.125000</td>\n",
       "      <td>0.000000</td>\n",
       "      <td>0.000000</td>\n",
       "      <td>7.910400</td>\n",
       "    </tr>\n",
       "    <tr>\n",
       "      <th>50%</th>\n",
       "      <td>446.000000</td>\n",
       "      <td>0.000000</td>\n",
       "      <td>3.000000</td>\n",
       "      <td>28.000000</td>\n",
       "      <td>0.000000</td>\n",
       "      <td>0.000000</td>\n",
       "      <td>14.454200</td>\n",
       "    </tr>\n",
       "    <tr>\n",
       "      <th>75%</th>\n",
       "      <td>668.500000</td>\n",
       "      <td>1.000000</td>\n",
       "      <td>3.000000</td>\n",
       "      <td>38.000000</td>\n",
       "      <td>1.000000</td>\n",
       "      <td>0.000000</td>\n",
       "      <td>31.000000</td>\n",
       "    </tr>\n",
       "    <tr>\n",
       "      <th>max</th>\n",
       "      <td>891.000000</td>\n",
       "      <td>1.000000</td>\n",
       "      <td>3.000000</td>\n",
       "      <td>80.000000</td>\n",
       "      <td>8.000000</td>\n",
       "      <td>6.000000</td>\n",
       "      <td>512.329200</td>\n",
       "    </tr>\n",
       "  </tbody>\n",
       "</table>\n",
       "</div>"
      ],
      "text/plain": [
       "       PassengerId    Survived      Pclass         Age       SibSp  \\\n",
       "count   891.000000  891.000000  891.000000  714.000000  891.000000   \n",
       "mean    446.000000    0.383838    2.308642   29.699118    0.523008   \n",
       "std     257.353842    0.486592    0.836071   14.526497    1.102743   \n",
       "min       1.000000    0.000000    1.000000    0.420000    0.000000   \n",
       "25%     223.500000    0.000000    2.000000   20.125000    0.000000   \n",
       "50%     446.000000    0.000000    3.000000   28.000000    0.000000   \n",
       "75%     668.500000    1.000000    3.000000   38.000000    1.000000   \n",
       "max     891.000000    1.000000    3.000000   80.000000    8.000000   \n",
       "\n",
       "            Parch        Fare  \n",
       "count  891.000000  891.000000  \n",
       "mean     0.381594   32.204208  \n",
       "std      0.806057   49.693429  \n",
       "min      0.000000    0.000000  \n",
       "25%      0.000000    7.910400  \n",
       "50%      0.000000   14.454200  \n",
       "75%      0.000000   31.000000  \n",
       "max      6.000000  512.329200  "
      ]
     },
     "execution_count": 9,
     "metadata": {},
     "output_type": "execute_result"
    }
   ],
   "source": [
    "df.describe()"
   ]
  },
  {
   "cell_type": "code",
   "execution_count": 10,
   "id": "4d8bd62a",
   "metadata": {
    "execution": {
     "iopub.execute_input": "2023-04-04T16:32:05.705637Z",
     "iopub.status.busy": "2023-04-04T16:32:05.704684Z",
     "iopub.status.idle": "2023-04-04T16:32:05.712086Z",
     "shell.execute_reply": "2023-04-04T16:32:05.710958Z"
    },
    "papermill": {
     "duration": 0.028064,
     "end_time": "2023-04-04T16:32:05.714398",
     "exception": false,
     "start_time": "2023-04-04T16:32:05.686334",
     "status": "completed"
    },
    "tags": []
   },
   "outputs": [
    {
     "data": {
      "text/plain": [
       "Index(['PassengerId', 'Survived', 'Pclass', 'Name', 'Sex', 'Age', 'SibSp',\n",
       "       'Parch', 'Ticket', 'Fare', 'Cabin', 'Embarked'],\n",
       "      dtype='object')"
      ]
     },
     "execution_count": 10,
     "metadata": {},
     "output_type": "execute_result"
    }
   ],
   "source": [
    "df.columns"
   ]
  },
  {
   "cell_type": "code",
   "execution_count": 11,
   "id": "2a058a9e",
   "metadata": {
    "execution": {
     "iopub.execute_input": "2023-04-04T16:32:05.748951Z",
     "iopub.status.busy": "2023-04-04T16:32:05.748115Z",
     "iopub.status.idle": "2023-04-04T16:32:05.758579Z",
     "shell.execute_reply": "2023-04-04T16:32:05.757481Z"
    },
    "papermill": {
     "duration": 0.03028,
     "end_time": "2023-04-04T16:32:05.760867",
     "exception": false,
     "start_time": "2023-04-04T16:32:05.730587",
     "status": "completed"
    },
    "tags": []
   },
   "outputs": [
    {
     "data": {
      "text/plain": [
       "PassengerId      0\n",
       "Survived         0\n",
       "Pclass           0\n",
       "Name             0\n",
       "Sex              0\n",
       "Age            177\n",
       "SibSp            0\n",
       "Parch            0\n",
       "Ticket           0\n",
       "Fare             0\n",
       "Cabin          687\n",
       "Embarked         2\n",
       "dtype: int64"
      ]
     },
     "execution_count": 11,
     "metadata": {},
     "output_type": "execute_result"
    }
   ],
   "source": [
    "df.isnull().sum()"
   ]
  },
  {
   "cell_type": "markdown",
   "id": "2e3c8641",
   "metadata": {
    "papermill": {
     "duration": 0.016254,
     "end_time": "2023-04-04T16:32:05.793947",
     "exception": false,
     "start_time": "2023-04-04T16:32:05.777693",
     "status": "completed"
    },
    "tags": []
   },
   "source": [
    "# **Handling Null values**"
   ]
  },
  {
   "cell_type": "code",
   "execution_count": 12,
   "id": "5f469c2f",
   "metadata": {
    "execution": {
     "iopub.execute_input": "2023-04-04T16:32:05.828926Z",
     "iopub.status.busy": "2023-04-04T16:32:05.828531Z",
     "iopub.status.idle": "2023-04-04T16:32:05.836955Z",
     "shell.execute_reply": "2023-04-04T16:32:05.835904Z"
    },
    "papermill": {
     "duration": 0.028513,
     "end_time": "2023-04-04T16:32:05.839056",
     "exception": false,
     "start_time": "2023-04-04T16:32:05.810543",
     "status": "completed"
    },
    "tags": []
   },
   "outputs": [
    {
     "data": {
      "text/plain": [
       "S    644\n",
       "C    168\n",
       "Q     77\n",
       "Name: Embarked, dtype: int64"
      ]
     },
     "execution_count": 12,
     "metadata": {},
     "output_type": "execute_result"
    }
   ],
   "source": [
    "df['Embarked'].value_counts()"
   ]
  },
  {
   "cell_type": "code",
   "execution_count": 13,
   "id": "c60b457d",
   "metadata": {
    "execution": {
     "iopub.execute_input": "2023-04-04T16:32:05.875306Z",
     "iopub.status.busy": "2023-04-04T16:32:05.874186Z",
     "iopub.status.idle": "2023-04-04T16:32:05.879907Z",
     "shell.execute_reply": "2023-04-04T16:32:05.879115Z"
    },
    "papermill": {
     "duration": 0.026009,
     "end_time": "2023-04-04T16:32:05.882165",
     "exception": false,
     "start_time": "2023-04-04T16:32:05.856156",
     "status": "completed"
    },
    "tags": []
   },
   "outputs": [],
   "source": [
    "# AS S is most occurred element in column\n",
    "df['Embarked'].fillna(\"S\", inplace = True)"
   ]
  },
  {
   "cell_type": "code",
   "execution_count": 14,
   "id": "3d24ec75",
   "metadata": {
    "execution": {
     "iopub.execute_input": "2023-04-04T16:32:05.917390Z",
     "iopub.status.busy": "2023-04-04T16:32:05.916948Z",
     "iopub.status.idle": "2023-04-04T16:32:05.923844Z",
     "shell.execute_reply": "2023-04-04T16:32:05.922867Z"
    },
    "papermill": {
     "duration": 0.027351,
     "end_time": "2023-04-04T16:32:05.926181",
     "exception": false,
     "start_time": "2023-04-04T16:32:05.898830",
     "status": "completed"
    },
    "tags": []
   },
   "outputs": [
    {
     "data": {
      "text/plain": [
       "29.69911764705882"
      ]
     },
     "execution_count": 14,
     "metadata": {},
     "output_type": "execute_result"
    }
   ],
   "source": [
    "#Mean before handling null values \n",
    "df['Age'].mean()"
   ]
  },
  {
   "cell_type": "code",
   "execution_count": 15,
   "id": "2bd09cd6",
   "metadata": {
    "execution": {
     "iopub.execute_input": "2023-04-04T16:32:05.961018Z",
     "iopub.status.busy": "2023-04-04T16:32:05.960287Z",
     "iopub.status.idle": "2023-04-04T16:32:05.968209Z",
     "shell.execute_reply": "2023-04-04T16:32:05.966648Z"
    },
    "papermill": {
     "duration": 0.028064,
     "end_time": "2023-04-04T16:32:05.970712",
     "exception": false,
     "start_time": "2023-04-04T16:32:05.942648",
     "status": "completed"
    },
    "tags": []
   },
   "outputs": [],
   "source": [
    "#missing values are filled by the value in previous column\n",
    "df['Age'].fillna( method ='ffill', inplace = True)"
   ]
  },
  {
   "cell_type": "code",
   "execution_count": 16,
   "id": "bfc15c77",
   "metadata": {
    "execution": {
     "iopub.execute_input": "2023-04-04T16:32:06.006112Z",
     "iopub.status.busy": "2023-04-04T16:32:06.005376Z",
     "iopub.status.idle": "2023-04-04T16:32:06.012952Z",
     "shell.execute_reply": "2023-04-04T16:32:06.011796Z"
    },
    "papermill": {
     "duration": 0.028042,
     "end_time": "2023-04-04T16:32:06.015359",
     "exception": false,
     "start_time": "2023-04-04T16:32:05.987317",
     "status": "completed"
    },
    "tags": []
   },
   "outputs": [
    {
     "data": {
      "text/plain": [
       "29.581560044893376"
      ]
     },
     "execution_count": 16,
     "metadata": {},
     "output_type": "execute_result"
    }
   ],
   "source": [
    "#Mean after handling null values\n",
    "df['Age'].mean()"
   ]
  },
  {
   "cell_type": "markdown",
   "id": "8be7401d",
   "metadata": {
    "papermill": {
     "duration": 0.016593,
     "end_time": "2023-04-04T16:32:06.048643",
     "exception": false,
     "start_time": "2023-04-04T16:32:06.032050",
     "status": "completed"
    },
    "tags": []
   },
   "source": [
    "# **Survived analysis**"
   ]
  },
  {
   "cell_type": "code",
   "execution_count": 17,
   "id": "dcce832f",
   "metadata": {
    "execution": {
     "iopub.execute_input": "2023-04-04T16:32:06.084316Z",
     "iopub.status.busy": "2023-04-04T16:32:06.083889Z",
     "iopub.status.idle": "2023-04-04T16:32:06.093010Z",
     "shell.execute_reply": "2023-04-04T16:32:06.091822Z"
    },
    "papermill": {
     "duration": 0.029497,
     "end_time": "2023-04-04T16:32:06.095227",
     "exception": false,
     "start_time": "2023-04-04T16:32:06.065730",
     "status": "completed"
    },
    "tags": []
   },
   "outputs": [],
   "source": [
    "#replacing 1 and 0 as per condition for better usage\n",
    "df['Survived']=df['Survived'].astype(\"string\")\n",
    "df['Survived'].replace('0','Died',inplace=True)\n",
    "df['Survived'].replace('1','Survived',inplace=True)"
   ]
  },
  {
   "cell_type": "code",
   "execution_count": 18,
   "id": "add7b6a8",
   "metadata": {
    "execution": {
     "iopub.execute_input": "2023-04-04T16:32:06.130593Z",
     "iopub.status.busy": "2023-04-04T16:32:06.130174Z",
     "iopub.status.idle": "2023-04-04T16:32:06.139853Z",
     "shell.execute_reply": "2023-04-04T16:32:06.138823Z"
    },
    "papermill": {
     "duration": 0.030358,
     "end_time": "2023-04-04T16:32:06.142209",
     "exception": false,
     "start_time": "2023-04-04T16:32:06.111851",
     "status": "completed"
    },
    "tags": []
   },
   "outputs": [
    {
     "data": {
      "text/plain": [
       "Died        549\n",
       "Survived    342\n",
       "Name: Survived, dtype: Int64"
      ]
     },
     "execution_count": 18,
     "metadata": {},
     "output_type": "execute_result"
    }
   ],
   "source": [
    "df['Survived'].value_counts()"
   ]
  },
  {
   "cell_type": "code",
   "execution_count": 19,
   "id": "f030eca0",
   "metadata": {
    "execution": {
     "iopub.execute_input": "2023-04-04T16:32:06.177851Z",
     "iopub.status.busy": "2023-04-04T16:32:06.177464Z",
     "iopub.status.idle": "2023-04-04T16:32:07.877793Z",
     "shell.execute_reply": "2023-04-04T16:32:07.876739Z"
    },
    "papermill": {
     "duration": 1.721115,
     "end_time": "2023-04-04T16:32:07.880197",
     "exception": false,
     "start_time": "2023-04-04T16:32:06.159082",
     "status": "completed"
    },
    "tags": []
   },
   "outputs": [
    {
     "data": {
      "text/html": [
       "        <script type=\"text/javascript\">\n",
       "        window.PlotlyConfig = {MathJaxConfig: 'local'};\n",
       "        if (window.MathJax && window.MathJax.Hub && window.MathJax.Hub.Config) {window.MathJax.Hub.Config({SVG: {font: \"STIX-Web\"}});}\n",
       "        if (typeof require !== 'undefined') {\n",
       "        require.undef(\"plotly\");\n",
       "        requirejs.config({\n",
       "            paths: {\n",
       "                'plotly': ['https://cdn.plot.ly/plotly-2.18.0.min']\n",
       "            }\n",
       "        });\n",
       "        require(['plotly'], function(Plotly) {\n",
       "            window._Plotly = Plotly;\n",
       "        });\n",
       "        }\n",
       "        </script>\n",
       "        "
      ]
     },
     "metadata": {},
     "output_type": "display_data"
    },
    {
     "data": {
      "text/html": [
       "<div>                            <div id=\"d47ec1a8-e55d-48b7-902c-13f6b85604ea\" class=\"plotly-graph-div\" style=\"height:500px; width:800px;\"></div>            <script type=\"text/javascript\">                require([\"plotly\"], function(Plotly) {                    window.PLOTLYENV=window.PLOTLYENV || {};                                    if (document.getElementById(\"d47ec1a8-e55d-48b7-902c-13f6b85604ea\")) {                    Plotly.newPlot(                        \"d47ec1a8-e55d-48b7-902c-13f6b85604ea\",                        [{\"alignmentgroup\":\"True\",\"bingroup\":\"x\",\"hovertemplate\":\"Survived=%{x}<br>count=%{y}<extra></extra>\",\"legendgroup\":\"Died\",\"marker\":{\"color\":\"#636efa\",\"pattern\":{\"shape\":\"\"}},\"name\":\"Died\",\"offsetgroup\":\"Died\",\"orientation\":\"v\",\"showlegend\":true,\"texttemplate\":\"%{value:3s}\",\"x\":[\"Died\",\"Died\",\"Died\",\"Died\",\"Died\",\"Died\",\"Died\",\"Died\",\"Died\",\"Died\",\"Died\",\"Died\",\"Died\",\"Died\",\"Died\",\"Died\",\"Died\",\"Died\",\"Died\",\"Died\",\"Died\",\"Died\",\"Died\",\"Died\",\"Died\",\"Died\",\"Died\",\"Died\",\"Died\",\"Died\",\"Died\",\"Died\",\"Died\",\"Died\",\"Died\",\"Died\",\"Died\",\"Died\",\"Died\",\"Died\",\"Died\",\"Died\",\"Died\",\"Died\",\"Died\",\"Died\",\"Died\",\"Died\",\"Died\",\"Died\",\"Died\",\"Died\",\"Died\",\"Died\",\"Died\",\"Died\",\"Died\",\"Died\",\"Died\",\"Died\",\"Died\",\"Died\",\"Died\",\"Died\",\"Died\",\"Died\",\"Died\",\"Died\",\"Died\",\"Died\",\"Died\",\"Died\",\"Died\",\"Died\",\"Died\",\"Died\",\"Died\",\"Died\",\"Died\",\"Died\",\"Died\",\"Died\",\"Died\",\"Died\",\"Died\",\"Died\",\"Died\",\"Died\",\"Died\",\"Died\",\"Died\",\"Died\",\"Died\",\"Died\",\"Died\",\"Died\",\"Died\",\"Died\",\"Died\",\"Died\",\"Died\",\"Died\",\"Died\",\"Died\",\"Died\",\"Died\",\"Died\",\"Died\",\"Died\",\"Died\",\"Died\",\"Died\",\"Died\",\"Died\",\"Died\",\"Died\",\"Died\",\"Died\",\"Died\",\"Died\",\"Died\",\"Died\",\"Died\",\"Died\",\"Died\",\"Died\",\"Died\",\"Died\",\"Died\",\"Died\",\"Died\",\"Died\",\"Died\",\"Died\",\"Died\",\"Died\",\"Died\",\"Died\",\"Died\",\"Died\",\"Died\",\"Died\",\"Died\",\"Died\",\"Died\",\"Died\",\"Died\",\"Died\",\"Died\",\"Died\",\"Died\",\"Died\",\"Died\",\"Died\",\"Died\",\"Died\",\"Died\",\"Died\",\"Died\",\"Died\",\"Died\",\"Died\",\"Died\",\"Died\",\"Died\",\"Died\",\"Died\",\"Died\",\"Died\",\"Died\",\"Died\",\"Died\",\"Died\",\"Died\",\"Died\",\"Died\",\"Died\",\"Died\",\"Died\",\"Died\",\"Died\",\"Died\",\"Died\",\"Died\",\"Died\",\"Died\",\"Died\",\"Died\",\"Died\",\"Died\",\"Died\",\"Died\",\"Died\",\"Died\",\"Died\",\"Died\",\"Died\",\"Died\",\"Died\",\"Died\",\"Died\",\"Died\",\"Died\",\"Died\",\"Died\",\"Died\",\"Died\",\"Died\",\"Died\",\"Died\",\"Died\",\"Died\",\"Died\",\"Died\",\"Died\",\"Died\",\"Died\",\"Died\",\"Died\",\"Died\",\"Died\",\"Died\",\"Died\",\"Died\",\"Died\",\"Died\",\"Died\",\"Died\",\"Died\",\"Died\",\"Died\",\"Died\",\"Died\",\"Died\",\"Died\",\"Died\",\"Died\",\"Died\",\"Died\",\"Died\",\"Died\",\"Died\",\"Died\",\"Died\",\"Died\",\"Died\",\"Died\",\"Died\",\"Died\",\"Died\",\"Died\",\"Died\",\"Died\",\"Died\",\"Died\",\"Died\",\"Died\",\"Died\",\"Died\",\"Died\",\"Died\",\"Died\",\"Died\",\"Died\",\"Died\",\"Died\",\"Died\",\"Died\",\"Died\",\"Died\",\"Died\",\"Died\",\"Died\",\"Died\",\"Died\",\"Died\",\"Died\",\"Died\",\"Died\",\"Died\",\"Died\",\"Died\",\"Died\",\"Died\",\"Died\",\"Died\",\"Died\",\"Died\",\"Died\",\"Died\",\"Died\",\"Died\",\"Died\",\"Died\",\"Died\",\"Died\",\"Died\",\"Died\",\"Died\",\"Died\",\"Died\",\"Died\",\"Died\",\"Died\",\"Died\",\"Died\",\"Died\",\"Died\",\"Died\",\"Died\",\"Died\",\"Died\",\"Died\",\"Died\",\"Died\",\"Died\",\"Died\",\"Died\",\"Died\",\"Died\",\"Died\",\"Died\",\"Died\",\"Died\",\"Died\",\"Died\",\"Died\",\"Died\",\"Died\",\"Died\",\"Died\",\"Died\",\"Died\",\"Died\",\"Died\",\"Died\",\"Died\",\"Died\",\"Died\",\"Died\",\"Died\",\"Died\",\"Died\",\"Died\",\"Died\",\"Died\",\"Died\",\"Died\",\"Died\",\"Died\",\"Died\",\"Died\",\"Died\",\"Died\",\"Died\",\"Died\",\"Died\",\"Died\",\"Died\",\"Died\",\"Died\",\"Died\",\"Died\",\"Died\",\"Died\",\"Died\",\"Died\",\"Died\",\"Died\",\"Died\",\"Died\",\"Died\",\"Died\",\"Died\",\"Died\",\"Died\",\"Died\",\"Died\",\"Died\",\"Died\",\"Died\",\"Died\",\"Died\",\"Died\",\"Died\",\"Died\",\"Died\",\"Died\",\"Died\",\"Died\",\"Died\",\"Died\",\"Died\",\"Died\",\"Died\",\"Died\",\"Died\",\"Died\",\"Died\",\"Died\",\"Died\",\"Died\",\"Died\",\"Died\",\"Died\",\"Died\",\"Died\",\"Died\",\"Died\",\"Died\",\"Died\",\"Died\",\"Died\",\"Died\",\"Died\",\"Died\",\"Died\",\"Died\",\"Died\",\"Died\",\"Died\",\"Died\",\"Died\",\"Died\",\"Died\",\"Died\",\"Died\",\"Died\",\"Died\",\"Died\",\"Died\",\"Died\",\"Died\",\"Died\",\"Died\",\"Died\",\"Died\",\"Died\",\"Died\",\"Died\",\"Died\",\"Died\",\"Died\",\"Died\",\"Died\",\"Died\",\"Died\",\"Died\",\"Died\",\"Died\",\"Died\",\"Died\",\"Died\",\"Died\",\"Died\",\"Died\",\"Died\",\"Died\",\"Died\",\"Died\",\"Died\",\"Died\",\"Died\",\"Died\",\"Died\",\"Died\",\"Died\",\"Died\",\"Died\",\"Died\",\"Died\",\"Died\",\"Died\",\"Died\",\"Died\",\"Died\",\"Died\",\"Died\",\"Died\",\"Died\",\"Died\",\"Died\",\"Died\",\"Died\",\"Died\",\"Died\",\"Died\",\"Died\",\"Died\",\"Died\",\"Died\",\"Died\",\"Died\",\"Died\",\"Died\",\"Died\",\"Died\",\"Died\",\"Died\",\"Died\",\"Died\",\"Died\",\"Died\",\"Died\",\"Died\",\"Died\",\"Died\",\"Died\",\"Died\",\"Died\",\"Died\",\"Died\",\"Died\",\"Died\",\"Died\",\"Died\",\"Died\",\"Died\",\"Died\",\"Died\",\"Died\",\"Died\",\"Died\",\"Died\",\"Died\",\"Died\",\"Died\",\"Died\",\"Died\",\"Died\",\"Died\",\"Died\",\"Died\",\"Died\",\"Died\",\"Died\",\"Died\",\"Died\",\"Died\",\"Died\",\"Died\",\"Died\",\"Died\",\"Died\",\"Died\",\"Died\",\"Died\",\"Died\",\"Died\"],\"xaxis\":\"x\",\"yaxis\":\"y\",\"type\":\"histogram\"},{\"alignmentgroup\":\"True\",\"bingroup\":\"x\",\"hovertemplate\":\"Survived=%{x}<br>count=%{y}<extra></extra>\",\"legendgroup\":\"Survived\",\"marker\":{\"color\":\"#EF553B\",\"pattern\":{\"shape\":\"\"}},\"name\":\"Survived\",\"offsetgroup\":\"Survived\",\"orientation\":\"v\",\"showlegend\":true,\"texttemplate\":\"%{value:3s}\",\"x\":[\"Survived\",\"Survived\",\"Survived\",\"Survived\",\"Survived\",\"Survived\",\"Survived\",\"Survived\",\"Survived\",\"Survived\",\"Survived\",\"Survived\",\"Survived\",\"Survived\",\"Survived\",\"Survived\",\"Survived\",\"Survived\",\"Survived\",\"Survived\",\"Survived\",\"Survived\",\"Survived\",\"Survived\",\"Survived\",\"Survived\",\"Survived\",\"Survived\",\"Survived\",\"Survived\",\"Survived\",\"Survived\",\"Survived\",\"Survived\",\"Survived\",\"Survived\",\"Survived\",\"Survived\",\"Survived\",\"Survived\",\"Survived\",\"Survived\",\"Survived\",\"Survived\",\"Survived\",\"Survived\",\"Survived\",\"Survived\",\"Survived\",\"Survived\",\"Survived\",\"Survived\",\"Survived\",\"Survived\",\"Survived\",\"Survived\",\"Survived\",\"Survived\",\"Survived\",\"Survived\",\"Survived\",\"Survived\",\"Survived\",\"Survived\",\"Survived\",\"Survived\",\"Survived\",\"Survived\",\"Survived\",\"Survived\",\"Survived\",\"Survived\",\"Survived\",\"Survived\",\"Survived\",\"Survived\",\"Survived\",\"Survived\",\"Survived\",\"Survived\",\"Survived\",\"Survived\",\"Survived\",\"Survived\",\"Survived\",\"Survived\",\"Survived\",\"Survived\",\"Survived\",\"Survived\",\"Survived\",\"Survived\",\"Survived\",\"Survived\",\"Survived\",\"Survived\",\"Survived\",\"Survived\",\"Survived\",\"Survived\",\"Survived\",\"Survived\",\"Survived\",\"Survived\",\"Survived\",\"Survived\",\"Survived\",\"Survived\",\"Survived\",\"Survived\",\"Survived\",\"Survived\",\"Survived\",\"Survived\",\"Survived\",\"Survived\",\"Survived\",\"Survived\",\"Survived\",\"Survived\",\"Survived\",\"Survived\",\"Survived\",\"Survived\",\"Survived\",\"Survived\",\"Survived\",\"Survived\",\"Survived\",\"Survived\",\"Survived\",\"Survived\",\"Survived\",\"Survived\",\"Survived\",\"Survived\",\"Survived\",\"Survived\",\"Survived\",\"Survived\",\"Survived\",\"Survived\",\"Survived\",\"Survived\",\"Survived\",\"Survived\",\"Survived\",\"Survived\",\"Survived\",\"Survived\",\"Survived\",\"Survived\",\"Survived\",\"Survived\",\"Survived\",\"Survived\",\"Survived\",\"Survived\",\"Survived\",\"Survived\",\"Survived\",\"Survived\",\"Survived\",\"Survived\",\"Survived\",\"Survived\",\"Survived\",\"Survived\",\"Survived\",\"Survived\",\"Survived\",\"Survived\",\"Survived\",\"Survived\",\"Survived\",\"Survived\",\"Survived\",\"Survived\",\"Survived\",\"Survived\",\"Survived\",\"Survived\",\"Survived\",\"Survived\",\"Survived\",\"Survived\",\"Survived\",\"Survived\",\"Survived\",\"Survived\",\"Survived\",\"Survived\",\"Survived\",\"Survived\",\"Survived\",\"Survived\",\"Survived\",\"Survived\",\"Survived\",\"Survived\",\"Survived\",\"Survived\",\"Survived\",\"Survived\",\"Survived\",\"Survived\",\"Survived\",\"Survived\",\"Survived\",\"Survived\",\"Survived\",\"Survived\",\"Survived\",\"Survived\",\"Survived\",\"Survived\",\"Survived\",\"Survived\",\"Survived\",\"Survived\",\"Survived\",\"Survived\",\"Survived\",\"Survived\",\"Survived\",\"Survived\",\"Survived\",\"Survived\",\"Survived\",\"Survived\",\"Survived\",\"Survived\",\"Survived\",\"Survived\",\"Survived\",\"Survived\",\"Survived\",\"Survived\",\"Survived\",\"Survived\",\"Survived\",\"Survived\",\"Survived\",\"Survived\",\"Survived\",\"Survived\",\"Survived\",\"Survived\",\"Survived\",\"Survived\",\"Survived\",\"Survived\",\"Survived\",\"Survived\",\"Survived\",\"Survived\",\"Survived\",\"Survived\",\"Survived\",\"Survived\",\"Survived\",\"Survived\",\"Survived\",\"Survived\",\"Survived\",\"Survived\",\"Survived\",\"Survived\",\"Survived\",\"Survived\",\"Survived\",\"Survived\",\"Survived\",\"Survived\",\"Survived\",\"Survived\",\"Survived\",\"Survived\",\"Survived\",\"Survived\",\"Survived\",\"Survived\",\"Survived\",\"Survived\",\"Survived\",\"Survived\",\"Survived\",\"Survived\",\"Survived\",\"Survived\",\"Survived\",\"Survived\",\"Survived\",\"Survived\",\"Survived\",\"Survived\",\"Survived\",\"Survived\",\"Survived\",\"Survived\",\"Survived\",\"Survived\",\"Survived\",\"Survived\",\"Survived\",\"Survived\",\"Survived\",\"Survived\",\"Survived\",\"Survived\",\"Survived\",\"Survived\",\"Survived\",\"Survived\",\"Survived\",\"Survived\",\"Survived\",\"Survived\",\"Survived\",\"Survived\",\"Survived\",\"Survived\",\"Survived\",\"Survived\",\"Survived\",\"Survived\",\"Survived\",\"Survived\",\"Survived\",\"Survived\",\"Survived\",\"Survived\",\"Survived\",\"Survived\",\"Survived\",\"Survived\",\"Survived\",\"Survived\",\"Survived\",\"Survived\",\"Survived\",\"Survived\"],\"xaxis\":\"x\",\"yaxis\":\"y\",\"type\":\"histogram\"}],                        {\"template\":{\"data\":{\"histogram2dcontour\":[{\"type\":\"histogram2dcontour\",\"colorbar\":{\"outlinewidth\":0,\"ticks\":\"\"},\"colorscale\":[[0.0,\"#0d0887\"],[0.1111111111111111,\"#46039f\"],[0.2222222222222222,\"#7201a8\"],[0.3333333333333333,\"#9c179e\"],[0.4444444444444444,\"#bd3786\"],[0.5555555555555556,\"#d8576b\"],[0.6666666666666666,\"#ed7953\"],[0.7777777777777778,\"#fb9f3a\"],[0.8888888888888888,\"#fdca26\"],[1.0,\"#f0f921\"]]}],\"choropleth\":[{\"type\":\"choropleth\",\"colorbar\":{\"outlinewidth\":0,\"ticks\":\"\"}}],\"histogram2d\":[{\"type\":\"histogram2d\",\"colorbar\":{\"outlinewidth\":0,\"ticks\":\"\"},\"colorscale\":[[0.0,\"#0d0887\"],[0.1111111111111111,\"#46039f\"],[0.2222222222222222,\"#7201a8\"],[0.3333333333333333,\"#9c179e\"],[0.4444444444444444,\"#bd3786\"],[0.5555555555555556,\"#d8576b\"],[0.6666666666666666,\"#ed7953\"],[0.7777777777777778,\"#fb9f3a\"],[0.8888888888888888,\"#fdca26\"],[1.0,\"#f0f921\"]]}],\"heatmap\":[{\"type\":\"heatmap\",\"colorbar\":{\"outlinewidth\":0,\"ticks\":\"\"},\"colorscale\":[[0.0,\"#0d0887\"],[0.1111111111111111,\"#46039f\"],[0.2222222222222222,\"#7201a8\"],[0.3333333333333333,\"#9c179e\"],[0.4444444444444444,\"#bd3786\"],[0.5555555555555556,\"#d8576b\"],[0.6666666666666666,\"#ed7953\"],[0.7777777777777778,\"#fb9f3a\"],[0.8888888888888888,\"#fdca26\"],[1.0,\"#f0f921\"]]}],\"heatmapgl\":[{\"type\":\"heatmapgl\",\"colorbar\":{\"outlinewidth\":0,\"ticks\":\"\"},\"colorscale\":[[0.0,\"#0d0887\"],[0.1111111111111111,\"#46039f\"],[0.2222222222222222,\"#7201a8\"],[0.3333333333333333,\"#9c179e\"],[0.4444444444444444,\"#bd3786\"],[0.5555555555555556,\"#d8576b\"],[0.6666666666666666,\"#ed7953\"],[0.7777777777777778,\"#fb9f3a\"],[0.8888888888888888,\"#fdca26\"],[1.0,\"#f0f921\"]]}],\"contourcarpet\":[{\"type\":\"contourcarpet\",\"colorbar\":{\"outlinewidth\":0,\"ticks\":\"\"}}],\"contour\":[{\"type\":\"contour\",\"colorbar\":{\"outlinewidth\":0,\"ticks\":\"\"},\"colorscale\":[[0.0,\"#0d0887\"],[0.1111111111111111,\"#46039f\"],[0.2222222222222222,\"#7201a8\"],[0.3333333333333333,\"#9c179e\"],[0.4444444444444444,\"#bd3786\"],[0.5555555555555556,\"#d8576b\"],[0.6666666666666666,\"#ed7953\"],[0.7777777777777778,\"#fb9f3a\"],[0.8888888888888888,\"#fdca26\"],[1.0,\"#f0f921\"]]}],\"surface\":[{\"type\":\"surface\",\"colorbar\":{\"outlinewidth\":0,\"ticks\":\"\"},\"colorscale\":[[0.0,\"#0d0887\"],[0.1111111111111111,\"#46039f\"],[0.2222222222222222,\"#7201a8\"],[0.3333333333333333,\"#9c179e\"],[0.4444444444444444,\"#bd3786\"],[0.5555555555555556,\"#d8576b\"],[0.6666666666666666,\"#ed7953\"],[0.7777777777777778,\"#fb9f3a\"],[0.8888888888888888,\"#fdca26\"],[1.0,\"#f0f921\"]]}],\"mesh3d\":[{\"type\":\"mesh3d\",\"colorbar\":{\"outlinewidth\":0,\"ticks\":\"\"}}],\"scatter\":[{\"fillpattern\":{\"fillmode\":\"overlay\",\"size\":10,\"solidity\":0.2},\"type\":\"scatter\"}],\"parcoords\":[{\"type\":\"parcoords\",\"line\":{\"colorbar\":{\"outlinewidth\":0,\"ticks\":\"\"}}}],\"scatterpolargl\":[{\"type\":\"scatterpolargl\",\"marker\":{\"colorbar\":{\"outlinewidth\":0,\"ticks\":\"\"}}}],\"bar\":[{\"error_x\":{\"color\":\"#2a3f5f\"},\"error_y\":{\"color\":\"#2a3f5f\"},\"marker\":{\"line\":{\"color\":\"#E5ECF6\",\"width\":0.5},\"pattern\":{\"fillmode\":\"overlay\",\"size\":10,\"solidity\":0.2}},\"type\":\"bar\"}],\"scattergeo\":[{\"type\":\"scattergeo\",\"marker\":{\"colorbar\":{\"outlinewidth\":0,\"ticks\":\"\"}}}],\"scatterpolar\":[{\"type\":\"scatterpolar\",\"marker\":{\"colorbar\":{\"outlinewidth\":0,\"ticks\":\"\"}}}],\"histogram\":[{\"marker\":{\"pattern\":{\"fillmode\":\"overlay\",\"size\":10,\"solidity\":0.2}},\"type\":\"histogram\"}],\"scattergl\":[{\"type\":\"scattergl\",\"marker\":{\"colorbar\":{\"outlinewidth\":0,\"ticks\":\"\"}}}],\"scatter3d\":[{\"type\":\"scatter3d\",\"line\":{\"colorbar\":{\"outlinewidth\":0,\"ticks\":\"\"}},\"marker\":{\"colorbar\":{\"outlinewidth\":0,\"ticks\":\"\"}}}],\"scattermapbox\":[{\"type\":\"scattermapbox\",\"marker\":{\"colorbar\":{\"outlinewidth\":0,\"ticks\":\"\"}}}],\"scatterternary\":[{\"type\":\"scatterternary\",\"marker\":{\"colorbar\":{\"outlinewidth\":0,\"ticks\":\"\"}}}],\"scattercarpet\":[{\"type\":\"scattercarpet\",\"marker\":{\"colorbar\":{\"outlinewidth\":0,\"ticks\":\"\"}}}],\"carpet\":[{\"aaxis\":{\"endlinecolor\":\"#2a3f5f\",\"gridcolor\":\"white\",\"linecolor\":\"white\",\"minorgridcolor\":\"white\",\"startlinecolor\":\"#2a3f5f\"},\"baxis\":{\"endlinecolor\":\"#2a3f5f\",\"gridcolor\":\"white\",\"linecolor\":\"white\",\"minorgridcolor\":\"white\",\"startlinecolor\":\"#2a3f5f\"},\"type\":\"carpet\"}],\"table\":[{\"cells\":{\"fill\":{\"color\":\"#EBF0F8\"},\"line\":{\"color\":\"white\"}},\"header\":{\"fill\":{\"color\":\"#C8D4E3\"},\"line\":{\"color\":\"white\"}},\"type\":\"table\"}],\"barpolar\":[{\"marker\":{\"line\":{\"color\":\"#E5ECF6\",\"width\":0.5},\"pattern\":{\"fillmode\":\"overlay\",\"size\":10,\"solidity\":0.2}},\"type\":\"barpolar\"}],\"pie\":[{\"automargin\":true,\"type\":\"pie\"}]},\"layout\":{\"autotypenumbers\":\"strict\",\"colorway\":[\"#636efa\",\"#EF553B\",\"#00cc96\",\"#ab63fa\",\"#FFA15A\",\"#19d3f3\",\"#FF6692\",\"#B6E880\",\"#FF97FF\",\"#FECB52\"],\"font\":{\"color\":\"#2a3f5f\"},\"hovermode\":\"closest\",\"hoverlabel\":{\"align\":\"left\"},\"paper_bgcolor\":\"white\",\"plot_bgcolor\":\"#E5ECF6\",\"polar\":{\"bgcolor\":\"#E5ECF6\",\"angularaxis\":{\"gridcolor\":\"white\",\"linecolor\":\"white\",\"ticks\":\"\"},\"radialaxis\":{\"gridcolor\":\"white\",\"linecolor\":\"white\",\"ticks\":\"\"}},\"ternary\":{\"bgcolor\":\"#E5ECF6\",\"aaxis\":{\"gridcolor\":\"white\",\"linecolor\":\"white\",\"ticks\":\"\"},\"baxis\":{\"gridcolor\":\"white\",\"linecolor\":\"white\",\"ticks\":\"\"},\"caxis\":{\"gridcolor\":\"white\",\"linecolor\":\"white\",\"ticks\":\"\"}},\"coloraxis\":{\"colorbar\":{\"outlinewidth\":0,\"ticks\":\"\"}},\"colorscale\":{\"sequential\":[[0.0,\"#0d0887\"],[0.1111111111111111,\"#46039f\"],[0.2222222222222222,\"#7201a8\"],[0.3333333333333333,\"#9c179e\"],[0.4444444444444444,\"#bd3786\"],[0.5555555555555556,\"#d8576b\"],[0.6666666666666666,\"#ed7953\"],[0.7777777777777778,\"#fb9f3a\"],[0.8888888888888888,\"#fdca26\"],[1.0,\"#f0f921\"]],\"sequentialminus\":[[0.0,\"#0d0887\"],[0.1111111111111111,\"#46039f\"],[0.2222222222222222,\"#7201a8\"],[0.3333333333333333,\"#9c179e\"],[0.4444444444444444,\"#bd3786\"],[0.5555555555555556,\"#d8576b\"],[0.6666666666666666,\"#ed7953\"],[0.7777777777777778,\"#fb9f3a\"],[0.8888888888888888,\"#fdca26\"],[1.0,\"#f0f921\"]],\"diverging\":[[0,\"#8e0152\"],[0.1,\"#c51b7d\"],[0.2,\"#de77ae\"],[0.3,\"#f1b6da\"],[0.4,\"#fde0ef\"],[0.5,\"#f7f7f7\"],[0.6,\"#e6f5d0\"],[0.7,\"#b8e186\"],[0.8,\"#7fbc41\"],[0.9,\"#4d9221\"],[1,\"#276419\"]]},\"xaxis\":{\"gridcolor\":\"white\",\"linecolor\":\"white\",\"ticks\":\"\",\"title\":{\"standoff\":15},\"zerolinecolor\":\"white\",\"automargin\":true,\"zerolinewidth\":2},\"yaxis\":{\"gridcolor\":\"white\",\"linecolor\":\"white\",\"ticks\":\"\",\"title\":{\"standoff\":15},\"zerolinecolor\":\"white\",\"automargin\":true,\"zerolinewidth\":2},\"scene\":{\"xaxis\":{\"backgroundcolor\":\"#E5ECF6\",\"gridcolor\":\"white\",\"linecolor\":\"white\",\"showbackground\":true,\"ticks\":\"\",\"zerolinecolor\":\"white\",\"gridwidth\":2},\"yaxis\":{\"backgroundcolor\":\"#E5ECF6\",\"gridcolor\":\"white\",\"linecolor\":\"white\",\"showbackground\":true,\"ticks\":\"\",\"zerolinecolor\":\"white\",\"gridwidth\":2},\"zaxis\":{\"backgroundcolor\":\"#E5ECF6\",\"gridcolor\":\"white\",\"linecolor\":\"white\",\"showbackground\":true,\"ticks\":\"\",\"zerolinecolor\":\"white\",\"gridwidth\":2}},\"shapedefaults\":{\"line\":{\"color\":\"#2a3f5f\"}},\"annotationdefaults\":{\"arrowcolor\":\"#2a3f5f\",\"arrowhead\":0,\"arrowwidth\":1},\"geo\":{\"bgcolor\":\"white\",\"landcolor\":\"#E5ECF6\",\"subunitcolor\":\"white\",\"showland\":true,\"showlakes\":true,\"lakecolor\":\"white\"},\"title\":{\"x\":0.05},\"mapbox\":{\"style\":\"light\"}}},\"xaxis\":{\"anchor\":\"y\",\"domain\":[0.0,1.0],\"title\":{\"text\":\"Survived\"},\"categoryorder\":\"array\",\"categoryarray\":[\"Died\",\"Survived\"]},\"yaxis\":{\"anchor\":\"x\",\"domain\":[0.0,1.0],\"title\":{\"text\":\"count\"}},\"legend\":{\"title\":{\"text\":\"Survived\"},\"tracegroupgap\":0},\"title\":{\"text\":\"Analysis of People survived\"},\"barmode\":\"relative\",\"height\":500,\"width\":800},                        {\"responsive\": true}                    ).then(function(){\n",
       "                            \n",
       "var gd = document.getElementById('d47ec1a8-e55d-48b7-902c-13f6b85604ea');\n",
       "var x = new MutationObserver(function (mutations, observer) {{\n",
       "        var display = window.getComputedStyle(gd).display;\n",
       "        if (!display || display === 'none') {{\n",
       "            console.log([gd, 'removed!']);\n",
       "            Plotly.purge(gd);\n",
       "            observer.disconnect();\n",
       "        }}\n",
       "}});\n",
       "\n",
       "// Listen for the removal of the full notebook cells\n",
       "var notebookContainer = gd.closest('#notebook-container');\n",
       "if (notebookContainer) {{\n",
       "    x.observe(notebookContainer, {childList: true});\n",
       "}}\n",
       "\n",
       "// Listen for the clearing of the current output cell\n",
       "var outputEl = gd.closest('.output');\n",
       "if (outputEl) {{\n",
       "    x.observe(outputEl, {childList: true});\n",
       "}}\n",
       "\n",
       "                        })                };                });            </script>        </div>"
      ]
     },
     "metadata": {},
     "output_type": "display_data"
    }
   ],
   "source": [
    "px.histogram(df,x='Survived',color='Survived',text_auto='3s',title='Analysis of People survived',width=800,height=500)"
   ]
  },
  {
   "cell_type": "markdown",
   "id": "e5ab0896",
   "metadata": {
    "papermill": {
     "duration": 0.016848,
     "end_time": "2023-04-04T16:32:07.914533",
     "exception": false,
     "start_time": "2023-04-04T16:32:07.897685",
     "status": "completed"
    },
    "tags": []
   },
   "source": [
    "# **No. of People survived/died based on gender**"
   ]
  },
  {
   "cell_type": "code",
   "execution_count": 20,
   "id": "eaada52f",
   "metadata": {
    "execution": {
     "iopub.execute_input": "2023-04-04T16:32:07.950329Z",
     "iopub.status.busy": "2023-04-04T16:32:07.949926Z",
     "iopub.status.idle": "2023-04-04T16:32:07.959904Z",
     "shell.execute_reply": "2023-04-04T16:32:07.959075Z"
    },
    "papermill": {
     "duration": 0.030915,
     "end_time": "2023-04-04T16:32:07.962287",
     "exception": false,
     "start_time": "2023-04-04T16:32:07.931372",
     "status": "completed"
    },
    "tags": []
   },
   "outputs": [],
   "source": [
    "dfsu = df.groupby(['Survived','Sex']).size().to_frame().sort_values([0], ascending = False).head(10).reset_index()"
   ]
  },
  {
   "cell_type": "code",
   "execution_count": 21,
   "id": "a07262b8",
   "metadata": {
    "execution": {
     "iopub.execute_input": "2023-04-04T16:32:07.998500Z",
     "iopub.status.busy": "2023-04-04T16:32:07.997217Z",
     "iopub.status.idle": "2023-04-04T16:32:08.008419Z",
     "shell.execute_reply": "2023-04-04T16:32:08.007239Z"
    },
    "papermill": {
     "duration": 0.031319,
     "end_time": "2023-04-04T16:32:08.010679",
     "exception": false,
     "start_time": "2023-04-04T16:32:07.979360",
     "status": "completed"
    },
    "tags": []
   },
   "outputs": [
    {
     "data": {
      "text/html": [
       "<div>\n",
       "<style scoped>\n",
       "    .dataframe tbody tr th:only-of-type {\n",
       "        vertical-align: middle;\n",
       "    }\n",
       "\n",
       "    .dataframe tbody tr th {\n",
       "        vertical-align: top;\n",
       "    }\n",
       "\n",
       "    .dataframe thead th {\n",
       "        text-align: right;\n",
       "    }\n",
       "</style>\n",
       "<table border=\"1\" class=\"dataframe\">\n",
       "  <thead>\n",
       "    <tr style=\"text-align: right;\">\n",
       "      <th></th>\n",
       "      <th>Survived</th>\n",
       "      <th>Sex</th>\n",
       "      <th>0</th>\n",
       "    </tr>\n",
       "  </thead>\n",
       "  <tbody>\n",
       "    <tr>\n",
       "      <th>0</th>\n",
       "      <td>Died</td>\n",
       "      <td>male</td>\n",
       "      <td>468</td>\n",
       "    </tr>\n",
       "    <tr>\n",
       "      <th>1</th>\n",
       "      <td>Survived</td>\n",
       "      <td>female</td>\n",
       "      <td>233</td>\n",
       "    </tr>\n",
       "    <tr>\n",
       "      <th>2</th>\n",
       "      <td>Survived</td>\n",
       "      <td>male</td>\n",
       "      <td>109</td>\n",
       "    </tr>\n",
       "    <tr>\n",
       "      <th>3</th>\n",
       "      <td>Died</td>\n",
       "      <td>female</td>\n",
       "      <td>81</td>\n",
       "    </tr>\n",
       "  </tbody>\n",
       "</table>\n",
       "</div>"
      ],
      "text/plain": [
       "   Survived     Sex    0\n",
       "0      Died    male  468\n",
       "1  Survived  female  233\n",
       "2  Survived    male  109\n",
       "3      Died  female   81"
      ]
     },
     "execution_count": 21,
     "metadata": {},
     "output_type": "execute_result"
    }
   ],
   "source": [
    "dfsu"
   ]
  },
  {
   "cell_type": "code",
   "execution_count": 22,
   "id": "ab247e4e",
   "metadata": {
    "execution": {
     "iopub.execute_input": "2023-04-04T16:32:08.049546Z",
     "iopub.status.busy": "2023-04-04T16:32:08.048596Z",
     "iopub.status.idle": "2023-04-04T16:32:08.136526Z",
     "shell.execute_reply": "2023-04-04T16:32:08.135324Z"
    },
    "papermill": {
     "duration": 0.110516,
     "end_time": "2023-04-04T16:32:08.139041",
     "exception": false,
     "start_time": "2023-04-04T16:32:08.028525",
     "status": "completed"
    },
    "tags": []
   },
   "outputs": [
    {
     "data": {
      "text/html": [
       "<div>                            <div id=\"a38581a7-4ed8-4883-9038-1ce9fcba1ffd\" class=\"plotly-graph-div\" style=\"height:525px; width:100%;\"></div>            <script type=\"text/javascript\">                require([\"plotly\"], function(Plotly) {                    window.PLOTLYENV=window.PLOTLYENV || {};                                    if (document.getElementById(\"a38581a7-4ed8-4883-9038-1ce9fcba1ffd\")) {                    Plotly.newPlot(                        \"a38581a7-4ed8-4883-9038-1ce9fcba1ffd\",                        [{\"alignmentgroup\":\"True\",\"hovertemplate\":\"Sex=male<br>Survived=%{x}<br>0=%{y}<extra></extra>\",\"legendgroup\":\"male\",\"marker\":{\"color\":\"#636efa\",\"pattern\":{\"shape\":\"\"}},\"name\":\"male\",\"offsetgroup\":\"male\",\"orientation\":\"v\",\"showlegend\":true,\"textposition\":\"auto\",\"texttemplate\":\"%{y:0.03}\",\"x\":[\"Died\",\"Survived\"],\"xaxis\":\"x\",\"y\":[468,109],\"yaxis\":\"y\",\"type\":\"bar\"},{\"alignmentgroup\":\"True\",\"hovertemplate\":\"Sex=female<br>Survived=%{x}<br>0=%{y}<extra></extra>\",\"legendgroup\":\"female\",\"marker\":{\"color\":\"#EF553B\",\"pattern\":{\"shape\":\"\"}},\"name\":\"female\",\"offsetgroup\":\"female\",\"orientation\":\"v\",\"showlegend\":true,\"textposition\":\"auto\",\"texttemplate\":\"%{y:0.03}\",\"x\":[\"Survived\",\"Died\"],\"xaxis\":\"x\",\"y\":[233,81],\"yaxis\":\"y\",\"type\":\"bar\"}],                        {\"template\":{\"data\":{\"histogram2dcontour\":[{\"type\":\"histogram2dcontour\",\"colorbar\":{\"outlinewidth\":0,\"ticks\":\"\"},\"colorscale\":[[0.0,\"#0d0887\"],[0.1111111111111111,\"#46039f\"],[0.2222222222222222,\"#7201a8\"],[0.3333333333333333,\"#9c179e\"],[0.4444444444444444,\"#bd3786\"],[0.5555555555555556,\"#d8576b\"],[0.6666666666666666,\"#ed7953\"],[0.7777777777777778,\"#fb9f3a\"],[0.8888888888888888,\"#fdca26\"],[1.0,\"#f0f921\"]]}],\"choropleth\":[{\"type\":\"choropleth\",\"colorbar\":{\"outlinewidth\":0,\"ticks\":\"\"}}],\"histogram2d\":[{\"type\":\"histogram2d\",\"colorbar\":{\"outlinewidth\":0,\"ticks\":\"\"},\"colorscale\":[[0.0,\"#0d0887\"],[0.1111111111111111,\"#46039f\"],[0.2222222222222222,\"#7201a8\"],[0.3333333333333333,\"#9c179e\"],[0.4444444444444444,\"#bd3786\"],[0.5555555555555556,\"#d8576b\"],[0.6666666666666666,\"#ed7953\"],[0.7777777777777778,\"#fb9f3a\"],[0.8888888888888888,\"#fdca26\"],[1.0,\"#f0f921\"]]}],\"heatmap\":[{\"type\":\"heatmap\",\"colorbar\":{\"outlinewidth\":0,\"ticks\":\"\"},\"colorscale\":[[0.0,\"#0d0887\"],[0.1111111111111111,\"#46039f\"],[0.2222222222222222,\"#7201a8\"],[0.3333333333333333,\"#9c179e\"],[0.4444444444444444,\"#bd3786\"],[0.5555555555555556,\"#d8576b\"],[0.6666666666666666,\"#ed7953\"],[0.7777777777777778,\"#fb9f3a\"],[0.8888888888888888,\"#fdca26\"],[1.0,\"#f0f921\"]]}],\"heatmapgl\":[{\"type\":\"heatmapgl\",\"colorbar\":{\"outlinewidth\":0,\"ticks\":\"\"},\"colorscale\":[[0.0,\"#0d0887\"],[0.1111111111111111,\"#46039f\"],[0.2222222222222222,\"#7201a8\"],[0.3333333333333333,\"#9c179e\"],[0.4444444444444444,\"#bd3786\"],[0.5555555555555556,\"#d8576b\"],[0.6666666666666666,\"#ed7953\"],[0.7777777777777778,\"#fb9f3a\"],[0.8888888888888888,\"#fdca26\"],[1.0,\"#f0f921\"]]}],\"contourcarpet\":[{\"type\":\"contourcarpet\",\"colorbar\":{\"outlinewidth\":0,\"ticks\":\"\"}}],\"contour\":[{\"type\":\"contour\",\"colorbar\":{\"outlinewidth\":0,\"ticks\":\"\"},\"colorscale\":[[0.0,\"#0d0887\"],[0.1111111111111111,\"#46039f\"],[0.2222222222222222,\"#7201a8\"],[0.3333333333333333,\"#9c179e\"],[0.4444444444444444,\"#bd3786\"],[0.5555555555555556,\"#d8576b\"],[0.6666666666666666,\"#ed7953\"],[0.7777777777777778,\"#fb9f3a\"],[0.8888888888888888,\"#fdca26\"],[1.0,\"#f0f921\"]]}],\"surface\":[{\"type\":\"surface\",\"colorbar\":{\"outlinewidth\":0,\"ticks\":\"\"},\"colorscale\":[[0.0,\"#0d0887\"],[0.1111111111111111,\"#46039f\"],[0.2222222222222222,\"#7201a8\"],[0.3333333333333333,\"#9c179e\"],[0.4444444444444444,\"#bd3786\"],[0.5555555555555556,\"#d8576b\"],[0.6666666666666666,\"#ed7953\"],[0.7777777777777778,\"#fb9f3a\"],[0.8888888888888888,\"#fdca26\"],[1.0,\"#f0f921\"]]}],\"mesh3d\":[{\"type\":\"mesh3d\",\"colorbar\":{\"outlinewidth\":0,\"ticks\":\"\"}}],\"scatter\":[{\"fillpattern\":{\"fillmode\":\"overlay\",\"size\":10,\"solidity\":0.2},\"type\":\"scatter\"}],\"parcoords\":[{\"type\":\"parcoords\",\"line\":{\"colorbar\":{\"outlinewidth\":0,\"ticks\":\"\"}}}],\"scatterpolargl\":[{\"type\":\"scatterpolargl\",\"marker\":{\"colorbar\":{\"outlinewidth\":0,\"ticks\":\"\"}}}],\"bar\":[{\"error_x\":{\"color\":\"#2a3f5f\"},\"error_y\":{\"color\":\"#2a3f5f\"},\"marker\":{\"line\":{\"color\":\"#E5ECF6\",\"width\":0.5},\"pattern\":{\"fillmode\":\"overlay\",\"size\":10,\"solidity\":0.2}},\"type\":\"bar\"}],\"scattergeo\":[{\"type\":\"scattergeo\",\"marker\":{\"colorbar\":{\"outlinewidth\":0,\"ticks\":\"\"}}}],\"scatterpolar\":[{\"type\":\"scatterpolar\",\"marker\":{\"colorbar\":{\"outlinewidth\":0,\"ticks\":\"\"}}}],\"histogram\":[{\"marker\":{\"pattern\":{\"fillmode\":\"overlay\",\"size\":10,\"solidity\":0.2}},\"type\":\"histogram\"}],\"scattergl\":[{\"type\":\"scattergl\",\"marker\":{\"colorbar\":{\"outlinewidth\":0,\"ticks\":\"\"}}}],\"scatter3d\":[{\"type\":\"scatter3d\",\"line\":{\"colorbar\":{\"outlinewidth\":0,\"ticks\":\"\"}},\"marker\":{\"colorbar\":{\"outlinewidth\":0,\"ticks\":\"\"}}}],\"scattermapbox\":[{\"type\":\"scattermapbox\",\"marker\":{\"colorbar\":{\"outlinewidth\":0,\"ticks\":\"\"}}}],\"scatterternary\":[{\"type\":\"scatterternary\",\"marker\":{\"colorbar\":{\"outlinewidth\":0,\"ticks\":\"\"}}}],\"scattercarpet\":[{\"type\":\"scattercarpet\",\"marker\":{\"colorbar\":{\"outlinewidth\":0,\"ticks\":\"\"}}}],\"carpet\":[{\"aaxis\":{\"endlinecolor\":\"#2a3f5f\",\"gridcolor\":\"white\",\"linecolor\":\"white\",\"minorgridcolor\":\"white\",\"startlinecolor\":\"#2a3f5f\"},\"baxis\":{\"endlinecolor\":\"#2a3f5f\",\"gridcolor\":\"white\",\"linecolor\":\"white\",\"minorgridcolor\":\"white\",\"startlinecolor\":\"#2a3f5f\"},\"type\":\"carpet\"}],\"table\":[{\"cells\":{\"fill\":{\"color\":\"#EBF0F8\"},\"line\":{\"color\":\"white\"}},\"header\":{\"fill\":{\"color\":\"#C8D4E3\"},\"line\":{\"color\":\"white\"}},\"type\":\"table\"}],\"barpolar\":[{\"marker\":{\"line\":{\"color\":\"#E5ECF6\",\"width\":0.5},\"pattern\":{\"fillmode\":\"overlay\",\"size\":10,\"solidity\":0.2}},\"type\":\"barpolar\"}],\"pie\":[{\"automargin\":true,\"type\":\"pie\"}]},\"layout\":{\"autotypenumbers\":\"strict\",\"colorway\":[\"#636efa\",\"#EF553B\",\"#00cc96\",\"#ab63fa\",\"#FFA15A\",\"#19d3f3\",\"#FF6692\",\"#B6E880\",\"#FF97FF\",\"#FECB52\"],\"font\":{\"color\":\"#2a3f5f\"},\"hovermode\":\"closest\",\"hoverlabel\":{\"align\":\"left\"},\"paper_bgcolor\":\"white\",\"plot_bgcolor\":\"#E5ECF6\",\"polar\":{\"bgcolor\":\"#E5ECF6\",\"angularaxis\":{\"gridcolor\":\"white\",\"linecolor\":\"white\",\"ticks\":\"\"},\"radialaxis\":{\"gridcolor\":\"white\",\"linecolor\":\"white\",\"ticks\":\"\"}},\"ternary\":{\"bgcolor\":\"#E5ECF6\",\"aaxis\":{\"gridcolor\":\"white\",\"linecolor\":\"white\",\"ticks\":\"\"},\"baxis\":{\"gridcolor\":\"white\",\"linecolor\":\"white\",\"ticks\":\"\"},\"caxis\":{\"gridcolor\":\"white\",\"linecolor\":\"white\",\"ticks\":\"\"}},\"coloraxis\":{\"colorbar\":{\"outlinewidth\":0,\"ticks\":\"\"}},\"colorscale\":{\"sequential\":[[0.0,\"#0d0887\"],[0.1111111111111111,\"#46039f\"],[0.2222222222222222,\"#7201a8\"],[0.3333333333333333,\"#9c179e\"],[0.4444444444444444,\"#bd3786\"],[0.5555555555555556,\"#d8576b\"],[0.6666666666666666,\"#ed7953\"],[0.7777777777777778,\"#fb9f3a\"],[0.8888888888888888,\"#fdca26\"],[1.0,\"#f0f921\"]],\"sequentialminus\":[[0.0,\"#0d0887\"],[0.1111111111111111,\"#46039f\"],[0.2222222222222222,\"#7201a8\"],[0.3333333333333333,\"#9c179e\"],[0.4444444444444444,\"#bd3786\"],[0.5555555555555556,\"#d8576b\"],[0.6666666666666666,\"#ed7953\"],[0.7777777777777778,\"#fb9f3a\"],[0.8888888888888888,\"#fdca26\"],[1.0,\"#f0f921\"]],\"diverging\":[[0,\"#8e0152\"],[0.1,\"#c51b7d\"],[0.2,\"#de77ae\"],[0.3,\"#f1b6da\"],[0.4,\"#fde0ef\"],[0.5,\"#f7f7f7\"],[0.6,\"#e6f5d0\"],[0.7,\"#b8e186\"],[0.8,\"#7fbc41\"],[0.9,\"#4d9221\"],[1,\"#276419\"]]},\"xaxis\":{\"gridcolor\":\"white\",\"linecolor\":\"white\",\"ticks\":\"\",\"title\":{\"standoff\":15},\"zerolinecolor\":\"white\",\"automargin\":true,\"zerolinewidth\":2},\"yaxis\":{\"gridcolor\":\"white\",\"linecolor\":\"white\",\"ticks\":\"\",\"title\":{\"standoff\":15},\"zerolinecolor\":\"white\",\"automargin\":true,\"zerolinewidth\":2},\"scene\":{\"xaxis\":{\"backgroundcolor\":\"#E5ECF6\",\"gridcolor\":\"white\",\"linecolor\":\"white\",\"showbackground\":true,\"ticks\":\"\",\"zerolinecolor\":\"white\",\"gridwidth\":2},\"yaxis\":{\"backgroundcolor\":\"#E5ECF6\",\"gridcolor\":\"white\",\"linecolor\":\"white\",\"showbackground\":true,\"ticks\":\"\",\"zerolinecolor\":\"white\",\"gridwidth\":2},\"zaxis\":{\"backgroundcolor\":\"#E5ECF6\",\"gridcolor\":\"white\",\"linecolor\":\"white\",\"showbackground\":true,\"ticks\":\"\",\"zerolinecolor\":\"white\",\"gridwidth\":2}},\"shapedefaults\":{\"line\":{\"color\":\"#2a3f5f\"}},\"annotationdefaults\":{\"arrowcolor\":\"#2a3f5f\",\"arrowhead\":0,\"arrowwidth\":1},\"geo\":{\"bgcolor\":\"white\",\"landcolor\":\"#E5ECF6\",\"subunitcolor\":\"white\",\"showland\":true,\"showlakes\":true,\"lakecolor\":\"white\"},\"title\":{\"x\":0.05},\"mapbox\":{\"style\":\"light\"}}},\"xaxis\":{\"anchor\":\"y\",\"domain\":[0.0,1.0],\"title\":{\"text\":\"Survived/Died\"}},\"yaxis\":{\"anchor\":\"x\",\"domain\":[0.0,1.0],\"title\":{\"text\":\"No. of people\"}},\"legend\":{\"title\":{\"text\":\"Sex\"},\"tracegroupgap\":0},\"margin\":{\"t\":60},\"barmode\":\"relative\",\"title\":{\"text\":\"No. of People survived/died based on gender\"}},                        {\"responsive\": true}                    ).then(function(){\n",
       "                            \n",
       "var gd = document.getElementById('a38581a7-4ed8-4883-9038-1ce9fcba1ffd');\n",
       "var x = new MutationObserver(function (mutations, observer) {{\n",
       "        var display = window.getComputedStyle(gd).display;\n",
       "        if (!display || display === 'none') {{\n",
       "            console.log([gd, 'removed!']);\n",
       "            Plotly.purge(gd);\n",
       "            observer.disconnect();\n",
       "        }}\n",
       "}});\n",
       "\n",
       "// Listen for the removal of the full notebook cells\n",
       "var notebookContainer = gd.closest('#notebook-container');\n",
       "if (notebookContainer) {{\n",
       "    x.observe(notebookContainer, {childList: true});\n",
       "}}\n",
       "\n",
       "// Listen for the clearing of the current output cell\n",
       "var outputEl = gd.closest('.output');\n",
       "if (outputEl) {{\n",
       "    x.observe(outputEl, {childList: true});\n",
       "}}\n",
       "\n",
       "                        })                };                });            </script>        </div>"
      ]
     },
     "metadata": {},
     "output_type": "display_data"
    }
   ],
   "source": [
    "fig= px.bar(dfsu,x='Survived',y=0,color='Sex',text_auto='0.03')\n",
    "fig.update_layout(\n",
    "                 title='No. of People survived/died based on gender',\n",
    "                 xaxis_title=\"Survived/Died\",\n",
    "                 yaxis_title=\"No. of people\")\n",
    "\n",
    "fig.show()"
   ]
  },
  {
   "cell_type": "markdown",
   "id": "8395a710",
   "metadata": {
    "papermill": {
     "duration": 0.01734,
     "end_time": "2023-04-04T16:32:08.174379",
     "exception": false,
     "start_time": "2023-04-04T16:32:08.157039",
     "status": "completed"
    },
    "tags": []
   },
   "source": [
    "# **Sex analysis**"
   ]
  },
  {
   "cell_type": "code",
   "execution_count": 23,
   "id": "4caddfcc",
   "metadata": {
    "execution": {
     "iopub.execute_input": "2023-04-04T16:32:08.210929Z",
     "iopub.status.busy": "2023-04-04T16:32:08.210514Z",
     "iopub.status.idle": "2023-04-04T16:32:08.219155Z",
     "shell.execute_reply": "2023-04-04T16:32:08.218082Z"
    },
    "papermill": {
     "duration": 0.02984,
     "end_time": "2023-04-04T16:32:08.221530",
     "exception": false,
     "start_time": "2023-04-04T16:32:08.191690",
     "status": "completed"
    },
    "tags": []
   },
   "outputs": [
    {
     "data": {
      "text/plain": [
       "male      577\n",
       "female    314\n",
       "Name: Sex, dtype: int64"
      ]
     },
     "execution_count": 23,
     "metadata": {},
     "output_type": "execute_result"
    }
   ],
   "source": [
    "df['Sex'].value_counts()"
   ]
  },
  {
   "cell_type": "code",
   "execution_count": 24,
   "id": "6fb593e9",
   "metadata": {
    "execution": {
     "iopub.execute_input": "2023-04-04T16:32:08.258224Z",
     "iopub.status.busy": "2023-04-04T16:32:08.257818Z",
     "iopub.status.idle": "2023-04-04T16:32:08.322704Z",
     "shell.execute_reply": "2023-04-04T16:32:08.321562Z"
    },
    "papermill": {
     "duration": 0.08632,
     "end_time": "2023-04-04T16:32:08.325297",
     "exception": false,
     "start_time": "2023-04-04T16:32:08.238977",
     "status": "completed"
    },
    "tags": []
   },
   "outputs": [
    {
     "data": {
      "text/html": [
       "<div>                            <div id=\"1855e9c0-fe7f-49d6-9037-4354a86544c9\" class=\"plotly-graph-div\" style=\"height:500px; width:800px;\"></div>            <script type=\"text/javascript\">                require([\"plotly\"], function(Plotly) {                    window.PLOTLYENV=window.PLOTLYENV || {};                                    if (document.getElementById(\"1855e9c0-fe7f-49d6-9037-4354a86544c9\")) {                    Plotly.newPlot(                        \"1855e9c0-fe7f-49d6-9037-4354a86544c9\",                        [{\"alignmentgroup\":\"True\",\"bingroup\":\"x\",\"hovertemplate\":\"Sex=%{x}<br>count=%{y}<extra></extra>\",\"legendgroup\":\"male\",\"marker\":{\"color\":\"#636efa\",\"pattern\":{\"shape\":\"\"}},\"name\":\"male\",\"offsetgroup\":\"male\",\"orientation\":\"v\",\"showlegend\":true,\"texttemplate\":\"%{value:3s}\",\"x\":[\"male\",\"male\",\"male\",\"male\",\"male\",\"male\",\"male\",\"male\",\"male\",\"male\",\"male\",\"male\",\"male\",\"male\",\"male\",\"male\",\"male\",\"male\",\"male\",\"male\",\"male\",\"male\",\"male\",\"male\",\"male\",\"male\",\"male\",\"male\",\"male\",\"male\",\"male\",\"male\",\"male\",\"male\",\"male\",\"male\",\"male\",\"male\",\"male\",\"male\",\"male\",\"male\",\"male\",\"male\",\"male\",\"male\",\"male\",\"male\",\"male\",\"male\",\"male\",\"male\",\"male\",\"male\",\"male\",\"male\",\"male\",\"male\",\"male\",\"male\",\"male\",\"male\",\"male\",\"male\",\"male\",\"male\",\"male\",\"male\",\"male\",\"male\",\"male\",\"male\",\"male\",\"male\",\"male\",\"male\",\"male\",\"male\",\"male\",\"male\",\"male\",\"male\",\"male\",\"male\",\"male\",\"male\",\"male\",\"male\",\"male\",\"male\",\"male\",\"male\",\"male\",\"male\",\"male\",\"male\",\"male\",\"male\",\"male\",\"male\",\"male\",\"male\",\"male\",\"male\",\"male\",\"male\",\"male\",\"male\",\"male\",\"male\",\"male\",\"male\",\"male\",\"male\",\"male\",\"male\",\"male\",\"male\",\"male\",\"male\",\"male\",\"male\",\"male\",\"male\",\"male\",\"male\",\"male\",\"male\",\"male\",\"male\",\"male\",\"male\",\"male\",\"male\",\"male\",\"male\",\"male\",\"male\",\"male\",\"male\",\"male\",\"male\",\"male\",\"male\",\"male\",\"male\",\"male\",\"male\",\"male\",\"male\",\"male\",\"male\",\"male\",\"male\",\"male\",\"male\",\"male\",\"male\",\"male\",\"male\",\"male\",\"male\",\"male\",\"male\",\"male\",\"male\",\"male\",\"male\",\"male\",\"male\",\"male\",\"male\",\"male\",\"male\",\"male\",\"male\",\"male\",\"male\",\"male\",\"male\",\"male\",\"male\",\"male\",\"male\",\"male\",\"male\",\"male\",\"male\",\"male\",\"male\",\"male\",\"male\",\"male\",\"male\",\"male\",\"male\",\"male\",\"male\",\"male\",\"male\",\"male\",\"male\",\"male\",\"male\",\"male\",\"male\",\"male\",\"male\",\"male\",\"male\",\"male\",\"male\",\"male\",\"male\",\"male\",\"male\",\"male\",\"male\",\"male\",\"male\",\"male\",\"male\",\"male\",\"male\",\"male\",\"male\",\"male\",\"male\",\"male\",\"male\",\"male\",\"male\",\"male\",\"male\",\"male\",\"male\",\"male\",\"male\",\"male\",\"male\",\"male\",\"male\",\"male\",\"male\",\"male\",\"male\",\"male\",\"male\",\"male\",\"male\",\"male\",\"male\",\"male\",\"male\",\"male\",\"male\",\"male\",\"male\",\"male\",\"male\",\"male\",\"male\",\"male\",\"male\",\"male\",\"male\",\"male\",\"male\",\"male\",\"male\",\"male\",\"male\",\"male\",\"male\",\"male\",\"male\",\"male\",\"male\",\"male\",\"male\",\"male\",\"male\",\"male\",\"male\",\"male\",\"male\",\"male\",\"male\",\"male\",\"male\",\"male\",\"male\",\"male\",\"male\",\"male\",\"male\",\"male\",\"male\",\"male\",\"male\",\"male\",\"male\",\"male\",\"male\",\"male\",\"male\",\"male\",\"male\",\"male\",\"male\",\"male\",\"male\",\"male\",\"male\",\"male\",\"male\",\"male\",\"male\",\"male\",\"male\",\"male\",\"male\",\"male\",\"male\",\"male\",\"male\",\"male\",\"male\",\"male\",\"male\",\"male\",\"male\",\"male\",\"male\",\"male\",\"male\",\"male\",\"male\",\"male\",\"male\",\"male\",\"male\",\"male\",\"male\",\"male\",\"male\",\"male\",\"male\",\"male\",\"male\",\"male\",\"male\",\"male\",\"male\",\"male\",\"male\",\"male\",\"male\",\"male\",\"male\",\"male\",\"male\",\"male\",\"male\",\"male\",\"male\",\"male\",\"male\",\"male\",\"male\",\"male\",\"male\",\"male\",\"male\",\"male\",\"male\",\"male\",\"male\",\"male\",\"male\",\"male\",\"male\",\"male\",\"male\",\"male\",\"male\",\"male\",\"male\",\"male\",\"male\",\"male\",\"male\",\"male\",\"male\",\"male\",\"male\",\"male\",\"male\",\"male\",\"male\",\"male\",\"male\",\"male\",\"male\",\"male\",\"male\",\"male\",\"male\",\"male\",\"male\",\"male\",\"male\",\"male\",\"male\",\"male\",\"male\",\"male\",\"male\",\"male\",\"male\",\"male\",\"male\",\"male\",\"male\",\"male\",\"male\",\"male\",\"male\",\"male\",\"male\",\"male\",\"male\",\"male\",\"male\",\"male\",\"male\",\"male\",\"male\",\"male\",\"male\",\"male\",\"male\",\"male\",\"male\",\"male\",\"male\",\"male\",\"male\",\"male\",\"male\",\"male\",\"male\",\"male\",\"male\",\"male\",\"male\",\"male\",\"male\",\"male\",\"male\",\"male\",\"male\",\"male\",\"male\",\"male\",\"male\",\"male\",\"male\",\"male\",\"male\",\"male\",\"male\",\"male\",\"male\",\"male\",\"male\",\"male\",\"male\",\"male\",\"male\",\"male\",\"male\",\"male\",\"male\",\"male\",\"male\",\"male\",\"male\",\"male\",\"male\",\"male\",\"male\",\"male\",\"male\",\"male\",\"male\",\"male\",\"male\",\"male\",\"male\",\"male\",\"male\",\"male\",\"male\",\"male\",\"male\",\"male\",\"male\",\"male\",\"male\",\"male\",\"male\",\"male\",\"male\",\"male\",\"male\",\"male\",\"male\",\"male\",\"male\",\"male\",\"male\",\"male\",\"male\",\"male\",\"male\",\"male\",\"male\",\"male\",\"male\",\"male\",\"male\",\"male\",\"male\",\"male\",\"male\",\"male\",\"male\",\"male\",\"male\",\"male\",\"male\",\"male\",\"male\",\"male\",\"male\",\"male\",\"male\",\"male\",\"male\",\"male\",\"male\",\"male\",\"male\",\"male\",\"male\",\"male\",\"male\",\"male\",\"male\",\"male\",\"male\",\"male\",\"male\",\"male\",\"male\",\"male\",\"male\",\"male\",\"male\",\"male\",\"male\",\"male\",\"male\",\"male\",\"male\",\"male\"],\"xaxis\":\"x\",\"yaxis\":\"y\",\"type\":\"histogram\"},{\"alignmentgroup\":\"True\",\"bingroup\":\"x\",\"hovertemplate\":\"Sex=%{x}<br>count=%{y}<extra></extra>\",\"legendgroup\":\"female\",\"marker\":{\"color\":\"#EF553B\",\"pattern\":{\"shape\":\"\"}},\"name\":\"female\",\"offsetgroup\":\"female\",\"orientation\":\"v\",\"showlegend\":true,\"texttemplate\":\"%{value:3s}\",\"x\":[\"female\",\"female\",\"female\",\"female\",\"female\",\"female\",\"female\",\"female\",\"female\",\"female\",\"female\",\"female\",\"female\",\"female\",\"female\",\"female\",\"female\",\"female\",\"female\",\"female\",\"female\",\"female\",\"female\",\"female\",\"female\",\"female\",\"female\",\"female\",\"female\",\"female\",\"female\",\"female\",\"female\",\"female\",\"female\",\"female\",\"female\",\"female\",\"female\",\"female\",\"female\",\"female\",\"female\",\"female\",\"female\",\"female\",\"female\",\"female\",\"female\",\"female\",\"female\",\"female\",\"female\",\"female\",\"female\",\"female\",\"female\",\"female\",\"female\",\"female\",\"female\",\"female\",\"female\",\"female\",\"female\",\"female\",\"female\",\"female\",\"female\",\"female\",\"female\",\"female\",\"female\",\"female\",\"female\",\"female\",\"female\",\"female\",\"female\",\"female\",\"female\",\"female\",\"female\",\"female\",\"female\",\"female\",\"female\",\"female\",\"female\",\"female\",\"female\",\"female\",\"female\",\"female\",\"female\",\"female\",\"female\",\"female\",\"female\",\"female\",\"female\",\"female\",\"female\",\"female\",\"female\",\"female\",\"female\",\"female\",\"female\",\"female\",\"female\",\"female\",\"female\",\"female\",\"female\",\"female\",\"female\",\"female\",\"female\",\"female\",\"female\",\"female\",\"female\",\"female\",\"female\",\"female\",\"female\",\"female\",\"female\",\"female\",\"female\",\"female\",\"female\",\"female\",\"female\",\"female\",\"female\",\"female\",\"female\",\"female\",\"female\",\"female\",\"female\",\"female\",\"female\",\"female\",\"female\",\"female\",\"female\",\"female\",\"female\",\"female\",\"female\",\"female\",\"female\",\"female\",\"female\",\"female\",\"female\",\"female\",\"female\",\"female\",\"female\",\"female\",\"female\",\"female\",\"female\",\"female\",\"female\",\"female\",\"female\",\"female\",\"female\",\"female\",\"female\",\"female\",\"female\",\"female\",\"female\",\"female\",\"female\",\"female\",\"female\",\"female\",\"female\",\"female\",\"female\",\"female\",\"female\",\"female\",\"female\",\"female\",\"female\",\"female\",\"female\",\"female\",\"female\",\"female\",\"female\",\"female\",\"female\",\"female\",\"female\",\"female\",\"female\",\"female\",\"female\",\"female\",\"female\",\"female\",\"female\",\"female\",\"female\",\"female\",\"female\",\"female\",\"female\",\"female\",\"female\",\"female\",\"female\",\"female\",\"female\",\"female\",\"female\",\"female\",\"female\",\"female\",\"female\",\"female\",\"female\",\"female\",\"female\",\"female\",\"female\",\"female\",\"female\",\"female\",\"female\",\"female\",\"female\",\"female\",\"female\",\"female\",\"female\",\"female\",\"female\",\"female\",\"female\",\"female\",\"female\",\"female\",\"female\",\"female\",\"female\",\"female\",\"female\",\"female\",\"female\",\"female\",\"female\",\"female\",\"female\",\"female\",\"female\",\"female\",\"female\",\"female\",\"female\",\"female\",\"female\",\"female\",\"female\",\"female\",\"female\",\"female\",\"female\",\"female\",\"female\",\"female\",\"female\",\"female\",\"female\",\"female\",\"female\",\"female\",\"female\",\"female\",\"female\",\"female\",\"female\",\"female\",\"female\",\"female\",\"female\",\"female\",\"female\",\"female\",\"female\",\"female\",\"female\",\"female\",\"female\",\"female\",\"female\",\"female\",\"female\",\"female\",\"female\",\"female\",\"female\",\"female\",\"female\",\"female\"],\"xaxis\":\"x\",\"yaxis\":\"y\",\"type\":\"histogram\"}],                        {\"template\":{\"data\":{\"histogram2dcontour\":[{\"type\":\"histogram2dcontour\",\"colorbar\":{\"outlinewidth\":0,\"ticks\":\"\"},\"colorscale\":[[0.0,\"#0d0887\"],[0.1111111111111111,\"#46039f\"],[0.2222222222222222,\"#7201a8\"],[0.3333333333333333,\"#9c179e\"],[0.4444444444444444,\"#bd3786\"],[0.5555555555555556,\"#d8576b\"],[0.6666666666666666,\"#ed7953\"],[0.7777777777777778,\"#fb9f3a\"],[0.8888888888888888,\"#fdca26\"],[1.0,\"#f0f921\"]]}],\"choropleth\":[{\"type\":\"choropleth\",\"colorbar\":{\"outlinewidth\":0,\"ticks\":\"\"}}],\"histogram2d\":[{\"type\":\"histogram2d\",\"colorbar\":{\"outlinewidth\":0,\"ticks\":\"\"},\"colorscale\":[[0.0,\"#0d0887\"],[0.1111111111111111,\"#46039f\"],[0.2222222222222222,\"#7201a8\"],[0.3333333333333333,\"#9c179e\"],[0.4444444444444444,\"#bd3786\"],[0.5555555555555556,\"#d8576b\"],[0.6666666666666666,\"#ed7953\"],[0.7777777777777778,\"#fb9f3a\"],[0.8888888888888888,\"#fdca26\"],[1.0,\"#f0f921\"]]}],\"heatmap\":[{\"type\":\"heatmap\",\"colorbar\":{\"outlinewidth\":0,\"ticks\":\"\"},\"colorscale\":[[0.0,\"#0d0887\"],[0.1111111111111111,\"#46039f\"],[0.2222222222222222,\"#7201a8\"],[0.3333333333333333,\"#9c179e\"],[0.4444444444444444,\"#bd3786\"],[0.5555555555555556,\"#d8576b\"],[0.6666666666666666,\"#ed7953\"],[0.7777777777777778,\"#fb9f3a\"],[0.8888888888888888,\"#fdca26\"],[1.0,\"#f0f921\"]]}],\"heatmapgl\":[{\"type\":\"heatmapgl\",\"colorbar\":{\"outlinewidth\":0,\"ticks\":\"\"},\"colorscale\":[[0.0,\"#0d0887\"],[0.1111111111111111,\"#46039f\"],[0.2222222222222222,\"#7201a8\"],[0.3333333333333333,\"#9c179e\"],[0.4444444444444444,\"#bd3786\"],[0.5555555555555556,\"#d8576b\"],[0.6666666666666666,\"#ed7953\"],[0.7777777777777778,\"#fb9f3a\"],[0.8888888888888888,\"#fdca26\"],[1.0,\"#f0f921\"]]}],\"contourcarpet\":[{\"type\":\"contourcarpet\",\"colorbar\":{\"outlinewidth\":0,\"ticks\":\"\"}}],\"contour\":[{\"type\":\"contour\",\"colorbar\":{\"outlinewidth\":0,\"ticks\":\"\"},\"colorscale\":[[0.0,\"#0d0887\"],[0.1111111111111111,\"#46039f\"],[0.2222222222222222,\"#7201a8\"],[0.3333333333333333,\"#9c179e\"],[0.4444444444444444,\"#bd3786\"],[0.5555555555555556,\"#d8576b\"],[0.6666666666666666,\"#ed7953\"],[0.7777777777777778,\"#fb9f3a\"],[0.8888888888888888,\"#fdca26\"],[1.0,\"#f0f921\"]]}],\"surface\":[{\"type\":\"surface\",\"colorbar\":{\"outlinewidth\":0,\"ticks\":\"\"},\"colorscale\":[[0.0,\"#0d0887\"],[0.1111111111111111,\"#46039f\"],[0.2222222222222222,\"#7201a8\"],[0.3333333333333333,\"#9c179e\"],[0.4444444444444444,\"#bd3786\"],[0.5555555555555556,\"#d8576b\"],[0.6666666666666666,\"#ed7953\"],[0.7777777777777778,\"#fb9f3a\"],[0.8888888888888888,\"#fdca26\"],[1.0,\"#f0f921\"]]}],\"mesh3d\":[{\"type\":\"mesh3d\",\"colorbar\":{\"outlinewidth\":0,\"ticks\":\"\"}}],\"scatter\":[{\"fillpattern\":{\"fillmode\":\"overlay\",\"size\":10,\"solidity\":0.2},\"type\":\"scatter\"}],\"parcoords\":[{\"type\":\"parcoords\",\"line\":{\"colorbar\":{\"outlinewidth\":0,\"ticks\":\"\"}}}],\"scatterpolargl\":[{\"type\":\"scatterpolargl\",\"marker\":{\"colorbar\":{\"outlinewidth\":0,\"ticks\":\"\"}}}],\"bar\":[{\"error_x\":{\"color\":\"#2a3f5f\"},\"error_y\":{\"color\":\"#2a3f5f\"},\"marker\":{\"line\":{\"color\":\"#E5ECF6\",\"width\":0.5},\"pattern\":{\"fillmode\":\"overlay\",\"size\":10,\"solidity\":0.2}},\"type\":\"bar\"}],\"scattergeo\":[{\"type\":\"scattergeo\",\"marker\":{\"colorbar\":{\"outlinewidth\":0,\"ticks\":\"\"}}}],\"scatterpolar\":[{\"type\":\"scatterpolar\",\"marker\":{\"colorbar\":{\"outlinewidth\":0,\"ticks\":\"\"}}}],\"histogram\":[{\"marker\":{\"pattern\":{\"fillmode\":\"overlay\",\"size\":10,\"solidity\":0.2}},\"type\":\"histogram\"}],\"scattergl\":[{\"type\":\"scattergl\",\"marker\":{\"colorbar\":{\"outlinewidth\":0,\"ticks\":\"\"}}}],\"scatter3d\":[{\"type\":\"scatter3d\",\"line\":{\"colorbar\":{\"outlinewidth\":0,\"ticks\":\"\"}},\"marker\":{\"colorbar\":{\"outlinewidth\":0,\"ticks\":\"\"}}}],\"scattermapbox\":[{\"type\":\"scattermapbox\",\"marker\":{\"colorbar\":{\"outlinewidth\":0,\"ticks\":\"\"}}}],\"scatterternary\":[{\"type\":\"scatterternary\",\"marker\":{\"colorbar\":{\"outlinewidth\":0,\"ticks\":\"\"}}}],\"scattercarpet\":[{\"type\":\"scattercarpet\",\"marker\":{\"colorbar\":{\"outlinewidth\":0,\"ticks\":\"\"}}}],\"carpet\":[{\"aaxis\":{\"endlinecolor\":\"#2a3f5f\",\"gridcolor\":\"white\",\"linecolor\":\"white\",\"minorgridcolor\":\"white\",\"startlinecolor\":\"#2a3f5f\"},\"baxis\":{\"endlinecolor\":\"#2a3f5f\",\"gridcolor\":\"white\",\"linecolor\":\"white\",\"minorgridcolor\":\"white\",\"startlinecolor\":\"#2a3f5f\"},\"type\":\"carpet\"}],\"table\":[{\"cells\":{\"fill\":{\"color\":\"#EBF0F8\"},\"line\":{\"color\":\"white\"}},\"header\":{\"fill\":{\"color\":\"#C8D4E3\"},\"line\":{\"color\":\"white\"}},\"type\":\"table\"}],\"barpolar\":[{\"marker\":{\"line\":{\"color\":\"#E5ECF6\",\"width\":0.5},\"pattern\":{\"fillmode\":\"overlay\",\"size\":10,\"solidity\":0.2}},\"type\":\"barpolar\"}],\"pie\":[{\"automargin\":true,\"type\":\"pie\"}]},\"layout\":{\"autotypenumbers\":\"strict\",\"colorway\":[\"#636efa\",\"#EF553B\",\"#00cc96\",\"#ab63fa\",\"#FFA15A\",\"#19d3f3\",\"#FF6692\",\"#B6E880\",\"#FF97FF\",\"#FECB52\"],\"font\":{\"color\":\"#2a3f5f\"},\"hovermode\":\"closest\",\"hoverlabel\":{\"align\":\"left\"},\"paper_bgcolor\":\"white\",\"plot_bgcolor\":\"#E5ECF6\",\"polar\":{\"bgcolor\":\"#E5ECF6\",\"angularaxis\":{\"gridcolor\":\"white\",\"linecolor\":\"white\",\"ticks\":\"\"},\"radialaxis\":{\"gridcolor\":\"white\",\"linecolor\":\"white\",\"ticks\":\"\"}},\"ternary\":{\"bgcolor\":\"#E5ECF6\",\"aaxis\":{\"gridcolor\":\"white\",\"linecolor\":\"white\",\"ticks\":\"\"},\"baxis\":{\"gridcolor\":\"white\",\"linecolor\":\"white\",\"ticks\":\"\"},\"caxis\":{\"gridcolor\":\"white\",\"linecolor\":\"white\",\"ticks\":\"\"}},\"coloraxis\":{\"colorbar\":{\"outlinewidth\":0,\"ticks\":\"\"}},\"colorscale\":{\"sequential\":[[0.0,\"#0d0887\"],[0.1111111111111111,\"#46039f\"],[0.2222222222222222,\"#7201a8\"],[0.3333333333333333,\"#9c179e\"],[0.4444444444444444,\"#bd3786\"],[0.5555555555555556,\"#d8576b\"],[0.6666666666666666,\"#ed7953\"],[0.7777777777777778,\"#fb9f3a\"],[0.8888888888888888,\"#fdca26\"],[1.0,\"#f0f921\"]],\"sequentialminus\":[[0.0,\"#0d0887\"],[0.1111111111111111,\"#46039f\"],[0.2222222222222222,\"#7201a8\"],[0.3333333333333333,\"#9c179e\"],[0.4444444444444444,\"#bd3786\"],[0.5555555555555556,\"#d8576b\"],[0.6666666666666666,\"#ed7953\"],[0.7777777777777778,\"#fb9f3a\"],[0.8888888888888888,\"#fdca26\"],[1.0,\"#f0f921\"]],\"diverging\":[[0,\"#8e0152\"],[0.1,\"#c51b7d\"],[0.2,\"#de77ae\"],[0.3,\"#f1b6da\"],[0.4,\"#fde0ef\"],[0.5,\"#f7f7f7\"],[0.6,\"#e6f5d0\"],[0.7,\"#b8e186\"],[0.8,\"#7fbc41\"],[0.9,\"#4d9221\"],[1,\"#276419\"]]},\"xaxis\":{\"gridcolor\":\"white\",\"linecolor\":\"white\",\"ticks\":\"\",\"title\":{\"standoff\":15},\"zerolinecolor\":\"white\",\"automargin\":true,\"zerolinewidth\":2},\"yaxis\":{\"gridcolor\":\"white\",\"linecolor\":\"white\",\"ticks\":\"\",\"title\":{\"standoff\":15},\"zerolinecolor\":\"white\",\"automargin\":true,\"zerolinewidth\":2},\"scene\":{\"xaxis\":{\"backgroundcolor\":\"#E5ECF6\",\"gridcolor\":\"white\",\"linecolor\":\"white\",\"showbackground\":true,\"ticks\":\"\",\"zerolinecolor\":\"white\",\"gridwidth\":2},\"yaxis\":{\"backgroundcolor\":\"#E5ECF6\",\"gridcolor\":\"white\",\"linecolor\":\"white\",\"showbackground\":true,\"ticks\":\"\",\"zerolinecolor\":\"white\",\"gridwidth\":2},\"zaxis\":{\"backgroundcolor\":\"#E5ECF6\",\"gridcolor\":\"white\",\"linecolor\":\"white\",\"showbackground\":true,\"ticks\":\"\",\"zerolinecolor\":\"white\",\"gridwidth\":2}},\"shapedefaults\":{\"line\":{\"color\":\"#2a3f5f\"}},\"annotationdefaults\":{\"arrowcolor\":\"#2a3f5f\",\"arrowhead\":0,\"arrowwidth\":1},\"geo\":{\"bgcolor\":\"white\",\"landcolor\":\"#E5ECF6\",\"subunitcolor\":\"white\",\"showland\":true,\"showlakes\":true,\"lakecolor\":\"white\"},\"title\":{\"x\":0.05},\"mapbox\":{\"style\":\"light\"}}},\"xaxis\":{\"anchor\":\"y\",\"domain\":[0.0,1.0],\"title\":{\"text\":\"Sex\"},\"categoryorder\":\"array\",\"categoryarray\":[\"male\",\"female\"]},\"yaxis\":{\"anchor\":\"x\",\"domain\":[0.0,1.0],\"title\":{\"text\":\"count\"}},\"legend\":{\"title\":{\"text\":\"Sex\"},\"tracegroupgap\":0},\"title\":{\"text\":\"Analysis of People Sex\"},\"barmode\":\"relative\",\"height\":500,\"width\":800},                        {\"responsive\": true}                    ).then(function(){\n",
       "                            \n",
       "var gd = document.getElementById('1855e9c0-fe7f-49d6-9037-4354a86544c9');\n",
       "var x = new MutationObserver(function (mutations, observer) {{\n",
       "        var display = window.getComputedStyle(gd).display;\n",
       "        if (!display || display === 'none') {{\n",
       "            console.log([gd, 'removed!']);\n",
       "            Plotly.purge(gd);\n",
       "            observer.disconnect();\n",
       "        }}\n",
       "}});\n",
       "\n",
       "// Listen for the removal of the full notebook cells\n",
       "var notebookContainer = gd.closest('#notebook-container');\n",
       "if (notebookContainer) {{\n",
       "    x.observe(notebookContainer, {childList: true});\n",
       "}}\n",
       "\n",
       "// Listen for the clearing of the current output cell\n",
       "var outputEl = gd.closest('.output');\n",
       "if (outputEl) {{\n",
       "    x.observe(outputEl, {childList: true});\n",
       "}}\n",
       "\n",
       "                        })                };                });            </script>        </div>"
      ]
     },
     "metadata": {},
     "output_type": "display_data"
    }
   ],
   "source": [
    "px.histogram(df,x='Sex',color='Sex',text_auto='3s',title='Analysis of People Sex',width=800,height=500)"
   ]
  },
  {
   "cell_type": "markdown",
   "id": "8a1f1375",
   "metadata": {
    "papermill": {
     "duration": 0.017549,
     "end_time": "2023-04-04T16:32:08.369967",
     "exception": false,
     "start_time": "2023-04-04T16:32:08.352418",
     "status": "completed"
    },
    "tags": []
   },
   "source": [
    "# **Age_group analysis**"
   ]
  },
  {
   "cell_type": "code",
   "execution_count": 25,
   "id": "eacbb7f1",
   "metadata": {
    "execution": {
     "iopub.execute_input": "2023-04-04T16:32:08.408095Z",
     "iopub.status.busy": "2023-04-04T16:32:08.407721Z",
     "iopub.status.idle": "2023-04-04T16:32:08.419156Z",
     "shell.execute_reply": "2023-04-04T16:32:08.418064Z"
    },
    "papermill": {
     "duration": 0.03326,
     "end_time": "2023-04-04T16:32:08.421376",
     "exception": false,
     "start_time": "2023-04-04T16:32:08.388116",
     "status": "completed"
    },
    "tags": []
   },
   "outputs": [
    {
     "data": {
      "text/plain": [
       "count    891.00000\n",
       "mean      29.58156\n",
       "std       14.55459\n",
       "min        0.42000\n",
       "25%       20.00000\n",
       "50%       28.00000\n",
       "75%       38.00000\n",
       "max       80.00000\n",
       "Name: Age, dtype: float64"
      ]
     },
     "execution_count": 25,
     "metadata": {},
     "output_type": "execute_result"
    }
   ],
   "source": [
    "df['Age'].describe()"
   ]
  },
  {
   "cell_type": "code",
   "execution_count": 26,
   "id": "b4415a05",
   "metadata": {
    "execution": {
     "iopub.execute_input": "2023-04-04T16:32:08.462713Z",
     "iopub.status.busy": "2023-04-04T16:32:08.461621Z",
     "iopub.status.idle": "2023-04-04T16:32:08.469090Z",
     "shell.execute_reply": "2023-04-04T16:32:08.468329Z"
    },
    "papermill": {
     "duration": 0.030642,
     "end_time": "2023-04-04T16:32:08.471612",
     "exception": false,
     "start_time": "2023-04-04T16:32:08.440970",
     "status": "completed"
    },
    "tags": []
   },
   "outputs": [],
   "source": [
    "bins = [0,10, 20, 30, 40,50,60]\n",
    "names = ['0-10','10-20', '20-30', '30-40', '40-50', '50-60','60-70']\n",
    "\n",
    "d = dict(enumerate(names, 1))\n",
    "df['Age_Range'] = np.vectorize(d.get)(np.digitize(df['Age'], bins))"
   ]
  },
  {
   "cell_type": "code",
   "execution_count": 27,
   "id": "52ef830f",
   "metadata": {
    "execution": {
     "iopub.execute_input": "2023-04-04T16:32:08.510096Z",
     "iopub.status.busy": "2023-04-04T16:32:08.509216Z",
     "iopub.status.idle": "2023-04-04T16:32:08.518120Z",
     "shell.execute_reply": "2023-04-04T16:32:08.517060Z"
    },
    "papermill": {
     "duration": 0.03068,
     "end_time": "2023-04-04T16:32:08.520429",
     "exception": false,
     "start_time": "2023-04-04T16:32:08.489749",
     "status": "completed"
    },
    "tags": []
   },
   "outputs": [
    {
     "data": {
      "text/plain": [
       "20-30    266\n",
       "30-40    211\n",
       "10-20    129\n",
       "40-50    111\n",
       "0-10      82\n",
       "50-60     62\n",
       "60-70     30\n",
       "Name: Age_Range, dtype: int64"
      ]
     },
     "execution_count": 27,
     "metadata": {},
     "output_type": "execute_result"
    }
   ],
   "source": [
    "df['Age_Range'].value_counts()"
   ]
  },
  {
   "cell_type": "code",
   "execution_count": 28,
   "id": "412e52ec",
   "metadata": {
    "execution": {
     "iopub.execute_input": "2023-04-04T16:32:08.569217Z",
     "iopub.status.busy": "2023-04-04T16:32:08.568422Z",
     "iopub.status.idle": "2023-04-04T16:32:08.657628Z",
     "shell.execute_reply": "2023-04-04T16:32:08.656427Z"
    },
    "papermill": {
     "duration": 0.114571,
     "end_time": "2023-04-04T16:32:08.660256",
     "exception": false,
     "start_time": "2023-04-04T16:32:08.545685",
     "status": "completed"
    },
    "tags": []
   },
   "outputs": [
    {
     "data": {
      "text/html": [
       "<div>                            <div id=\"f85d1b48-18f9-4d89-b111-df4cb92045c1\" class=\"plotly-graph-div\" style=\"height:525px; width:100%;\"></div>            <script type=\"text/javascript\">                require([\"plotly\"], function(Plotly) {                    window.PLOTLYENV=window.PLOTLYENV || {};                                    if (document.getElementById(\"f85d1b48-18f9-4d89-b111-df4cb92045c1\")) {                    Plotly.newPlot(                        \"f85d1b48-18f9-4d89-b111-df4cb92045c1\",                        [{\"alignmentgroup\":\"True\",\"bingroup\":\"x\",\"hovertemplate\":\"Age_Range=%{x}<br>count=%{y}<extra></extra>\",\"legendgroup\":\"20-30\",\"marker\":{\"color\":\"#636efa\",\"pattern\":{\"shape\":\"\"}},\"name\":\"20-30\",\"offsetgroup\":\"20-30\",\"orientation\":\"v\",\"showlegend\":true,\"texttemplate\":\"%{value:3s}\",\"x\":[\"20-30\",\"20-30\",\"20-30\",\"20-30\",\"20-30\",\"20-30\",\"20-30\",\"20-30\",\"20-30\",\"20-30\",\"20-30\",\"20-30\",\"20-30\",\"20-30\",\"20-30\",\"20-30\",\"20-30\",\"20-30\",\"20-30\",\"20-30\",\"20-30\",\"20-30\",\"20-30\",\"20-30\",\"20-30\",\"20-30\",\"20-30\",\"20-30\",\"20-30\",\"20-30\",\"20-30\",\"20-30\",\"20-30\",\"20-30\",\"20-30\",\"20-30\",\"20-30\",\"20-30\",\"20-30\",\"20-30\",\"20-30\",\"20-30\",\"20-30\",\"20-30\",\"20-30\",\"20-30\",\"20-30\",\"20-30\",\"20-30\",\"20-30\",\"20-30\",\"20-30\",\"20-30\",\"20-30\",\"20-30\",\"20-30\",\"20-30\",\"20-30\",\"20-30\",\"20-30\",\"20-30\",\"20-30\",\"20-30\",\"20-30\",\"20-30\",\"20-30\",\"20-30\",\"20-30\",\"20-30\",\"20-30\",\"20-30\",\"20-30\",\"20-30\",\"20-30\",\"20-30\",\"20-30\",\"20-30\",\"20-30\",\"20-30\",\"20-30\",\"20-30\",\"20-30\",\"20-30\",\"20-30\",\"20-30\",\"20-30\",\"20-30\",\"20-30\",\"20-30\",\"20-30\",\"20-30\",\"20-30\",\"20-30\",\"20-30\",\"20-30\",\"20-30\",\"20-30\",\"20-30\",\"20-30\",\"20-30\",\"20-30\",\"20-30\",\"20-30\",\"20-30\",\"20-30\",\"20-30\",\"20-30\",\"20-30\",\"20-30\",\"20-30\",\"20-30\",\"20-30\",\"20-30\",\"20-30\",\"20-30\",\"20-30\",\"20-30\",\"20-30\",\"20-30\",\"20-30\",\"20-30\",\"20-30\",\"20-30\",\"20-30\",\"20-30\",\"20-30\",\"20-30\",\"20-30\",\"20-30\",\"20-30\",\"20-30\",\"20-30\",\"20-30\",\"20-30\",\"20-30\",\"20-30\",\"20-30\",\"20-30\",\"20-30\",\"20-30\",\"20-30\",\"20-30\",\"20-30\",\"20-30\",\"20-30\",\"20-30\",\"20-30\",\"20-30\",\"20-30\",\"20-30\",\"20-30\",\"20-30\",\"20-30\",\"20-30\",\"20-30\",\"20-30\",\"20-30\",\"20-30\",\"20-30\",\"20-30\",\"20-30\",\"20-30\",\"20-30\",\"20-30\",\"20-30\",\"20-30\",\"20-30\",\"20-30\",\"20-30\",\"20-30\",\"20-30\",\"20-30\",\"20-30\",\"20-30\",\"20-30\",\"20-30\",\"20-30\",\"20-30\",\"20-30\",\"20-30\",\"20-30\",\"20-30\",\"20-30\",\"20-30\",\"20-30\",\"20-30\",\"20-30\",\"20-30\",\"20-30\",\"20-30\",\"20-30\",\"20-30\",\"20-30\",\"20-30\",\"20-30\",\"20-30\",\"20-30\",\"20-30\",\"20-30\",\"20-30\",\"20-30\",\"20-30\",\"20-30\",\"20-30\",\"20-30\",\"20-30\",\"20-30\",\"20-30\",\"20-30\",\"20-30\",\"20-30\",\"20-30\",\"20-30\",\"20-30\",\"20-30\",\"20-30\",\"20-30\",\"20-30\",\"20-30\",\"20-30\",\"20-30\",\"20-30\",\"20-30\",\"20-30\",\"20-30\",\"20-30\",\"20-30\",\"20-30\",\"20-30\",\"20-30\",\"20-30\",\"20-30\",\"20-30\",\"20-30\",\"20-30\",\"20-30\",\"20-30\",\"20-30\",\"20-30\",\"20-30\",\"20-30\",\"20-30\",\"20-30\",\"20-30\",\"20-30\",\"20-30\",\"20-30\",\"20-30\",\"20-30\",\"20-30\",\"20-30\",\"20-30\",\"20-30\",\"20-30\",\"20-30\",\"20-30\",\"20-30\",\"20-30\",\"20-30\",\"20-30\",\"20-30\",\"20-30\",\"20-30\",\"20-30\",\"20-30\",\"20-30\"],\"xaxis\":\"x\",\"yaxis\":\"y\",\"type\":\"histogram\"},{\"alignmentgroup\":\"True\",\"bingroup\":\"x\",\"hovertemplate\":\"Age_Range=%{x}<br>count=%{y}<extra></extra>\",\"legendgroup\":\"30-40\",\"marker\":{\"color\":\"#EF553B\",\"pattern\":{\"shape\":\"\"}},\"name\":\"30-40\",\"offsetgroup\":\"30-40\",\"orientation\":\"v\",\"showlegend\":true,\"texttemplate\":\"%{value:3s}\",\"x\":[\"30-40\",\"30-40\",\"30-40\",\"30-40\",\"30-40\",\"30-40\",\"30-40\",\"30-40\",\"30-40\",\"30-40\",\"30-40\",\"30-40\",\"30-40\",\"30-40\",\"30-40\",\"30-40\",\"30-40\",\"30-40\",\"30-40\",\"30-40\",\"30-40\",\"30-40\",\"30-40\",\"30-40\",\"30-40\",\"30-40\",\"30-40\",\"30-40\",\"30-40\",\"30-40\",\"30-40\",\"30-40\",\"30-40\",\"30-40\",\"30-40\",\"30-40\",\"30-40\",\"30-40\",\"30-40\",\"30-40\",\"30-40\",\"30-40\",\"30-40\",\"30-40\",\"30-40\",\"30-40\",\"30-40\",\"30-40\",\"30-40\",\"30-40\",\"30-40\",\"30-40\",\"30-40\",\"30-40\",\"30-40\",\"30-40\",\"30-40\",\"30-40\",\"30-40\",\"30-40\",\"30-40\",\"30-40\",\"30-40\",\"30-40\",\"30-40\",\"30-40\",\"30-40\",\"30-40\",\"30-40\",\"30-40\",\"30-40\",\"30-40\",\"30-40\",\"30-40\",\"30-40\",\"30-40\",\"30-40\",\"30-40\",\"30-40\",\"30-40\",\"30-40\",\"30-40\",\"30-40\",\"30-40\",\"30-40\",\"30-40\",\"30-40\",\"30-40\",\"30-40\",\"30-40\",\"30-40\",\"30-40\",\"30-40\",\"30-40\",\"30-40\",\"30-40\",\"30-40\",\"30-40\",\"30-40\",\"30-40\",\"30-40\",\"30-40\",\"30-40\",\"30-40\",\"30-40\",\"30-40\",\"30-40\",\"30-40\",\"30-40\",\"30-40\",\"30-40\",\"30-40\",\"30-40\",\"30-40\",\"30-40\",\"30-40\",\"30-40\",\"30-40\",\"30-40\",\"30-40\",\"30-40\",\"30-40\",\"30-40\",\"30-40\",\"30-40\",\"30-40\",\"30-40\",\"30-40\",\"30-40\",\"30-40\",\"30-40\",\"30-40\",\"30-40\",\"30-40\",\"30-40\",\"30-40\",\"30-40\",\"30-40\",\"30-40\",\"30-40\",\"30-40\",\"30-40\",\"30-40\",\"30-40\",\"30-40\",\"30-40\",\"30-40\",\"30-40\",\"30-40\",\"30-40\",\"30-40\",\"30-40\",\"30-40\",\"30-40\",\"30-40\",\"30-40\",\"30-40\",\"30-40\",\"30-40\",\"30-40\",\"30-40\",\"30-40\",\"30-40\",\"30-40\",\"30-40\",\"30-40\",\"30-40\",\"30-40\",\"30-40\",\"30-40\",\"30-40\",\"30-40\",\"30-40\",\"30-40\",\"30-40\",\"30-40\",\"30-40\",\"30-40\",\"30-40\",\"30-40\",\"30-40\",\"30-40\",\"30-40\",\"30-40\",\"30-40\",\"30-40\",\"30-40\",\"30-40\",\"30-40\",\"30-40\",\"30-40\",\"30-40\",\"30-40\",\"30-40\",\"30-40\",\"30-40\",\"30-40\",\"30-40\",\"30-40\",\"30-40\",\"30-40\",\"30-40\",\"30-40\",\"30-40\",\"30-40\",\"30-40\",\"30-40\",\"30-40\",\"30-40\",\"30-40\",\"30-40\"],\"xaxis\":\"x\",\"yaxis\":\"y\",\"type\":\"histogram\"},{\"alignmentgroup\":\"True\",\"bingroup\":\"x\",\"hovertemplate\":\"Age_Range=%{x}<br>count=%{y}<extra></extra>\",\"legendgroup\":\"50-60\",\"marker\":{\"color\":\"#00cc96\",\"pattern\":{\"shape\":\"\"}},\"name\":\"50-60\",\"offsetgroup\":\"50-60\",\"orientation\":\"v\",\"showlegend\":true,\"texttemplate\":\"%{value:3s}\",\"x\":[\"50-60\",\"50-60\",\"50-60\",\"50-60\",\"50-60\",\"50-60\",\"50-60\",\"50-60\",\"50-60\",\"50-60\",\"50-60\",\"50-60\",\"50-60\",\"50-60\",\"50-60\",\"50-60\",\"50-60\",\"50-60\",\"50-60\",\"50-60\",\"50-60\",\"50-60\",\"50-60\",\"50-60\",\"50-60\",\"50-60\",\"50-60\",\"50-60\",\"50-60\",\"50-60\",\"50-60\",\"50-60\",\"50-60\",\"50-60\",\"50-60\",\"50-60\",\"50-60\",\"50-60\",\"50-60\",\"50-60\",\"50-60\",\"50-60\",\"50-60\",\"50-60\",\"50-60\",\"50-60\",\"50-60\",\"50-60\",\"50-60\",\"50-60\",\"50-60\",\"50-60\",\"50-60\",\"50-60\",\"50-60\",\"50-60\",\"50-60\",\"50-60\",\"50-60\",\"50-60\",\"50-60\",\"50-60\"],\"xaxis\":\"x\",\"yaxis\":\"y\",\"type\":\"histogram\"},{\"alignmentgroup\":\"True\",\"bingroup\":\"x\",\"hovertemplate\":\"Age_Range=%{x}<br>count=%{y}<extra></extra>\",\"legendgroup\":\"0-10\",\"marker\":{\"color\":\"#ab63fa\",\"pattern\":{\"shape\":\"\"}},\"name\":\"0-10\",\"offsetgroup\":\"0-10\",\"orientation\":\"v\",\"showlegend\":true,\"texttemplate\":\"%{value:3s}\",\"x\":[\"0-10\",\"0-10\",\"0-10\",\"0-10\",\"0-10\",\"0-10\",\"0-10\",\"0-10\",\"0-10\",\"0-10\",\"0-10\",\"0-10\",\"0-10\",\"0-10\",\"0-10\",\"0-10\",\"0-10\",\"0-10\",\"0-10\",\"0-10\",\"0-10\",\"0-10\",\"0-10\",\"0-10\",\"0-10\",\"0-10\",\"0-10\",\"0-10\",\"0-10\",\"0-10\",\"0-10\",\"0-10\",\"0-10\",\"0-10\",\"0-10\",\"0-10\",\"0-10\",\"0-10\",\"0-10\",\"0-10\",\"0-10\",\"0-10\",\"0-10\",\"0-10\",\"0-10\",\"0-10\",\"0-10\",\"0-10\",\"0-10\",\"0-10\",\"0-10\",\"0-10\",\"0-10\",\"0-10\",\"0-10\",\"0-10\",\"0-10\",\"0-10\",\"0-10\",\"0-10\",\"0-10\",\"0-10\",\"0-10\",\"0-10\",\"0-10\",\"0-10\",\"0-10\",\"0-10\",\"0-10\",\"0-10\",\"0-10\",\"0-10\",\"0-10\",\"0-10\",\"0-10\",\"0-10\",\"0-10\",\"0-10\",\"0-10\",\"0-10\",\"0-10\",\"0-10\"],\"xaxis\":\"x\",\"yaxis\":\"y\",\"type\":\"histogram\"},{\"alignmentgroup\":\"True\",\"bingroup\":\"x\",\"hovertemplate\":\"Age_Range=%{x}<br>count=%{y}<extra></extra>\",\"legendgroup\":\"10-20\",\"marker\":{\"color\":\"#FFA15A\",\"pattern\":{\"shape\":\"\"}},\"name\":\"10-20\",\"offsetgroup\":\"10-20\",\"orientation\":\"v\",\"showlegend\":true,\"texttemplate\":\"%{value:3s}\",\"x\":[\"10-20\",\"10-20\",\"10-20\",\"10-20\",\"10-20\",\"10-20\",\"10-20\",\"10-20\",\"10-20\",\"10-20\",\"10-20\",\"10-20\",\"10-20\",\"10-20\",\"10-20\",\"10-20\",\"10-20\",\"10-20\",\"10-20\",\"10-20\",\"10-20\",\"10-20\",\"10-20\",\"10-20\",\"10-20\",\"10-20\",\"10-20\",\"10-20\",\"10-20\",\"10-20\",\"10-20\",\"10-20\",\"10-20\",\"10-20\",\"10-20\",\"10-20\",\"10-20\",\"10-20\",\"10-20\",\"10-20\",\"10-20\",\"10-20\",\"10-20\",\"10-20\",\"10-20\",\"10-20\",\"10-20\",\"10-20\",\"10-20\",\"10-20\",\"10-20\",\"10-20\",\"10-20\",\"10-20\",\"10-20\",\"10-20\",\"10-20\",\"10-20\",\"10-20\",\"10-20\",\"10-20\",\"10-20\",\"10-20\",\"10-20\",\"10-20\",\"10-20\",\"10-20\",\"10-20\",\"10-20\",\"10-20\",\"10-20\",\"10-20\",\"10-20\",\"10-20\",\"10-20\",\"10-20\",\"10-20\",\"10-20\",\"10-20\",\"10-20\",\"10-20\",\"10-20\",\"10-20\",\"10-20\",\"10-20\",\"10-20\",\"10-20\",\"10-20\",\"10-20\",\"10-20\",\"10-20\",\"10-20\",\"10-20\",\"10-20\",\"10-20\",\"10-20\",\"10-20\",\"10-20\",\"10-20\",\"10-20\",\"10-20\",\"10-20\",\"10-20\",\"10-20\",\"10-20\",\"10-20\",\"10-20\",\"10-20\",\"10-20\",\"10-20\",\"10-20\",\"10-20\",\"10-20\",\"10-20\",\"10-20\",\"10-20\",\"10-20\",\"10-20\",\"10-20\",\"10-20\",\"10-20\",\"10-20\",\"10-20\",\"10-20\",\"10-20\",\"10-20\",\"10-20\",\"10-20\",\"10-20\"],\"xaxis\":\"x\",\"yaxis\":\"y\",\"type\":\"histogram\"},{\"alignmentgroup\":\"True\",\"bingroup\":\"x\",\"hovertemplate\":\"Age_Range=%{x}<br>count=%{y}<extra></extra>\",\"legendgroup\":\"40-50\",\"marker\":{\"color\":\"#19d3f3\",\"pattern\":{\"shape\":\"\"}},\"name\":\"40-50\",\"offsetgroup\":\"40-50\",\"orientation\":\"v\",\"showlegend\":true,\"texttemplate\":\"%{value:3s}\",\"x\":[\"40-50\",\"40-50\",\"40-50\",\"40-50\",\"40-50\",\"40-50\",\"40-50\",\"40-50\",\"40-50\",\"40-50\",\"40-50\",\"40-50\",\"40-50\",\"40-50\",\"40-50\",\"40-50\",\"40-50\",\"40-50\",\"40-50\",\"40-50\",\"40-50\",\"40-50\",\"40-50\",\"40-50\",\"40-50\",\"40-50\",\"40-50\",\"40-50\",\"40-50\",\"40-50\",\"40-50\",\"40-50\",\"40-50\",\"40-50\",\"40-50\",\"40-50\",\"40-50\",\"40-50\",\"40-50\",\"40-50\",\"40-50\",\"40-50\",\"40-50\",\"40-50\",\"40-50\",\"40-50\",\"40-50\",\"40-50\",\"40-50\",\"40-50\",\"40-50\",\"40-50\",\"40-50\",\"40-50\",\"40-50\",\"40-50\",\"40-50\",\"40-50\",\"40-50\",\"40-50\",\"40-50\",\"40-50\",\"40-50\",\"40-50\",\"40-50\",\"40-50\",\"40-50\",\"40-50\",\"40-50\",\"40-50\",\"40-50\",\"40-50\",\"40-50\",\"40-50\",\"40-50\",\"40-50\",\"40-50\",\"40-50\",\"40-50\",\"40-50\",\"40-50\",\"40-50\",\"40-50\",\"40-50\",\"40-50\",\"40-50\",\"40-50\",\"40-50\",\"40-50\",\"40-50\",\"40-50\",\"40-50\",\"40-50\",\"40-50\",\"40-50\",\"40-50\",\"40-50\",\"40-50\",\"40-50\",\"40-50\",\"40-50\",\"40-50\",\"40-50\",\"40-50\",\"40-50\",\"40-50\",\"40-50\",\"40-50\",\"40-50\",\"40-50\",\"40-50\"],\"xaxis\":\"x\",\"yaxis\":\"y\",\"type\":\"histogram\"},{\"alignmentgroup\":\"True\",\"bingroup\":\"x\",\"hovertemplate\":\"Age_Range=%{x}<br>count=%{y}<extra></extra>\",\"legendgroup\":\"60-70\",\"marker\":{\"color\":\"#FF6692\",\"pattern\":{\"shape\":\"\"}},\"name\":\"60-70\",\"offsetgroup\":\"60-70\",\"orientation\":\"v\",\"showlegend\":true,\"texttemplate\":\"%{value:3s}\",\"x\":[\"60-70\",\"60-70\",\"60-70\",\"60-70\",\"60-70\",\"60-70\",\"60-70\",\"60-70\",\"60-70\",\"60-70\",\"60-70\",\"60-70\",\"60-70\",\"60-70\",\"60-70\",\"60-70\",\"60-70\",\"60-70\",\"60-70\",\"60-70\",\"60-70\",\"60-70\",\"60-70\",\"60-70\",\"60-70\",\"60-70\",\"60-70\",\"60-70\",\"60-70\",\"60-70\"],\"xaxis\":\"x\",\"yaxis\":\"y\",\"type\":\"histogram\"}],                        {\"template\":{\"data\":{\"histogram2dcontour\":[{\"type\":\"histogram2dcontour\",\"colorbar\":{\"outlinewidth\":0,\"ticks\":\"\"},\"colorscale\":[[0.0,\"#0d0887\"],[0.1111111111111111,\"#46039f\"],[0.2222222222222222,\"#7201a8\"],[0.3333333333333333,\"#9c179e\"],[0.4444444444444444,\"#bd3786\"],[0.5555555555555556,\"#d8576b\"],[0.6666666666666666,\"#ed7953\"],[0.7777777777777778,\"#fb9f3a\"],[0.8888888888888888,\"#fdca26\"],[1.0,\"#f0f921\"]]}],\"choropleth\":[{\"type\":\"choropleth\",\"colorbar\":{\"outlinewidth\":0,\"ticks\":\"\"}}],\"histogram2d\":[{\"type\":\"histogram2d\",\"colorbar\":{\"outlinewidth\":0,\"ticks\":\"\"},\"colorscale\":[[0.0,\"#0d0887\"],[0.1111111111111111,\"#46039f\"],[0.2222222222222222,\"#7201a8\"],[0.3333333333333333,\"#9c179e\"],[0.4444444444444444,\"#bd3786\"],[0.5555555555555556,\"#d8576b\"],[0.6666666666666666,\"#ed7953\"],[0.7777777777777778,\"#fb9f3a\"],[0.8888888888888888,\"#fdca26\"],[1.0,\"#f0f921\"]]}],\"heatmap\":[{\"type\":\"heatmap\",\"colorbar\":{\"outlinewidth\":0,\"ticks\":\"\"},\"colorscale\":[[0.0,\"#0d0887\"],[0.1111111111111111,\"#46039f\"],[0.2222222222222222,\"#7201a8\"],[0.3333333333333333,\"#9c179e\"],[0.4444444444444444,\"#bd3786\"],[0.5555555555555556,\"#d8576b\"],[0.6666666666666666,\"#ed7953\"],[0.7777777777777778,\"#fb9f3a\"],[0.8888888888888888,\"#fdca26\"],[1.0,\"#f0f921\"]]}],\"heatmapgl\":[{\"type\":\"heatmapgl\",\"colorbar\":{\"outlinewidth\":0,\"ticks\":\"\"},\"colorscale\":[[0.0,\"#0d0887\"],[0.1111111111111111,\"#46039f\"],[0.2222222222222222,\"#7201a8\"],[0.3333333333333333,\"#9c179e\"],[0.4444444444444444,\"#bd3786\"],[0.5555555555555556,\"#d8576b\"],[0.6666666666666666,\"#ed7953\"],[0.7777777777777778,\"#fb9f3a\"],[0.8888888888888888,\"#fdca26\"],[1.0,\"#f0f921\"]]}],\"contourcarpet\":[{\"type\":\"contourcarpet\",\"colorbar\":{\"outlinewidth\":0,\"ticks\":\"\"}}],\"contour\":[{\"type\":\"contour\",\"colorbar\":{\"outlinewidth\":0,\"ticks\":\"\"},\"colorscale\":[[0.0,\"#0d0887\"],[0.1111111111111111,\"#46039f\"],[0.2222222222222222,\"#7201a8\"],[0.3333333333333333,\"#9c179e\"],[0.4444444444444444,\"#bd3786\"],[0.5555555555555556,\"#d8576b\"],[0.6666666666666666,\"#ed7953\"],[0.7777777777777778,\"#fb9f3a\"],[0.8888888888888888,\"#fdca26\"],[1.0,\"#f0f921\"]]}],\"surface\":[{\"type\":\"surface\",\"colorbar\":{\"outlinewidth\":0,\"ticks\":\"\"},\"colorscale\":[[0.0,\"#0d0887\"],[0.1111111111111111,\"#46039f\"],[0.2222222222222222,\"#7201a8\"],[0.3333333333333333,\"#9c179e\"],[0.4444444444444444,\"#bd3786\"],[0.5555555555555556,\"#d8576b\"],[0.6666666666666666,\"#ed7953\"],[0.7777777777777778,\"#fb9f3a\"],[0.8888888888888888,\"#fdca26\"],[1.0,\"#f0f921\"]]}],\"mesh3d\":[{\"type\":\"mesh3d\",\"colorbar\":{\"outlinewidth\":0,\"ticks\":\"\"}}],\"scatter\":[{\"fillpattern\":{\"fillmode\":\"overlay\",\"size\":10,\"solidity\":0.2},\"type\":\"scatter\"}],\"parcoords\":[{\"type\":\"parcoords\",\"line\":{\"colorbar\":{\"outlinewidth\":0,\"ticks\":\"\"}}}],\"scatterpolargl\":[{\"type\":\"scatterpolargl\",\"marker\":{\"colorbar\":{\"outlinewidth\":0,\"ticks\":\"\"}}}],\"bar\":[{\"error_x\":{\"color\":\"#2a3f5f\"},\"error_y\":{\"color\":\"#2a3f5f\"},\"marker\":{\"line\":{\"color\":\"#E5ECF6\",\"width\":0.5},\"pattern\":{\"fillmode\":\"overlay\",\"size\":10,\"solidity\":0.2}},\"type\":\"bar\"}],\"scattergeo\":[{\"type\":\"scattergeo\",\"marker\":{\"colorbar\":{\"outlinewidth\":0,\"ticks\":\"\"}}}],\"scatterpolar\":[{\"type\":\"scatterpolar\",\"marker\":{\"colorbar\":{\"outlinewidth\":0,\"ticks\":\"\"}}}],\"histogram\":[{\"marker\":{\"pattern\":{\"fillmode\":\"overlay\",\"size\":10,\"solidity\":0.2}},\"type\":\"histogram\"}],\"scattergl\":[{\"type\":\"scattergl\",\"marker\":{\"colorbar\":{\"outlinewidth\":0,\"ticks\":\"\"}}}],\"scatter3d\":[{\"type\":\"scatter3d\",\"line\":{\"colorbar\":{\"outlinewidth\":0,\"ticks\":\"\"}},\"marker\":{\"colorbar\":{\"outlinewidth\":0,\"ticks\":\"\"}}}],\"scattermapbox\":[{\"type\":\"scattermapbox\",\"marker\":{\"colorbar\":{\"outlinewidth\":0,\"ticks\":\"\"}}}],\"scatterternary\":[{\"type\":\"scatterternary\",\"marker\":{\"colorbar\":{\"outlinewidth\":0,\"ticks\":\"\"}}}],\"scattercarpet\":[{\"type\":\"scattercarpet\",\"marker\":{\"colorbar\":{\"outlinewidth\":0,\"ticks\":\"\"}}}],\"carpet\":[{\"aaxis\":{\"endlinecolor\":\"#2a3f5f\",\"gridcolor\":\"white\",\"linecolor\":\"white\",\"minorgridcolor\":\"white\",\"startlinecolor\":\"#2a3f5f\"},\"baxis\":{\"endlinecolor\":\"#2a3f5f\",\"gridcolor\":\"white\",\"linecolor\":\"white\",\"minorgridcolor\":\"white\",\"startlinecolor\":\"#2a3f5f\"},\"type\":\"carpet\"}],\"table\":[{\"cells\":{\"fill\":{\"color\":\"#EBF0F8\"},\"line\":{\"color\":\"white\"}},\"header\":{\"fill\":{\"color\":\"#C8D4E3\"},\"line\":{\"color\":\"white\"}},\"type\":\"table\"}],\"barpolar\":[{\"marker\":{\"line\":{\"color\":\"#E5ECF6\",\"width\":0.5},\"pattern\":{\"fillmode\":\"overlay\",\"size\":10,\"solidity\":0.2}},\"type\":\"barpolar\"}],\"pie\":[{\"automargin\":true,\"type\":\"pie\"}]},\"layout\":{\"autotypenumbers\":\"strict\",\"colorway\":[\"#636efa\",\"#EF553B\",\"#00cc96\",\"#ab63fa\",\"#FFA15A\",\"#19d3f3\",\"#FF6692\",\"#B6E880\",\"#FF97FF\",\"#FECB52\"],\"font\":{\"color\":\"#2a3f5f\"},\"hovermode\":\"closest\",\"hoverlabel\":{\"align\":\"left\"},\"paper_bgcolor\":\"white\",\"plot_bgcolor\":\"#E5ECF6\",\"polar\":{\"bgcolor\":\"#E5ECF6\",\"angularaxis\":{\"gridcolor\":\"white\",\"linecolor\":\"white\",\"ticks\":\"\"},\"radialaxis\":{\"gridcolor\":\"white\",\"linecolor\":\"white\",\"ticks\":\"\"}},\"ternary\":{\"bgcolor\":\"#E5ECF6\",\"aaxis\":{\"gridcolor\":\"white\",\"linecolor\":\"white\",\"ticks\":\"\"},\"baxis\":{\"gridcolor\":\"white\",\"linecolor\":\"white\",\"ticks\":\"\"},\"caxis\":{\"gridcolor\":\"white\",\"linecolor\":\"white\",\"ticks\":\"\"}},\"coloraxis\":{\"colorbar\":{\"outlinewidth\":0,\"ticks\":\"\"}},\"colorscale\":{\"sequential\":[[0.0,\"#0d0887\"],[0.1111111111111111,\"#46039f\"],[0.2222222222222222,\"#7201a8\"],[0.3333333333333333,\"#9c179e\"],[0.4444444444444444,\"#bd3786\"],[0.5555555555555556,\"#d8576b\"],[0.6666666666666666,\"#ed7953\"],[0.7777777777777778,\"#fb9f3a\"],[0.8888888888888888,\"#fdca26\"],[1.0,\"#f0f921\"]],\"sequentialminus\":[[0.0,\"#0d0887\"],[0.1111111111111111,\"#46039f\"],[0.2222222222222222,\"#7201a8\"],[0.3333333333333333,\"#9c179e\"],[0.4444444444444444,\"#bd3786\"],[0.5555555555555556,\"#d8576b\"],[0.6666666666666666,\"#ed7953\"],[0.7777777777777778,\"#fb9f3a\"],[0.8888888888888888,\"#fdca26\"],[1.0,\"#f0f921\"]],\"diverging\":[[0,\"#8e0152\"],[0.1,\"#c51b7d\"],[0.2,\"#de77ae\"],[0.3,\"#f1b6da\"],[0.4,\"#fde0ef\"],[0.5,\"#f7f7f7\"],[0.6,\"#e6f5d0\"],[0.7,\"#b8e186\"],[0.8,\"#7fbc41\"],[0.9,\"#4d9221\"],[1,\"#276419\"]]},\"xaxis\":{\"gridcolor\":\"white\",\"linecolor\":\"white\",\"ticks\":\"\",\"title\":{\"standoff\":15},\"zerolinecolor\":\"white\",\"automargin\":true,\"zerolinewidth\":2},\"yaxis\":{\"gridcolor\":\"white\",\"linecolor\":\"white\",\"ticks\":\"\",\"title\":{\"standoff\":15},\"zerolinecolor\":\"white\",\"automargin\":true,\"zerolinewidth\":2},\"scene\":{\"xaxis\":{\"backgroundcolor\":\"#E5ECF6\",\"gridcolor\":\"white\",\"linecolor\":\"white\",\"showbackground\":true,\"ticks\":\"\",\"zerolinecolor\":\"white\",\"gridwidth\":2},\"yaxis\":{\"backgroundcolor\":\"#E5ECF6\",\"gridcolor\":\"white\",\"linecolor\":\"white\",\"showbackground\":true,\"ticks\":\"\",\"zerolinecolor\":\"white\",\"gridwidth\":2},\"zaxis\":{\"backgroundcolor\":\"#E5ECF6\",\"gridcolor\":\"white\",\"linecolor\":\"white\",\"showbackground\":true,\"ticks\":\"\",\"zerolinecolor\":\"white\",\"gridwidth\":2}},\"shapedefaults\":{\"line\":{\"color\":\"#2a3f5f\"}},\"annotationdefaults\":{\"arrowcolor\":\"#2a3f5f\",\"arrowhead\":0,\"arrowwidth\":1},\"geo\":{\"bgcolor\":\"white\",\"landcolor\":\"#E5ECF6\",\"subunitcolor\":\"white\",\"showland\":true,\"showlakes\":true,\"lakecolor\":\"white\"},\"title\":{\"x\":0.05},\"mapbox\":{\"style\":\"light\"}}},\"xaxis\":{\"anchor\":\"y\",\"domain\":[0.0,1.0],\"title\":{\"text\":\"Age_Range\"},\"categoryorder\":\"array\",\"categoryarray\":[\"20-30\",\"30-40\",\"50-60\",\"0-10\",\"10-20\",\"40-50\",\"60-70\"]},\"yaxis\":{\"anchor\":\"x\",\"domain\":[0.0,1.0],\"title\":{\"text\":\"count\"}},\"legend\":{\"title\":{\"text\":\"Age_Range\"},\"tracegroupgap\":0},\"title\":{\"text\":\"Age group of passangers\"},\"barmode\":\"relative\"},                        {\"responsive\": true}                    ).then(function(){\n",
       "                            \n",
       "var gd = document.getElementById('f85d1b48-18f9-4d89-b111-df4cb92045c1');\n",
       "var x = new MutationObserver(function (mutations, observer) {{\n",
       "        var display = window.getComputedStyle(gd).display;\n",
       "        if (!display || display === 'none') {{\n",
       "            console.log([gd, 'removed!']);\n",
       "            Plotly.purge(gd);\n",
       "            observer.disconnect();\n",
       "        }}\n",
       "}});\n",
       "\n",
       "// Listen for the removal of the full notebook cells\n",
       "var notebookContainer = gd.closest('#notebook-container');\n",
       "if (notebookContainer) {{\n",
       "    x.observe(notebookContainer, {childList: true});\n",
       "}}\n",
       "\n",
       "// Listen for the clearing of the current output cell\n",
       "var outputEl = gd.closest('.output');\n",
       "if (outputEl) {{\n",
       "    x.observe(outputEl, {childList: true});\n",
       "}}\n",
       "\n",
       "                        })                };                });            </script>        </div>"
      ]
     },
     "metadata": {},
     "output_type": "display_data"
    }
   ],
   "source": [
    "px.histogram(df,x='Age_Range',color='Age_Range',title='Age group of passangers',text_auto='3s')"
   ]
  },
  {
   "cell_type": "markdown",
   "id": "488f823f",
   "metadata": {
    "papermill": {
     "duration": 0.01856,
     "end_time": "2023-04-04T16:32:08.697635",
     "exception": false,
     "start_time": "2023-04-04T16:32:08.679075",
     "status": "completed"
    },
    "tags": []
   },
   "source": [
    "# **Fare analysis**"
   ]
  },
  {
   "cell_type": "code",
   "execution_count": 29,
   "id": "c7593bee",
   "metadata": {
    "execution": {
     "iopub.execute_input": "2023-04-04T16:32:08.737976Z",
     "iopub.status.busy": "2023-04-04T16:32:08.737245Z",
     "iopub.status.idle": "2023-04-04T16:32:08.742673Z",
     "shell.execute_reply": "2023-04-04T16:32:08.741840Z"
    },
    "papermill": {
     "duration": 0.028008,
     "end_time": "2023-04-04T16:32:08.744805",
     "exception": false,
     "start_time": "2023-04-04T16:32:08.716797",
     "status": "completed"
    },
    "tags": []
   },
   "outputs": [],
   "source": [
    "mean_value=df['Fare'].mean()"
   ]
  },
  {
   "cell_type": "markdown",
   "id": "aca737fb",
   "metadata": {
    "papermill": {
     "duration": 0.018278,
     "end_time": "2023-04-04T16:32:08.781713",
     "exception": false,
     "start_time": "2023-04-04T16:32:08.763435",
     "status": "completed"
    },
    "tags": []
   },
   "source": [
    "## **Replacing null values**"
   ]
  },
  {
   "cell_type": "code",
   "execution_count": 30,
   "id": "5ccc85c9",
   "metadata": {
    "execution": {
     "iopub.execute_input": "2023-04-04T16:32:08.820520Z",
     "iopub.status.busy": "2023-04-04T16:32:08.820092Z",
     "iopub.status.idle": "2023-04-04T16:32:08.824440Z",
     "shell.execute_reply": "2023-04-04T16:32:08.823662Z"
    },
    "papermill": {
     "duration": 0.026337,
     "end_time": "2023-04-04T16:32:08.826515",
     "exception": false,
     "start_time": "2023-04-04T16:32:08.800178",
     "status": "completed"
    },
    "tags": []
   },
   "outputs": [],
   "source": [
    "#df['Fare'].fillna( method ='ffill', inplace = True)"
   ]
  },
  {
   "cell_type": "code",
   "execution_count": 31,
   "id": "d8eb897b",
   "metadata": {
    "execution": {
     "iopub.execute_input": "2023-04-04T16:32:08.865758Z",
     "iopub.status.busy": "2023-04-04T16:32:08.865057Z",
     "iopub.status.idle": "2023-04-04T16:32:08.870563Z",
     "shell.execute_reply": "2023-04-04T16:32:08.869756Z"
    },
    "papermill": {
     "duration": 0.027527,
     "end_time": "2023-04-04T16:32:08.872714",
     "exception": false,
     "start_time": "2023-04-04T16:32:08.845187",
     "status": "completed"
    },
    "tags": []
   },
   "outputs": [],
   "source": [
    "df['Fare'].fillna( value=mean_value, inplace = True)"
   ]
  },
  {
   "cell_type": "code",
   "execution_count": 32,
   "id": "fcdb1288",
   "metadata": {
    "execution": {
     "iopub.execute_input": "2023-04-04T16:32:08.912211Z",
     "iopub.status.busy": "2023-04-04T16:32:08.911471Z",
     "iopub.status.idle": "2023-04-04T16:32:08.919202Z",
     "shell.execute_reply": "2023-04-04T16:32:08.918283Z"
    },
    "papermill": {
     "duration": 0.030338,
     "end_time": "2023-04-04T16:32:08.921649",
     "exception": false,
     "start_time": "2023-04-04T16:32:08.891311",
     "status": "completed"
    },
    "tags": []
   },
   "outputs": [],
   "source": [
    "bins = [0,10,20,50,100,150,200,250,600]\n",
    "names = ['0-10','10-20','20-50','50-100','100-150','150-200','200-250','250+']\n",
    "\n",
    "d = dict(enumerate(names, 1))\n",
    "df['Fare_g'] = np.vectorize(d.get)(np.digitize(df['Fare'], bins))"
   ]
  },
  {
   "cell_type": "code",
   "execution_count": 33,
   "id": "3e1234c5",
   "metadata": {
    "execution": {
     "iopub.execute_input": "2023-04-04T16:32:08.960510Z",
     "iopub.status.busy": "2023-04-04T16:32:08.960087Z",
     "iopub.status.idle": "2023-04-04T16:32:09.049468Z",
     "shell.execute_reply": "2023-04-04T16:32:09.048301Z"
    },
    "papermill": {
     "duration": 0.111453,
     "end_time": "2023-04-04T16:32:09.051681",
     "exception": false,
     "start_time": "2023-04-04T16:32:08.940228",
     "status": "completed"
    },
    "tags": []
   },
   "outputs": [
    {
     "data": {
      "text/html": [
       "<div>                            <div id=\"c9ff8031-c596-4f64-943e-9dbb1827396c\" class=\"plotly-graph-div\" style=\"height:525px; width:100%;\"></div>            <script type=\"text/javascript\">                require([\"plotly\"], function(Plotly) {                    window.PLOTLYENV=window.PLOTLYENV || {};                                    if (document.getElementById(\"c9ff8031-c596-4f64-943e-9dbb1827396c\")) {                    Plotly.newPlot(                        \"c9ff8031-c596-4f64-943e-9dbb1827396c\",                        [{\"alignmentgroup\":\"True\",\"bingroup\":\"x\",\"hovertemplate\":\"Fare_g=%{x}<br>count=%{y}<extra></extra>\",\"legendgroup\":\"0-10\",\"marker\":{\"color\":\"#636efa\",\"pattern\":{\"shape\":\"\"}},\"name\":\"0-10\",\"offsetgroup\":\"0-10\",\"orientation\":\"v\",\"showlegend\":true,\"texttemplate\":\"%{value:3s}\",\"x\":[\"0-10\",\"0-10\",\"0-10\",\"0-10\",\"0-10\",\"0-10\",\"0-10\",\"0-10\",\"0-10\",\"0-10\",\"0-10\",\"0-10\",\"0-10\",\"0-10\",\"0-10\",\"0-10\",\"0-10\",\"0-10\",\"0-10\",\"0-10\",\"0-10\",\"0-10\",\"0-10\",\"0-10\",\"0-10\",\"0-10\",\"0-10\",\"0-10\",\"0-10\",\"0-10\",\"0-10\",\"0-10\",\"0-10\",\"0-10\",\"0-10\",\"0-10\",\"0-10\",\"0-10\",\"0-10\",\"0-10\",\"0-10\",\"0-10\",\"0-10\",\"0-10\",\"0-10\",\"0-10\",\"0-10\",\"0-10\",\"0-10\",\"0-10\",\"0-10\",\"0-10\",\"0-10\",\"0-10\",\"0-10\",\"0-10\",\"0-10\",\"0-10\",\"0-10\",\"0-10\",\"0-10\",\"0-10\",\"0-10\",\"0-10\",\"0-10\",\"0-10\",\"0-10\",\"0-10\",\"0-10\",\"0-10\",\"0-10\",\"0-10\",\"0-10\",\"0-10\",\"0-10\",\"0-10\",\"0-10\",\"0-10\",\"0-10\",\"0-10\",\"0-10\",\"0-10\",\"0-10\",\"0-10\",\"0-10\",\"0-10\",\"0-10\",\"0-10\",\"0-10\",\"0-10\",\"0-10\",\"0-10\",\"0-10\",\"0-10\",\"0-10\",\"0-10\",\"0-10\",\"0-10\",\"0-10\",\"0-10\",\"0-10\",\"0-10\",\"0-10\",\"0-10\",\"0-10\",\"0-10\",\"0-10\",\"0-10\",\"0-10\",\"0-10\",\"0-10\",\"0-10\",\"0-10\",\"0-10\",\"0-10\",\"0-10\",\"0-10\",\"0-10\",\"0-10\",\"0-10\",\"0-10\",\"0-10\",\"0-10\",\"0-10\",\"0-10\",\"0-10\",\"0-10\",\"0-10\",\"0-10\",\"0-10\",\"0-10\",\"0-10\",\"0-10\",\"0-10\",\"0-10\",\"0-10\",\"0-10\",\"0-10\",\"0-10\",\"0-10\",\"0-10\",\"0-10\",\"0-10\",\"0-10\",\"0-10\",\"0-10\",\"0-10\",\"0-10\",\"0-10\",\"0-10\",\"0-10\",\"0-10\",\"0-10\",\"0-10\",\"0-10\",\"0-10\",\"0-10\",\"0-10\",\"0-10\",\"0-10\",\"0-10\",\"0-10\",\"0-10\",\"0-10\",\"0-10\",\"0-10\",\"0-10\",\"0-10\",\"0-10\",\"0-10\",\"0-10\",\"0-10\",\"0-10\",\"0-10\",\"0-10\",\"0-10\",\"0-10\",\"0-10\",\"0-10\",\"0-10\",\"0-10\",\"0-10\",\"0-10\",\"0-10\",\"0-10\",\"0-10\",\"0-10\",\"0-10\",\"0-10\",\"0-10\",\"0-10\",\"0-10\",\"0-10\",\"0-10\",\"0-10\",\"0-10\",\"0-10\",\"0-10\",\"0-10\",\"0-10\",\"0-10\",\"0-10\",\"0-10\",\"0-10\",\"0-10\",\"0-10\",\"0-10\",\"0-10\",\"0-10\",\"0-10\",\"0-10\",\"0-10\",\"0-10\",\"0-10\",\"0-10\",\"0-10\",\"0-10\",\"0-10\",\"0-10\",\"0-10\",\"0-10\",\"0-10\",\"0-10\",\"0-10\",\"0-10\",\"0-10\",\"0-10\",\"0-10\",\"0-10\",\"0-10\",\"0-10\",\"0-10\",\"0-10\",\"0-10\",\"0-10\",\"0-10\",\"0-10\",\"0-10\",\"0-10\",\"0-10\",\"0-10\",\"0-10\",\"0-10\",\"0-10\",\"0-10\",\"0-10\",\"0-10\",\"0-10\",\"0-10\",\"0-10\",\"0-10\",\"0-10\",\"0-10\",\"0-10\",\"0-10\",\"0-10\",\"0-10\",\"0-10\",\"0-10\",\"0-10\",\"0-10\",\"0-10\",\"0-10\",\"0-10\",\"0-10\",\"0-10\",\"0-10\",\"0-10\",\"0-10\",\"0-10\",\"0-10\",\"0-10\",\"0-10\",\"0-10\",\"0-10\",\"0-10\",\"0-10\",\"0-10\",\"0-10\",\"0-10\",\"0-10\",\"0-10\",\"0-10\",\"0-10\",\"0-10\",\"0-10\",\"0-10\",\"0-10\",\"0-10\",\"0-10\",\"0-10\",\"0-10\",\"0-10\",\"0-10\",\"0-10\",\"0-10\",\"0-10\",\"0-10\",\"0-10\",\"0-10\",\"0-10\",\"0-10\",\"0-10\",\"0-10\",\"0-10\",\"0-10\",\"0-10\",\"0-10\",\"0-10\",\"0-10\",\"0-10\",\"0-10\",\"0-10\",\"0-10\",\"0-10\",\"0-10\",\"0-10\",\"0-10\",\"0-10\",\"0-10\",\"0-10\",\"0-10\",\"0-10\",\"0-10\",\"0-10\",\"0-10\",\"0-10\",\"0-10\",\"0-10\",\"0-10\",\"0-10\",\"0-10\",\"0-10\",\"0-10\",\"0-10\",\"0-10\"],\"xaxis\":\"x\",\"yaxis\":\"y\",\"type\":\"histogram\"},{\"alignmentgroup\":\"True\",\"bingroup\":\"x\",\"hovertemplate\":\"Fare_g=%{x}<br>count=%{y}<extra></extra>\",\"legendgroup\":\"50-100\",\"marker\":{\"color\":\"#EF553B\",\"pattern\":{\"shape\":\"\"}},\"name\":\"50-100\",\"offsetgroup\":\"50-100\",\"orientation\":\"v\",\"showlegend\":true,\"texttemplate\":\"%{value:3s}\",\"x\":[\"50-100\",\"50-100\",\"50-100\",\"50-100\",\"50-100\",\"50-100\",\"50-100\",\"50-100\",\"50-100\",\"50-100\",\"50-100\",\"50-100\",\"50-100\",\"50-100\",\"50-100\",\"50-100\",\"50-100\",\"50-100\",\"50-100\",\"50-100\",\"50-100\",\"50-100\",\"50-100\",\"50-100\",\"50-100\",\"50-100\",\"50-100\",\"50-100\",\"50-100\",\"50-100\",\"50-100\",\"50-100\",\"50-100\",\"50-100\",\"50-100\",\"50-100\",\"50-100\",\"50-100\",\"50-100\",\"50-100\",\"50-100\",\"50-100\",\"50-100\",\"50-100\",\"50-100\",\"50-100\",\"50-100\",\"50-100\",\"50-100\",\"50-100\",\"50-100\",\"50-100\",\"50-100\",\"50-100\",\"50-100\",\"50-100\",\"50-100\",\"50-100\",\"50-100\",\"50-100\",\"50-100\",\"50-100\",\"50-100\",\"50-100\",\"50-100\",\"50-100\",\"50-100\",\"50-100\",\"50-100\",\"50-100\",\"50-100\",\"50-100\",\"50-100\",\"50-100\",\"50-100\",\"50-100\",\"50-100\",\"50-100\",\"50-100\",\"50-100\",\"50-100\",\"50-100\",\"50-100\",\"50-100\",\"50-100\",\"50-100\",\"50-100\",\"50-100\",\"50-100\",\"50-100\",\"50-100\",\"50-100\",\"50-100\",\"50-100\",\"50-100\",\"50-100\",\"50-100\",\"50-100\",\"50-100\",\"50-100\",\"50-100\",\"50-100\",\"50-100\",\"50-100\",\"50-100\",\"50-100\",\"50-100\",\"50-100\"],\"xaxis\":\"x\",\"yaxis\":\"y\",\"type\":\"histogram\"},{\"alignmentgroup\":\"True\",\"bingroup\":\"x\",\"hovertemplate\":\"Fare_g=%{x}<br>count=%{y}<extra></extra>\",\"legendgroup\":\"20-50\",\"marker\":{\"color\":\"#00cc96\",\"pattern\":{\"shape\":\"\"}},\"name\":\"20-50\",\"offsetgroup\":\"20-50\",\"orientation\":\"v\",\"showlegend\":true,\"texttemplate\":\"%{value:3s}\",\"x\":[\"20-50\",\"20-50\",\"20-50\",\"20-50\",\"20-50\",\"20-50\",\"20-50\",\"20-50\",\"20-50\",\"20-50\",\"20-50\",\"20-50\",\"20-50\",\"20-50\",\"20-50\",\"20-50\",\"20-50\",\"20-50\",\"20-50\",\"20-50\",\"20-50\",\"20-50\",\"20-50\",\"20-50\",\"20-50\",\"20-50\",\"20-50\",\"20-50\",\"20-50\",\"20-50\",\"20-50\",\"20-50\",\"20-50\",\"20-50\",\"20-50\",\"20-50\",\"20-50\",\"20-50\",\"20-50\",\"20-50\",\"20-50\",\"20-50\",\"20-50\",\"20-50\",\"20-50\",\"20-50\",\"20-50\",\"20-50\",\"20-50\",\"20-50\",\"20-50\",\"20-50\",\"20-50\",\"20-50\",\"20-50\",\"20-50\",\"20-50\",\"20-50\",\"20-50\",\"20-50\",\"20-50\",\"20-50\",\"20-50\",\"20-50\",\"20-50\",\"20-50\",\"20-50\",\"20-50\",\"20-50\",\"20-50\",\"20-50\",\"20-50\",\"20-50\",\"20-50\",\"20-50\",\"20-50\",\"20-50\",\"20-50\",\"20-50\",\"20-50\",\"20-50\",\"20-50\",\"20-50\",\"20-50\",\"20-50\",\"20-50\",\"20-50\",\"20-50\",\"20-50\",\"20-50\",\"20-50\",\"20-50\",\"20-50\",\"20-50\",\"20-50\",\"20-50\",\"20-50\",\"20-50\",\"20-50\",\"20-50\",\"20-50\",\"20-50\",\"20-50\",\"20-50\",\"20-50\",\"20-50\",\"20-50\",\"20-50\",\"20-50\",\"20-50\",\"20-50\",\"20-50\",\"20-50\",\"20-50\",\"20-50\",\"20-50\",\"20-50\",\"20-50\",\"20-50\",\"20-50\",\"20-50\",\"20-50\",\"20-50\",\"20-50\",\"20-50\",\"20-50\",\"20-50\",\"20-50\",\"20-50\",\"20-50\",\"20-50\",\"20-50\",\"20-50\",\"20-50\",\"20-50\",\"20-50\",\"20-50\",\"20-50\",\"20-50\",\"20-50\",\"20-50\",\"20-50\",\"20-50\",\"20-50\",\"20-50\",\"20-50\",\"20-50\",\"20-50\",\"20-50\",\"20-50\",\"20-50\",\"20-50\",\"20-50\",\"20-50\",\"20-50\",\"20-50\",\"20-50\",\"20-50\",\"20-50\",\"20-50\",\"20-50\",\"20-50\",\"20-50\",\"20-50\",\"20-50\",\"20-50\",\"20-50\",\"20-50\",\"20-50\",\"20-50\",\"20-50\",\"20-50\",\"20-50\",\"20-50\",\"20-50\",\"20-50\",\"20-50\",\"20-50\",\"20-50\",\"20-50\",\"20-50\",\"20-50\",\"20-50\",\"20-50\",\"20-50\",\"20-50\",\"20-50\",\"20-50\",\"20-50\",\"20-50\",\"20-50\",\"20-50\",\"20-50\",\"20-50\",\"20-50\",\"20-50\",\"20-50\",\"20-50\",\"20-50\",\"20-50\",\"20-50\",\"20-50\",\"20-50\",\"20-50\",\"20-50\",\"20-50\",\"20-50\",\"20-50\",\"20-50\",\"20-50\",\"20-50\",\"20-50\",\"20-50\",\"20-50\",\"20-50\"],\"xaxis\":\"x\",\"yaxis\":\"y\",\"type\":\"histogram\"},{\"alignmentgroup\":\"True\",\"bingroup\":\"x\",\"hovertemplate\":\"Fare_g=%{x}<br>count=%{y}<extra></extra>\",\"legendgroup\":\"10-20\",\"marker\":{\"color\":\"#ab63fa\",\"pattern\":{\"shape\":\"\"}},\"name\":\"10-20\",\"offsetgroup\":\"10-20\",\"orientation\":\"v\",\"showlegend\":true,\"texttemplate\":\"%{value:3s}\",\"x\":[\"10-20\",\"10-20\",\"10-20\",\"10-20\",\"10-20\",\"10-20\",\"10-20\",\"10-20\",\"10-20\",\"10-20\",\"10-20\",\"10-20\",\"10-20\",\"10-20\",\"10-20\",\"10-20\",\"10-20\",\"10-20\",\"10-20\",\"10-20\",\"10-20\",\"10-20\",\"10-20\",\"10-20\",\"10-20\",\"10-20\",\"10-20\",\"10-20\",\"10-20\",\"10-20\",\"10-20\",\"10-20\",\"10-20\",\"10-20\",\"10-20\",\"10-20\",\"10-20\",\"10-20\",\"10-20\",\"10-20\",\"10-20\",\"10-20\",\"10-20\",\"10-20\",\"10-20\",\"10-20\",\"10-20\",\"10-20\",\"10-20\",\"10-20\",\"10-20\",\"10-20\",\"10-20\",\"10-20\",\"10-20\",\"10-20\",\"10-20\",\"10-20\",\"10-20\",\"10-20\",\"10-20\",\"10-20\",\"10-20\",\"10-20\",\"10-20\",\"10-20\",\"10-20\",\"10-20\",\"10-20\",\"10-20\",\"10-20\",\"10-20\",\"10-20\",\"10-20\",\"10-20\",\"10-20\",\"10-20\",\"10-20\",\"10-20\",\"10-20\",\"10-20\",\"10-20\",\"10-20\",\"10-20\",\"10-20\",\"10-20\",\"10-20\",\"10-20\",\"10-20\",\"10-20\",\"10-20\",\"10-20\",\"10-20\",\"10-20\",\"10-20\",\"10-20\",\"10-20\",\"10-20\",\"10-20\",\"10-20\",\"10-20\",\"10-20\",\"10-20\",\"10-20\",\"10-20\",\"10-20\",\"10-20\",\"10-20\",\"10-20\",\"10-20\",\"10-20\",\"10-20\",\"10-20\",\"10-20\",\"10-20\",\"10-20\",\"10-20\",\"10-20\",\"10-20\",\"10-20\",\"10-20\",\"10-20\",\"10-20\",\"10-20\",\"10-20\",\"10-20\",\"10-20\",\"10-20\",\"10-20\",\"10-20\",\"10-20\",\"10-20\",\"10-20\",\"10-20\",\"10-20\",\"10-20\",\"10-20\",\"10-20\",\"10-20\",\"10-20\",\"10-20\",\"10-20\",\"10-20\",\"10-20\",\"10-20\",\"10-20\",\"10-20\",\"10-20\",\"10-20\",\"10-20\",\"10-20\",\"10-20\",\"10-20\",\"10-20\",\"10-20\",\"10-20\",\"10-20\",\"10-20\",\"10-20\",\"10-20\",\"10-20\",\"10-20\",\"10-20\",\"10-20\",\"10-20\",\"10-20\",\"10-20\",\"10-20\",\"10-20\",\"10-20\",\"10-20\",\"10-20\",\"10-20\",\"10-20\",\"10-20\",\"10-20\",\"10-20\",\"10-20\",\"10-20\"],\"xaxis\":\"x\",\"yaxis\":\"y\",\"type\":\"histogram\"},{\"alignmentgroup\":\"True\",\"bingroup\":\"x\",\"hovertemplate\":\"Fare_g=%{x}<br>count=%{y}<extra></extra>\",\"legendgroup\":\"250+\",\"marker\":{\"color\":\"#FFA15A\",\"pattern\":{\"shape\":\"\"}},\"name\":\"250+\",\"offsetgroup\":\"250+\",\"orientation\":\"v\",\"showlegend\":true,\"texttemplate\":\"%{value:3s}\",\"x\":[\"250+\",\"250+\",\"250+\",\"250+\",\"250+\",\"250+\",\"250+\",\"250+\",\"250+\"],\"xaxis\":\"x\",\"yaxis\":\"y\",\"type\":\"histogram\"},{\"alignmentgroup\":\"True\",\"bingroup\":\"x\",\"hovertemplate\":\"Fare_g=%{x}<br>count=%{y}<extra></extra>\",\"legendgroup\":\"100-150\",\"marker\":{\"color\":\"#19d3f3\",\"pattern\":{\"shape\":\"\"}},\"name\":\"100-150\",\"offsetgroup\":\"100-150\",\"orientation\":\"v\",\"showlegend\":true,\"texttemplate\":\"%{value:3s}\",\"x\":[\"100-150\",\"100-150\",\"100-150\",\"100-150\",\"100-150\",\"100-150\",\"100-150\",\"100-150\",\"100-150\",\"100-150\",\"100-150\",\"100-150\",\"100-150\",\"100-150\",\"100-150\",\"100-150\",\"100-150\",\"100-150\",\"100-150\",\"100-150\",\"100-150\",\"100-150\",\"100-150\",\"100-150\"],\"xaxis\":\"x\",\"yaxis\":\"y\",\"type\":\"histogram\"},{\"alignmentgroup\":\"True\",\"bingroup\":\"x\",\"hovertemplate\":\"Fare_g=%{x}<br>count=%{y}<extra></extra>\",\"legendgroup\":\"200-250\",\"marker\":{\"color\":\"#FF6692\",\"pattern\":{\"shape\":\"\"}},\"name\":\"200-250\",\"offsetgroup\":\"200-250\",\"orientation\":\"v\",\"showlegend\":true,\"texttemplate\":\"%{value:3s}\",\"x\":[\"200-250\",\"200-250\",\"200-250\",\"200-250\",\"200-250\",\"200-250\",\"200-250\",\"200-250\",\"200-250\",\"200-250\",\"200-250\"],\"xaxis\":\"x\",\"yaxis\":\"y\",\"type\":\"histogram\"},{\"alignmentgroup\":\"True\",\"bingroup\":\"x\",\"hovertemplate\":\"Fare_g=%{x}<br>count=%{y}<extra></extra>\",\"legendgroup\":\"150-200\",\"marker\":{\"color\":\"#B6E880\",\"pattern\":{\"shape\":\"\"}},\"name\":\"150-200\",\"offsetgroup\":\"150-200\",\"orientation\":\"v\",\"showlegend\":true,\"texttemplate\":\"%{value:3s}\",\"x\":[\"150-200\",\"150-200\",\"150-200\",\"150-200\",\"150-200\",\"150-200\",\"150-200\",\"150-200\",\"150-200\"],\"xaxis\":\"x\",\"yaxis\":\"y\",\"type\":\"histogram\"}],                        {\"template\":{\"data\":{\"histogram2dcontour\":[{\"type\":\"histogram2dcontour\",\"colorbar\":{\"outlinewidth\":0,\"ticks\":\"\"},\"colorscale\":[[0.0,\"#0d0887\"],[0.1111111111111111,\"#46039f\"],[0.2222222222222222,\"#7201a8\"],[0.3333333333333333,\"#9c179e\"],[0.4444444444444444,\"#bd3786\"],[0.5555555555555556,\"#d8576b\"],[0.6666666666666666,\"#ed7953\"],[0.7777777777777778,\"#fb9f3a\"],[0.8888888888888888,\"#fdca26\"],[1.0,\"#f0f921\"]]}],\"choropleth\":[{\"type\":\"choropleth\",\"colorbar\":{\"outlinewidth\":0,\"ticks\":\"\"}}],\"histogram2d\":[{\"type\":\"histogram2d\",\"colorbar\":{\"outlinewidth\":0,\"ticks\":\"\"},\"colorscale\":[[0.0,\"#0d0887\"],[0.1111111111111111,\"#46039f\"],[0.2222222222222222,\"#7201a8\"],[0.3333333333333333,\"#9c179e\"],[0.4444444444444444,\"#bd3786\"],[0.5555555555555556,\"#d8576b\"],[0.6666666666666666,\"#ed7953\"],[0.7777777777777778,\"#fb9f3a\"],[0.8888888888888888,\"#fdca26\"],[1.0,\"#f0f921\"]]}],\"heatmap\":[{\"type\":\"heatmap\",\"colorbar\":{\"outlinewidth\":0,\"ticks\":\"\"},\"colorscale\":[[0.0,\"#0d0887\"],[0.1111111111111111,\"#46039f\"],[0.2222222222222222,\"#7201a8\"],[0.3333333333333333,\"#9c179e\"],[0.4444444444444444,\"#bd3786\"],[0.5555555555555556,\"#d8576b\"],[0.6666666666666666,\"#ed7953\"],[0.7777777777777778,\"#fb9f3a\"],[0.8888888888888888,\"#fdca26\"],[1.0,\"#f0f921\"]]}],\"heatmapgl\":[{\"type\":\"heatmapgl\",\"colorbar\":{\"outlinewidth\":0,\"ticks\":\"\"},\"colorscale\":[[0.0,\"#0d0887\"],[0.1111111111111111,\"#46039f\"],[0.2222222222222222,\"#7201a8\"],[0.3333333333333333,\"#9c179e\"],[0.4444444444444444,\"#bd3786\"],[0.5555555555555556,\"#d8576b\"],[0.6666666666666666,\"#ed7953\"],[0.7777777777777778,\"#fb9f3a\"],[0.8888888888888888,\"#fdca26\"],[1.0,\"#f0f921\"]]}],\"contourcarpet\":[{\"type\":\"contourcarpet\",\"colorbar\":{\"outlinewidth\":0,\"ticks\":\"\"}}],\"contour\":[{\"type\":\"contour\",\"colorbar\":{\"outlinewidth\":0,\"ticks\":\"\"},\"colorscale\":[[0.0,\"#0d0887\"],[0.1111111111111111,\"#46039f\"],[0.2222222222222222,\"#7201a8\"],[0.3333333333333333,\"#9c179e\"],[0.4444444444444444,\"#bd3786\"],[0.5555555555555556,\"#d8576b\"],[0.6666666666666666,\"#ed7953\"],[0.7777777777777778,\"#fb9f3a\"],[0.8888888888888888,\"#fdca26\"],[1.0,\"#f0f921\"]]}],\"surface\":[{\"type\":\"surface\",\"colorbar\":{\"outlinewidth\":0,\"ticks\":\"\"},\"colorscale\":[[0.0,\"#0d0887\"],[0.1111111111111111,\"#46039f\"],[0.2222222222222222,\"#7201a8\"],[0.3333333333333333,\"#9c179e\"],[0.4444444444444444,\"#bd3786\"],[0.5555555555555556,\"#d8576b\"],[0.6666666666666666,\"#ed7953\"],[0.7777777777777778,\"#fb9f3a\"],[0.8888888888888888,\"#fdca26\"],[1.0,\"#f0f921\"]]}],\"mesh3d\":[{\"type\":\"mesh3d\",\"colorbar\":{\"outlinewidth\":0,\"ticks\":\"\"}}],\"scatter\":[{\"fillpattern\":{\"fillmode\":\"overlay\",\"size\":10,\"solidity\":0.2},\"type\":\"scatter\"}],\"parcoords\":[{\"type\":\"parcoords\",\"line\":{\"colorbar\":{\"outlinewidth\":0,\"ticks\":\"\"}}}],\"scatterpolargl\":[{\"type\":\"scatterpolargl\",\"marker\":{\"colorbar\":{\"outlinewidth\":0,\"ticks\":\"\"}}}],\"bar\":[{\"error_x\":{\"color\":\"#2a3f5f\"},\"error_y\":{\"color\":\"#2a3f5f\"},\"marker\":{\"line\":{\"color\":\"#E5ECF6\",\"width\":0.5},\"pattern\":{\"fillmode\":\"overlay\",\"size\":10,\"solidity\":0.2}},\"type\":\"bar\"}],\"scattergeo\":[{\"type\":\"scattergeo\",\"marker\":{\"colorbar\":{\"outlinewidth\":0,\"ticks\":\"\"}}}],\"scatterpolar\":[{\"type\":\"scatterpolar\",\"marker\":{\"colorbar\":{\"outlinewidth\":0,\"ticks\":\"\"}}}],\"histogram\":[{\"marker\":{\"pattern\":{\"fillmode\":\"overlay\",\"size\":10,\"solidity\":0.2}},\"type\":\"histogram\"}],\"scattergl\":[{\"type\":\"scattergl\",\"marker\":{\"colorbar\":{\"outlinewidth\":0,\"ticks\":\"\"}}}],\"scatter3d\":[{\"type\":\"scatter3d\",\"line\":{\"colorbar\":{\"outlinewidth\":0,\"ticks\":\"\"}},\"marker\":{\"colorbar\":{\"outlinewidth\":0,\"ticks\":\"\"}}}],\"scattermapbox\":[{\"type\":\"scattermapbox\",\"marker\":{\"colorbar\":{\"outlinewidth\":0,\"ticks\":\"\"}}}],\"scatterternary\":[{\"type\":\"scatterternary\",\"marker\":{\"colorbar\":{\"outlinewidth\":0,\"ticks\":\"\"}}}],\"scattercarpet\":[{\"type\":\"scattercarpet\",\"marker\":{\"colorbar\":{\"outlinewidth\":0,\"ticks\":\"\"}}}],\"carpet\":[{\"aaxis\":{\"endlinecolor\":\"#2a3f5f\",\"gridcolor\":\"white\",\"linecolor\":\"white\",\"minorgridcolor\":\"white\",\"startlinecolor\":\"#2a3f5f\"},\"baxis\":{\"endlinecolor\":\"#2a3f5f\",\"gridcolor\":\"white\",\"linecolor\":\"white\",\"minorgridcolor\":\"white\",\"startlinecolor\":\"#2a3f5f\"},\"type\":\"carpet\"}],\"table\":[{\"cells\":{\"fill\":{\"color\":\"#EBF0F8\"},\"line\":{\"color\":\"white\"}},\"header\":{\"fill\":{\"color\":\"#C8D4E3\"},\"line\":{\"color\":\"white\"}},\"type\":\"table\"}],\"barpolar\":[{\"marker\":{\"line\":{\"color\":\"#E5ECF6\",\"width\":0.5},\"pattern\":{\"fillmode\":\"overlay\",\"size\":10,\"solidity\":0.2}},\"type\":\"barpolar\"}],\"pie\":[{\"automargin\":true,\"type\":\"pie\"}]},\"layout\":{\"autotypenumbers\":\"strict\",\"colorway\":[\"#636efa\",\"#EF553B\",\"#00cc96\",\"#ab63fa\",\"#FFA15A\",\"#19d3f3\",\"#FF6692\",\"#B6E880\",\"#FF97FF\",\"#FECB52\"],\"font\":{\"color\":\"#2a3f5f\"},\"hovermode\":\"closest\",\"hoverlabel\":{\"align\":\"left\"},\"paper_bgcolor\":\"white\",\"plot_bgcolor\":\"#E5ECF6\",\"polar\":{\"bgcolor\":\"#E5ECF6\",\"angularaxis\":{\"gridcolor\":\"white\",\"linecolor\":\"white\",\"ticks\":\"\"},\"radialaxis\":{\"gridcolor\":\"white\",\"linecolor\":\"white\",\"ticks\":\"\"}},\"ternary\":{\"bgcolor\":\"#E5ECF6\",\"aaxis\":{\"gridcolor\":\"white\",\"linecolor\":\"white\",\"ticks\":\"\"},\"baxis\":{\"gridcolor\":\"white\",\"linecolor\":\"white\",\"ticks\":\"\"},\"caxis\":{\"gridcolor\":\"white\",\"linecolor\":\"white\",\"ticks\":\"\"}},\"coloraxis\":{\"colorbar\":{\"outlinewidth\":0,\"ticks\":\"\"}},\"colorscale\":{\"sequential\":[[0.0,\"#0d0887\"],[0.1111111111111111,\"#46039f\"],[0.2222222222222222,\"#7201a8\"],[0.3333333333333333,\"#9c179e\"],[0.4444444444444444,\"#bd3786\"],[0.5555555555555556,\"#d8576b\"],[0.6666666666666666,\"#ed7953\"],[0.7777777777777778,\"#fb9f3a\"],[0.8888888888888888,\"#fdca26\"],[1.0,\"#f0f921\"]],\"sequentialminus\":[[0.0,\"#0d0887\"],[0.1111111111111111,\"#46039f\"],[0.2222222222222222,\"#7201a8\"],[0.3333333333333333,\"#9c179e\"],[0.4444444444444444,\"#bd3786\"],[0.5555555555555556,\"#d8576b\"],[0.6666666666666666,\"#ed7953\"],[0.7777777777777778,\"#fb9f3a\"],[0.8888888888888888,\"#fdca26\"],[1.0,\"#f0f921\"]],\"diverging\":[[0,\"#8e0152\"],[0.1,\"#c51b7d\"],[0.2,\"#de77ae\"],[0.3,\"#f1b6da\"],[0.4,\"#fde0ef\"],[0.5,\"#f7f7f7\"],[0.6,\"#e6f5d0\"],[0.7,\"#b8e186\"],[0.8,\"#7fbc41\"],[0.9,\"#4d9221\"],[1,\"#276419\"]]},\"xaxis\":{\"gridcolor\":\"white\",\"linecolor\":\"white\",\"ticks\":\"\",\"title\":{\"standoff\":15},\"zerolinecolor\":\"white\",\"automargin\":true,\"zerolinewidth\":2},\"yaxis\":{\"gridcolor\":\"white\",\"linecolor\":\"white\",\"ticks\":\"\",\"title\":{\"standoff\":15},\"zerolinecolor\":\"white\",\"automargin\":true,\"zerolinewidth\":2},\"scene\":{\"xaxis\":{\"backgroundcolor\":\"#E5ECF6\",\"gridcolor\":\"white\",\"linecolor\":\"white\",\"showbackground\":true,\"ticks\":\"\",\"zerolinecolor\":\"white\",\"gridwidth\":2},\"yaxis\":{\"backgroundcolor\":\"#E5ECF6\",\"gridcolor\":\"white\",\"linecolor\":\"white\",\"showbackground\":true,\"ticks\":\"\",\"zerolinecolor\":\"white\",\"gridwidth\":2},\"zaxis\":{\"backgroundcolor\":\"#E5ECF6\",\"gridcolor\":\"white\",\"linecolor\":\"white\",\"showbackground\":true,\"ticks\":\"\",\"zerolinecolor\":\"white\",\"gridwidth\":2}},\"shapedefaults\":{\"line\":{\"color\":\"#2a3f5f\"}},\"annotationdefaults\":{\"arrowcolor\":\"#2a3f5f\",\"arrowhead\":0,\"arrowwidth\":1},\"geo\":{\"bgcolor\":\"white\",\"landcolor\":\"#E5ECF6\",\"subunitcolor\":\"white\",\"showland\":true,\"showlakes\":true,\"lakecolor\":\"white\"},\"title\":{\"x\":0.05},\"mapbox\":{\"style\":\"light\"}}},\"xaxis\":{\"anchor\":\"y\",\"domain\":[0.0,1.0],\"title\":{\"text\":\"Fare_g\"},\"categoryorder\":\"array\",\"categoryarray\":[\"0-10\",\"50-100\",\"20-50\",\"10-20\",\"250+\",\"100-150\",\"200-250\",\"150-200\"]},\"yaxis\":{\"anchor\":\"x\",\"domain\":[0.0,1.0],\"title\":{\"text\":\"count\"}},\"legend\":{\"title\":{\"text\":\"Fare_g\"},\"tracegroupgap\":0},\"title\":{\"text\":\"Fare group of passangers\"},\"barmode\":\"relative\"},                        {\"responsive\": true}                    ).then(function(){\n",
       "                            \n",
       "var gd = document.getElementById('c9ff8031-c596-4f64-943e-9dbb1827396c');\n",
       "var x = new MutationObserver(function (mutations, observer) {{\n",
       "        var display = window.getComputedStyle(gd).display;\n",
       "        if (!display || display === 'none') {{\n",
       "            console.log([gd, 'removed!']);\n",
       "            Plotly.purge(gd);\n",
       "            observer.disconnect();\n",
       "        }}\n",
       "}});\n",
       "\n",
       "// Listen for the removal of the full notebook cells\n",
       "var notebookContainer = gd.closest('#notebook-container');\n",
       "if (notebookContainer) {{\n",
       "    x.observe(notebookContainer, {childList: true});\n",
       "}}\n",
       "\n",
       "// Listen for the clearing of the current output cell\n",
       "var outputEl = gd.closest('.output');\n",
       "if (outputEl) {{\n",
       "    x.observe(outputEl, {childList: true});\n",
       "}}\n",
       "\n",
       "                        })                };                });            </script>        </div>"
      ]
     },
     "metadata": {},
     "output_type": "display_data"
    }
   ],
   "source": [
    "px.histogram(df,x='Fare_g',color='Fare_g',title='Fare group of passangers',text_auto='3s')"
   ]
  },
  {
   "cell_type": "markdown",
   "id": "260ff6e6",
   "metadata": {
    "papermill": {
     "duration": 0.018583,
     "end_time": "2023-04-04T16:32:09.089051",
     "exception": false,
     "start_time": "2023-04-04T16:32:09.070468",
     "status": "completed"
    },
    "tags": []
   },
   "source": [
    "# **PClass analysis**"
   ]
  },
  {
   "cell_type": "code",
   "execution_count": 34,
   "id": "cf8d8754",
   "metadata": {
    "execution": {
     "iopub.execute_input": "2023-04-04T16:32:09.128840Z",
     "iopub.status.busy": "2023-04-04T16:32:09.128173Z",
     "iopub.status.idle": "2023-04-04T16:32:09.136579Z",
     "shell.execute_reply": "2023-04-04T16:32:09.135524Z"
    },
    "papermill": {
     "duration": 0.030834,
     "end_time": "2023-04-04T16:32:09.138692",
     "exception": false,
     "start_time": "2023-04-04T16:32:09.107858",
     "status": "completed"
    },
    "tags": []
   },
   "outputs": [
    {
     "data": {
      "text/plain": [
       "3    491\n",
       "1    216\n",
       "2    184\n",
       "Name: Pclass, dtype: int64"
      ]
     },
     "execution_count": 34,
     "metadata": {},
     "output_type": "execute_result"
    }
   ],
   "source": [
    "df['Pclass'].value_counts()"
   ]
  },
  {
   "cell_type": "code",
   "execution_count": 35,
   "id": "deb6696b",
   "metadata": {
    "execution": {
     "iopub.execute_input": "2023-04-04T16:32:09.179060Z",
     "iopub.status.busy": "2023-04-04T16:32:09.178396Z",
     "iopub.status.idle": "2023-04-04T16:32:09.184745Z",
     "shell.execute_reply": "2023-04-04T16:32:09.183764Z"
    },
    "papermill": {
     "duration": 0.029053,
     "end_time": "2023-04-04T16:32:09.186875",
     "exception": false,
     "start_time": "2023-04-04T16:32:09.157822",
     "status": "completed"
    },
    "tags": []
   },
   "outputs": [],
   "source": [
    "df['Pclass']=df['Pclass'].astype(str)"
   ]
  },
  {
   "cell_type": "code",
   "execution_count": 36,
   "id": "d908587a",
   "metadata": {
    "execution": {
     "iopub.execute_input": "2023-04-04T16:32:09.226849Z",
     "iopub.status.busy": "2023-04-04T16:32:09.226155Z",
     "iopub.status.idle": "2023-04-04T16:32:09.233527Z",
     "shell.execute_reply": "2023-04-04T16:32:09.232630Z"
    },
    "papermill": {
     "duration": 0.02977,
     "end_time": "2023-04-04T16:32:09.235663",
     "exception": false,
     "start_time": "2023-04-04T16:32:09.205893",
     "status": "completed"
    },
    "tags": []
   },
   "outputs": [],
   "source": [
    "df['Pclass'].replace('3','class3',inplace=True)\n",
    "df['Pclass'].replace('2','class2',inplace=True)\n",
    "df['Pclass'].replace('1','class1',inplace=True)"
   ]
  },
  {
   "cell_type": "code",
   "execution_count": 37,
   "id": "d12e3ada",
   "metadata": {
    "execution": {
     "iopub.execute_input": "2023-04-04T16:32:09.275473Z",
     "iopub.status.busy": "2023-04-04T16:32:09.274668Z",
     "iopub.status.idle": "2023-04-04T16:32:09.283312Z",
     "shell.execute_reply": "2023-04-04T16:32:09.282339Z"
    },
    "papermill": {
     "duration": 0.031384,
     "end_time": "2023-04-04T16:32:09.285518",
     "exception": false,
     "start_time": "2023-04-04T16:32:09.254134",
     "status": "completed"
    },
    "tags": []
   },
   "outputs": [
    {
     "data": {
      "text/plain": [
       "class3    491\n",
       "class1    216\n",
       "class2    184\n",
       "Name: Pclass, dtype: int64"
      ]
     },
     "execution_count": 37,
     "metadata": {},
     "output_type": "execute_result"
    }
   ],
   "source": [
    "df['Pclass'].value_counts()"
   ]
  },
  {
   "cell_type": "code",
   "execution_count": 38,
   "id": "89b4352e",
   "metadata": {
    "execution": {
     "iopub.execute_input": "2023-04-04T16:32:09.326047Z",
     "iopub.status.busy": "2023-04-04T16:32:09.325331Z",
     "iopub.status.idle": "2023-04-04T16:32:09.394083Z",
     "shell.execute_reply": "2023-04-04T16:32:09.392962Z"
    },
    "papermill": {
     "duration": 0.091901,
     "end_time": "2023-04-04T16:32:09.396388",
     "exception": false,
     "start_time": "2023-04-04T16:32:09.304487",
     "status": "completed"
    },
    "tags": []
   },
   "outputs": [
    {
     "data": {
      "text/html": [
       "<div>                            <div id=\"bca4187b-5098-41d5-b977-92c8f282d423\" class=\"plotly-graph-div\" style=\"height:525px; width:100%;\"></div>            <script type=\"text/javascript\">                require([\"plotly\"], function(Plotly) {                    window.PLOTLYENV=window.PLOTLYENV || {};                                    if (document.getElementById(\"bca4187b-5098-41d5-b977-92c8f282d423\")) {                    Plotly.newPlot(                        \"bca4187b-5098-41d5-b977-92c8f282d423\",                        [{\"alignmentgroup\":\"True\",\"bingroup\":\"x\",\"hovertemplate\":\"Pclass=%{x}<br>count=%{y}<extra></extra>\",\"legendgroup\":\"class3\",\"marker\":{\"color\":\"#636efa\",\"pattern\":{\"shape\":\"\"}},\"name\":\"class3\",\"offsetgroup\":\"class3\",\"orientation\":\"v\",\"showlegend\":true,\"texttemplate\":\"%{value:3s}\",\"x\":[\"class3\",\"class3\",\"class3\",\"class3\",\"class3\",\"class3\",\"class3\",\"class3\",\"class3\",\"class3\",\"class3\",\"class3\",\"class3\",\"class3\",\"class3\",\"class3\",\"class3\",\"class3\",\"class3\",\"class3\",\"class3\",\"class3\",\"class3\",\"class3\",\"class3\",\"class3\",\"class3\",\"class3\",\"class3\",\"class3\",\"class3\",\"class3\",\"class3\",\"class3\",\"class3\",\"class3\",\"class3\",\"class3\",\"class3\",\"class3\",\"class3\",\"class3\",\"class3\",\"class3\",\"class3\",\"class3\",\"class3\",\"class3\",\"class3\",\"class3\",\"class3\",\"class3\",\"class3\",\"class3\",\"class3\",\"class3\",\"class3\",\"class3\",\"class3\",\"class3\",\"class3\",\"class3\",\"class3\",\"class3\",\"class3\",\"class3\",\"class3\",\"class3\",\"class3\",\"class3\",\"class3\",\"class3\",\"class3\",\"class3\",\"class3\",\"class3\",\"class3\",\"class3\",\"class3\",\"class3\",\"class3\",\"class3\",\"class3\",\"class3\",\"class3\",\"class3\",\"class3\",\"class3\",\"class3\",\"class3\",\"class3\",\"class3\",\"class3\",\"class3\",\"class3\",\"class3\",\"class3\",\"class3\",\"class3\",\"class3\",\"class3\",\"class3\",\"class3\",\"class3\",\"class3\",\"class3\",\"class3\",\"class3\",\"class3\",\"class3\",\"class3\",\"class3\",\"class3\",\"class3\",\"class3\",\"class3\",\"class3\",\"class3\",\"class3\",\"class3\",\"class3\",\"class3\",\"class3\",\"class3\",\"class3\",\"class3\",\"class3\",\"class3\",\"class3\",\"class3\",\"class3\",\"class3\",\"class3\",\"class3\",\"class3\",\"class3\",\"class3\",\"class3\",\"class3\",\"class3\",\"class3\",\"class3\",\"class3\",\"class3\",\"class3\",\"class3\",\"class3\",\"class3\",\"class3\",\"class3\",\"class3\",\"class3\",\"class3\",\"class3\",\"class3\",\"class3\",\"class3\",\"class3\",\"class3\",\"class3\",\"class3\",\"class3\",\"class3\",\"class3\",\"class3\",\"class3\",\"class3\",\"class3\",\"class3\",\"class3\",\"class3\",\"class3\",\"class3\",\"class3\",\"class3\",\"class3\",\"class3\",\"class3\",\"class3\",\"class3\",\"class3\",\"class3\",\"class3\",\"class3\",\"class3\",\"class3\",\"class3\",\"class3\",\"class3\",\"class3\",\"class3\",\"class3\",\"class3\",\"class3\",\"class3\",\"class3\",\"class3\",\"class3\",\"class3\",\"class3\",\"class3\",\"class3\",\"class3\",\"class3\",\"class3\",\"class3\",\"class3\",\"class3\",\"class3\",\"class3\",\"class3\",\"class3\",\"class3\",\"class3\",\"class3\",\"class3\",\"class3\",\"class3\",\"class3\",\"class3\",\"class3\",\"class3\",\"class3\",\"class3\",\"class3\",\"class3\",\"class3\",\"class3\",\"class3\",\"class3\",\"class3\",\"class3\",\"class3\",\"class3\",\"class3\",\"class3\",\"class3\",\"class3\",\"class3\",\"class3\",\"class3\",\"class3\",\"class3\",\"class3\",\"class3\",\"class3\",\"class3\",\"class3\",\"class3\",\"class3\",\"class3\",\"class3\",\"class3\",\"class3\",\"class3\",\"class3\",\"class3\",\"class3\",\"class3\",\"class3\",\"class3\",\"class3\",\"class3\",\"class3\",\"class3\",\"class3\",\"class3\",\"class3\",\"class3\",\"class3\",\"class3\",\"class3\",\"class3\",\"class3\",\"class3\",\"class3\",\"class3\",\"class3\",\"class3\",\"class3\",\"class3\",\"class3\",\"class3\",\"class3\",\"class3\",\"class3\",\"class3\",\"class3\",\"class3\",\"class3\",\"class3\",\"class3\",\"class3\",\"class3\",\"class3\",\"class3\",\"class3\",\"class3\",\"class3\",\"class3\",\"class3\",\"class3\",\"class3\",\"class3\",\"class3\",\"class3\",\"class3\",\"class3\",\"class3\",\"class3\",\"class3\",\"class3\",\"class3\",\"class3\",\"class3\",\"class3\",\"class3\",\"class3\",\"class3\",\"class3\",\"class3\",\"class3\",\"class3\",\"class3\",\"class3\",\"class3\",\"class3\",\"class3\",\"class3\",\"class3\",\"class3\",\"class3\",\"class3\",\"class3\",\"class3\",\"class3\",\"class3\",\"class3\",\"class3\",\"class3\",\"class3\",\"class3\",\"class3\",\"class3\",\"class3\",\"class3\",\"class3\",\"class3\",\"class3\",\"class3\",\"class3\",\"class3\",\"class3\",\"class3\",\"class3\",\"class3\",\"class3\",\"class3\",\"class3\",\"class3\",\"class3\",\"class3\",\"class3\",\"class3\",\"class3\",\"class3\",\"class3\",\"class3\",\"class3\",\"class3\",\"class3\",\"class3\",\"class3\",\"class3\",\"class3\",\"class3\",\"class3\",\"class3\",\"class3\",\"class3\",\"class3\",\"class3\",\"class3\",\"class3\",\"class3\",\"class3\",\"class3\",\"class3\",\"class3\",\"class3\",\"class3\",\"class3\",\"class3\",\"class3\",\"class3\",\"class3\",\"class3\",\"class3\",\"class3\",\"class3\",\"class3\",\"class3\",\"class3\",\"class3\",\"class3\",\"class3\",\"class3\",\"class3\",\"class3\",\"class3\",\"class3\",\"class3\",\"class3\",\"class3\",\"class3\",\"class3\",\"class3\",\"class3\",\"class3\",\"class3\",\"class3\",\"class3\",\"class3\",\"class3\",\"class3\",\"class3\",\"class3\",\"class3\",\"class3\",\"class3\",\"class3\",\"class3\",\"class3\",\"class3\",\"class3\",\"class3\",\"class3\",\"class3\",\"class3\",\"class3\",\"class3\",\"class3\",\"class3\",\"class3\",\"class3\",\"class3\",\"class3\",\"class3\",\"class3\",\"class3\",\"class3\",\"class3\",\"class3\",\"class3\",\"class3\",\"class3\",\"class3\",\"class3\",\"class3\",\"class3\",\"class3\",\"class3\",\"class3\",\"class3\",\"class3\",\"class3\",\"class3\",\"class3\",\"class3\",\"class3\",\"class3\",\"class3\",\"class3\",\"class3\",\"class3\",\"class3\",\"class3\",\"class3\",\"class3\",\"class3\",\"class3\",\"class3\",\"class3\",\"class3\",\"class3\",\"class3\",\"class3\",\"class3\",\"class3\",\"class3\",\"class3\"],\"xaxis\":\"x\",\"yaxis\":\"y\",\"type\":\"histogram\"},{\"alignmentgroup\":\"True\",\"bingroup\":\"x\",\"hovertemplate\":\"Pclass=%{x}<br>count=%{y}<extra></extra>\",\"legendgroup\":\"class1\",\"marker\":{\"color\":\"#EF553B\",\"pattern\":{\"shape\":\"\"}},\"name\":\"class1\",\"offsetgroup\":\"class1\",\"orientation\":\"v\",\"showlegend\":true,\"texttemplate\":\"%{value:3s}\",\"x\":[\"class1\",\"class1\",\"class1\",\"class1\",\"class1\",\"class1\",\"class1\",\"class1\",\"class1\",\"class1\",\"class1\",\"class1\",\"class1\",\"class1\",\"class1\",\"class1\",\"class1\",\"class1\",\"class1\",\"class1\",\"class1\",\"class1\",\"class1\",\"class1\",\"class1\",\"class1\",\"class1\",\"class1\",\"class1\",\"class1\",\"class1\",\"class1\",\"class1\",\"class1\",\"class1\",\"class1\",\"class1\",\"class1\",\"class1\",\"class1\",\"class1\",\"class1\",\"class1\",\"class1\",\"class1\",\"class1\",\"class1\",\"class1\",\"class1\",\"class1\",\"class1\",\"class1\",\"class1\",\"class1\",\"class1\",\"class1\",\"class1\",\"class1\",\"class1\",\"class1\",\"class1\",\"class1\",\"class1\",\"class1\",\"class1\",\"class1\",\"class1\",\"class1\",\"class1\",\"class1\",\"class1\",\"class1\",\"class1\",\"class1\",\"class1\",\"class1\",\"class1\",\"class1\",\"class1\",\"class1\",\"class1\",\"class1\",\"class1\",\"class1\",\"class1\",\"class1\",\"class1\",\"class1\",\"class1\",\"class1\",\"class1\",\"class1\",\"class1\",\"class1\",\"class1\",\"class1\",\"class1\",\"class1\",\"class1\",\"class1\",\"class1\",\"class1\",\"class1\",\"class1\",\"class1\",\"class1\",\"class1\",\"class1\",\"class1\",\"class1\",\"class1\",\"class1\",\"class1\",\"class1\",\"class1\",\"class1\",\"class1\",\"class1\",\"class1\",\"class1\",\"class1\",\"class1\",\"class1\",\"class1\",\"class1\",\"class1\",\"class1\",\"class1\",\"class1\",\"class1\",\"class1\",\"class1\",\"class1\",\"class1\",\"class1\",\"class1\",\"class1\",\"class1\",\"class1\",\"class1\",\"class1\",\"class1\",\"class1\",\"class1\",\"class1\",\"class1\",\"class1\",\"class1\",\"class1\",\"class1\",\"class1\",\"class1\",\"class1\",\"class1\",\"class1\",\"class1\",\"class1\",\"class1\",\"class1\",\"class1\",\"class1\",\"class1\",\"class1\",\"class1\",\"class1\",\"class1\",\"class1\",\"class1\",\"class1\",\"class1\",\"class1\",\"class1\",\"class1\",\"class1\",\"class1\",\"class1\",\"class1\",\"class1\",\"class1\",\"class1\",\"class1\",\"class1\",\"class1\",\"class1\",\"class1\",\"class1\",\"class1\",\"class1\",\"class1\",\"class1\",\"class1\",\"class1\",\"class1\",\"class1\",\"class1\",\"class1\",\"class1\",\"class1\",\"class1\",\"class1\",\"class1\",\"class1\",\"class1\",\"class1\",\"class1\",\"class1\",\"class1\",\"class1\",\"class1\",\"class1\",\"class1\",\"class1\",\"class1\",\"class1\",\"class1\",\"class1\"],\"xaxis\":\"x\",\"yaxis\":\"y\",\"type\":\"histogram\"},{\"alignmentgroup\":\"True\",\"bingroup\":\"x\",\"hovertemplate\":\"Pclass=%{x}<br>count=%{y}<extra></extra>\",\"legendgroup\":\"class2\",\"marker\":{\"color\":\"#00cc96\",\"pattern\":{\"shape\":\"\"}},\"name\":\"class2\",\"offsetgroup\":\"class2\",\"orientation\":\"v\",\"showlegend\":true,\"texttemplate\":\"%{value:3s}\",\"x\":[\"class2\",\"class2\",\"class2\",\"class2\",\"class2\",\"class2\",\"class2\",\"class2\",\"class2\",\"class2\",\"class2\",\"class2\",\"class2\",\"class2\",\"class2\",\"class2\",\"class2\",\"class2\",\"class2\",\"class2\",\"class2\",\"class2\",\"class2\",\"class2\",\"class2\",\"class2\",\"class2\",\"class2\",\"class2\",\"class2\",\"class2\",\"class2\",\"class2\",\"class2\",\"class2\",\"class2\",\"class2\",\"class2\",\"class2\",\"class2\",\"class2\",\"class2\",\"class2\",\"class2\",\"class2\",\"class2\",\"class2\",\"class2\",\"class2\",\"class2\",\"class2\",\"class2\",\"class2\",\"class2\",\"class2\",\"class2\",\"class2\",\"class2\",\"class2\",\"class2\",\"class2\",\"class2\",\"class2\",\"class2\",\"class2\",\"class2\",\"class2\",\"class2\",\"class2\",\"class2\",\"class2\",\"class2\",\"class2\",\"class2\",\"class2\",\"class2\",\"class2\",\"class2\",\"class2\",\"class2\",\"class2\",\"class2\",\"class2\",\"class2\",\"class2\",\"class2\",\"class2\",\"class2\",\"class2\",\"class2\",\"class2\",\"class2\",\"class2\",\"class2\",\"class2\",\"class2\",\"class2\",\"class2\",\"class2\",\"class2\",\"class2\",\"class2\",\"class2\",\"class2\",\"class2\",\"class2\",\"class2\",\"class2\",\"class2\",\"class2\",\"class2\",\"class2\",\"class2\",\"class2\",\"class2\",\"class2\",\"class2\",\"class2\",\"class2\",\"class2\",\"class2\",\"class2\",\"class2\",\"class2\",\"class2\",\"class2\",\"class2\",\"class2\",\"class2\",\"class2\",\"class2\",\"class2\",\"class2\",\"class2\",\"class2\",\"class2\",\"class2\",\"class2\",\"class2\",\"class2\",\"class2\",\"class2\",\"class2\",\"class2\",\"class2\",\"class2\",\"class2\",\"class2\",\"class2\",\"class2\",\"class2\",\"class2\",\"class2\",\"class2\",\"class2\",\"class2\",\"class2\",\"class2\",\"class2\",\"class2\",\"class2\",\"class2\",\"class2\",\"class2\",\"class2\",\"class2\",\"class2\",\"class2\",\"class2\",\"class2\",\"class2\",\"class2\",\"class2\",\"class2\",\"class2\",\"class2\",\"class2\",\"class2\",\"class2\",\"class2\",\"class2\",\"class2\",\"class2\",\"class2\"],\"xaxis\":\"x\",\"yaxis\":\"y\",\"type\":\"histogram\"}],                        {\"template\":{\"data\":{\"histogram2dcontour\":[{\"type\":\"histogram2dcontour\",\"colorbar\":{\"outlinewidth\":0,\"ticks\":\"\"},\"colorscale\":[[0.0,\"#0d0887\"],[0.1111111111111111,\"#46039f\"],[0.2222222222222222,\"#7201a8\"],[0.3333333333333333,\"#9c179e\"],[0.4444444444444444,\"#bd3786\"],[0.5555555555555556,\"#d8576b\"],[0.6666666666666666,\"#ed7953\"],[0.7777777777777778,\"#fb9f3a\"],[0.8888888888888888,\"#fdca26\"],[1.0,\"#f0f921\"]]}],\"choropleth\":[{\"type\":\"choropleth\",\"colorbar\":{\"outlinewidth\":0,\"ticks\":\"\"}}],\"histogram2d\":[{\"type\":\"histogram2d\",\"colorbar\":{\"outlinewidth\":0,\"ticks\":\"\"},\"colorscale\":[[0.0,\"#0d0887\"],[0.1111111111111111,\"#46039f\"],[0.2222222222222222,\"#7201a8\"],[0.3333333333333333,\"#9c179e\"],[0.4444444444444444,\"#bd3786\"],[0.5555555555555556,\"#d8576b\"],[0.6666666666666666,\"#ed7953\"],[0.7777777777777778,\"#fb9f3a\"],[0.8888888888888888,\"#fdca26\"],[1.0,\"#f0f921\"]]}],\"heatmap\":[{\"type\":\"heatmap\",\"colorbar\":{\"outlinewidth\":0,\"ticks\":\"\"},\"colorscale\":[[0.0,\"#0d0887\"],[0.1111111111111111,\"#46039f\"],[0.2222222222222222,\"#7201a8\"],[0.3333333333333333,\"#9c179e\"],[0.4444444444444444,\"#bd3786\"],[0.5555555555555556,\"#d8576b\"],[0.6666666666666666,\"#ed7953\"],[0.7777777777777778,\"#fb9f3a\"],[0.8888888888888888,\"#fdca26\"],[1.0,\"#f0f921\"]]}],\"heatmapgl\":[{\"type\":\"heatmapgl\",\"colorbar\":{\"outlinewidth\":0,\"ticks\":\"\"},\"colorscale\":[[0.0,\"#0d0887\"],[0.1111111111111111,\"#46039f\"],[0.2222222222222222,\"#7201a8\"],[0.3333333333333333,\"#9c179e\"],[0.4444444444444444,\"#bd3786\"],[0.5555555555555556,\"#d8576b\"],[0.6666666666666666,\"#ed7953\"],[0.7777777777777778,\"#fb9f3a\"],[0.8888888888888888,\"#fdca26\"],[1.0,\"#f0f921\"]]}],\"contourcarpet\":[{\"type\":\"contourcarpet\",\"colorbar\":{\"outlinewidth\":0,\"ticks\":\"\"}}],\"contour\":[{\"type\":\"contour\",\"colorbar\":{\"outlinewidth\":0,\"ticks\":\"\"},\"colorscale\":[[0.0,\"#0d0887\"],[0.1111111111111111,\"#46039f\"],[0.2222222222222222,\"#7201a8\"],[0.3333333333333333,\"#9c179e\"],[0.4444444444444444,\"#bd3786\"],[0.5555555555555556,\"#d8576b\"],[0.6666666666666666,\"#ed7953\"],[0.7777777777777778,\"#fb9f3a\"],[0.8888888888888888,\"#fdca26\"],[1.0,\"#f0f921\"]]}],\"surface\":[{\"type\":\"surface\",\"colorbar\":{\"outlinewidth\":0,\"ticks\":\"\"},\"colorscale\":[[0.0,\"#0d0887\"],[0.1111111111111111,\"#46039f\"],[0.2222222222222222,\"#7201a8\"],[0.3333333333333333,\"#9c179e\"],[0.4444444444444444,\"#bd3786\"],[0.5555555555555556,\"#d8576b\"],[0.6666666666666666,\"#ed7953\"],[0.7777777777777778,\"#fb9f3a\"],[0.8888888888888888,\"#fdca26\"],[1.0,\"#f0f921\"]]}],\"mesh3d\":[{\"type\":\"mesh3d\",\"colorbar\":{\"outlinewidth\":0,\"ticks\":\"\"}}],\"scatter\":[{\"fillpattern\":{\"fillmode\":\"overlay\",\"size\":10,\"solidity\":0.2},\"type\":\"scatter\"}],\"parcoords\":[{\"type\":\"parcoords\",\"line\":{\"colorbar\":{\"outlinewidth\":0,\"ticks\":\"\"}}}],\"scatterpolargl\":[{\"type\":\"scatterpolargl\",\"marker\":{\"colorbar\":{\"outlinewidth\":0,\"ticks\":\"\"}}}],\"bar\":[{\"error_x\":{\"color\":\"#2a3f5f\"},\"error_y\":{\"color\":\"#2a3f5f\"},\"marker\":{\"line\":{\"color\":\"#E5ECF6\",\"width\":0.5},\"pattern\":{\"fillmode\":\"overlay\",\"size\":10,\"solidity\":0.2}},\"type\":\"bar\"}],\"scattergeo\":[{\"type\":\"scattergeo\",\"marker\":{\"colorbar\":{\"outlinewidth\":0,\"ticks\":\"\"}}}],\"scatterpolar\":[{\"type\":\"scatterpolar\",\"marker\":{\"colorbar\":{\"outlinewidth\":0,\"ticks\":\"\"}}}],\"histogram\":[{\"marker\":{\"pattern\":{\"fillmode\":\"overlay\",\"size\":10,\"solidity\":0.2}},\"type\":\"histogram\"}],\"scattergl\":[{\"type\":\"scattergl\",\"marker\":{\"colorbar\":{\"outlinewidth\":0,\"ticks\":\"\"}}}],\"scatter3d\":[{\"type\":\"scatter3d\",\"line\":{\"colorbar\":{\"outlinewidth\":0,\"ticks\":\"\"}},\"marker\":{\"colorbar\":{\"outlinewidth\":0,\"ticks\":\"\"}}}],\"scattermapbox\":[{\"type\":\"scattermapbox\",\"marker\":{\"colorbar\":{\"outlinewidth\":0,\"ticks\":\"\"}}}],\"scatterternary\":[{\"type\":\"scatterternary\",\"marker\":{\"colorbar\":{\"outlinewidth\":0,\"ticks\":\"\"}}}],\"scattercarpet\":[{\"type\":\"scattercarpet\",\"marker\":{\"colorbar\":{\"outlinewidth\":0,\"ticks\":\"\"}}}],\"carpet\":[{\"aaxis\":{\"endlinecolor\":\"#2a3f5f\",\"gridcolor\":\"white\",\"linecolor\":\"white\",\"minorgridcolor\":\"white\",\"startlinecolor\":\"#2a3f5f\"},\"baxis\":{\"endlinecolor\":\"#2a3f5f\",\"gridcolor\":\"white\",\"linecolor\":\"white\",\"minorgridcolor\":\"white\",\"startlinecolor\":\"#2a3f5f\"},\"type\":\"carpet\"}],\"table\":[{\"cells\":{\"fill\":{\"color\":\"#EBF0F8\"},\"line\":{\"color\":\"white\"}},\"header\":{\"fill\":{\"color\":\"#C8D4E3\"},\"line\":{\"color\":\"white\"}},\"type\":\"table\"}],\"barpolar\":[{\"marker\":{\"line\":{\"color\":\"#E5ECF6\",\"width\":0.5},\"pattern\":{\"fillmode\":\"overlay\",\"size\":10,\"solidity\":0.2}},\"type\":\"barpolar\"}],\"pie\":[{\"automargin\":true,\"type\":\"pie\"}]},\"layout\":{\"autotypenumbers\":\"strict\",\"colorway\":[\"#636efa\",\"#EF553B\",\"#00cc96\",\"#ab63fa\",\"#FFA15A\",\"#19d3f3\",\"#FF6692\",\"#B6E880\",\"#FF97FF\",\"#FECB52\"],\"font\":{\"color\":\"#2a3f5f\"},\"hovermode\":\"closest\",\"hoverlabel\":{\"align\":\"left\"},\"paper_bgcolor\":\"white\",\"plot_bgcolor\":\"#E5ECF6\",\"polar\":{\"bgcolor\":\"#E5ECF6\",\"angularaxis\":{\"gridcolor\":\"white\",\"linecolor\":\"white\",\"ticks\":\"\"},\"radialaxis\":{\"gridcolor\":\"white\",\"linecolor\":\"white\",\"ticks\":\"\"}},\"ternary\":{\"bgcolor\":\"#E5ECF6\",\"aaxis\":{\"gridcolor\":\"white\",\"linecolor\":\"white\",\"ticks\":\"\"},\"baxis\":{\"gridcolor\":\"white\",\"linecolor\":\"white\",\"ticks\":\"\"},\"caxis\":{\"gridcolor\":\"white\",\"linecolor\":\"white\",\"ticks\":\"\"}},\"coloraxis\":{\"colorbar\":{\"outlinewidth\":0,\"ticks\":\"\"}},\"colorscale\":{\"sequential\":[[0.0,\"#0d0887\"],[0.1111111111111111,\"#46039f\"],[0.2222222222222222,\"#7201a8\"],[0.3333333333333333,\"#9c179e\"],[0.4444444444444444,\"#bd3786\"],[0.5555555555555556,\"#d8576b\"],[0.6666666666666666,\"#ed7953\"],[0.7777777777777778,\"#fb9f3a\"],[0.8888888888888888,\"#fdca26\"],[1.0,\"#f0f921\"]],\"sequentialminus\":[[0.0,\"#0d0887\"],[0.1111111111111111,\"#46039f\"],[0.2222222222222222,\"#7201a8\"],[0.3333333333333333,\"#9c179e\"],[0.4444444444444444,\"#bd3786\"],[0.5555555555555556,\"#d8576b\"],[0.6666666666666666,\"#ed7953\"],[0.7777777777777778,\"#fb9f3a\"],[0.8888888888888888,\"#fdca26\"],[1.0,\"#f0f921\"]],\"diverging\":[[0,\"#8e0152\"],[0.1,\"#c51b7d\"],[0.2,\"#de77ae\"],[0.3,\"#f1b6da\"],[0.4,\"#fde0ef\"],[0.5,\"#f7f7f7\"],[0.6,\"#e6f5d0\"],[0.7,\"#b8e186\"],[0.8,\"#7fbc41\"],[0.9,\"#4d9221\"],[1,\"#276419\"]]},\"xaxis\":{\"gridcolor\":\"white\",\"linecolor\":\"white\",\"ticks\":\"\",\"title\":{\"standoff\":15},\"zerolinecolor\":\"white\",\"automargin\":true,\"zerolinewidth\":2},\"yaxis\":{\"gridcolor\":\"white\",\"linecolor\":\"white\",\"ticks\":\"\",\"title\":{\"standoff\":15},\"zerolinecolor\":\"white\",\"automargin\":true,\"zerolinewidth\":2},\"scene\":{\"xaxis\":{\"backgroundcolor\":\"#E5ECF6\",\"gridcolor\":\"white\",\"linecolor\":\"white\",\"showbackground\":true,\"ticks\":\"\",\"zerolinecolor\":\"white\",\"gridwidth\":2},\"yaxis\":{\"backgroundcolor\":\"#E5ECF6\",\"gridcolor\":\"white\",\"linecolor\":\"white\",\"showbackground\":true,\"ticks\":\"\",\"zerolinecolor\":\"white\",\"gridwidth\":2},\"zaxis\":{\"backgroundcolor\":\"#E5ECF6\",\"gridcolor\":\"white\",\"linecolor\":\"white\",\"showbackground\":true,\"ticks\":\"\",\"zerolinecolor\":\"white\",\"gridwidth\":2}},\"shapedefaults\":{\"line\":{\"color\":\"#2a3f5f\"}},\"annotationdefaults\":{\"arrowcolor\":\"#2a3f5f\",\"arrowhead\":0,\"arrowwidth\":1},\"geo\":{\"bgcolor\":\"white\",\"landcolor\":\"#E5ECF6\",\"subunitcolor\":\"white\",\"showland\":true,\"showlakes\":true,\"lakecolor\":\"white\"},\"title\":{\"x\":0.05},\"mapbox\":{\"style\":\"light\"}}},\"xaxis\":{\"anchor\":\"y\",\"domain\":[0.0,1.0],\"title\":{\"text\":\"Pclass\"},\"categoryorder\":\"array\",\"categoryarray\":[\"class3\",\"class1\",\"class2\"]},\"yaxis\":{\"anchor\":\"x\",\"domain\":[0.0,1.0],\"title\":{\"text\":\"count\"}},\"legend\":{\"title\":{\"text\":\"Pclass\"},\"tracegroupgap\":0},\"title\":{\"text\":\"Distinguishing of different class\"},\"barmode\":\"relative\"},                        {\"responsive\": true}                    ).then(function(){\n",
       "                            \n",
       "var gd = document.getElementById('bca4187b-5098-41d5-b977-92c8f282d423');\n",
       "var x = new MutationObserver(function (mutations, observer) {{\n",
       "        var display = window.getComputedStyle(gd).display;\n",
       "        if (!display || display === 'none') {{\n",
       "            console.log([gd, 'removed!']);\n",
       "            Plotly.purge(gd);\n",
       "            observer.disconnect();\n",
       "        }}\n",
       "}});\n",
       "\n",
       "// Listen for the removal of the full notebook cells\n",
       "var notebookContainer = gd.closest('#notebook-container');\n",
       "if (notebookContainer) {{\n",
       "    x.observe(notebookContainer, {childList: true});\n",
       "}}\n",
       "\n",
       "// Listen for the clearing of the current output cell\n",
       "var outputEl = gd.closest('.output');\n",
       "if (outputEl) {{\n",
       "    x.observe(outputEl, {childList: true});\n",
       "}}\n",
       "\n",
       "                        })                };                });            </script>        </div>"
      ]
     },
     "metadata": {},
     "output_type": "display_data"
    }
   ],
   "source": [
    "px.histogram(df,x='Pclass',color='Pclass',title='Distinguishing of different class',text_auto='3s')"
   ]
  },
  {
   "cell_type": "markdown",
   "id": "315199f7",
   "metadata": {
    "papermill": {
     "duration": 0.019222,
     "end_time": "2023-04-04T16:32:09.435191",
     "exception": false,
     "start_time": "2023-04-04T16:32:09.415969",
     "status": "completed"
    },
    "tags": []
   },
   "source": [
    "# **Number of siblings analysis**"
   ]
  },
  {
   "cell_type": "code",
   "execution_count": 39,
   "id": "b58c4d21",
   "metadata": {
    "execution": {
     "iopub.execute_input": "2023-04-04T16:32:09.479436Z",
     "iopub.status.busy": "2023-04-04T16:32:09.478708Z",
     "iopub.status.idle": "2023-04-04T16:32:09.487179Z",
     "shell.execute_reply": "2023-04-04T16:32:09.486242Z"
    },
    "papermill": {
     "duration": 0.031983,
     "end_time": "2023-04-04T16:32:09.489351",
     "exception": false,
     "start_time": "2023-04-04T16:32:09.457368",
     "status": "completed"
    },
    "tags": []
   },
   "outputs": [
    {
     "data": {
      "text/plain": [
       "0    608\n",
       "1    209\n",
       "2     28\n",
       "4     18\n",
       "3     16\n",
       "8      7\n",
       "5      5\n",
       "Name: SibSp, dtype: int64"
      ]
     },
     "execution_count": 39,
     "metadata": {},
     "output_type": "execute_result"
    }
   ],
   "source": [
    "df['SibSp'].value_counts()"
   ]
  },
  {
   "cell_type": "code",
   "execution_count": 40,
   "id": "00dfbcc0",
   "metadata": {
    "execution": {
     "iopub.execute_input": "2023-04-04T16:32:09.530848Z",
     "iopub.status.busy": "2023-04-04T16:32:09.530140Z",
     "iopub.status.idle": "2023-04-04T16:32:09.793246Z",
     "shell.execute_reply": "2023-04-04T16:32:09.792048Z"
    },
    "papermill": {
     "duration": 0.286936,
     "end_time": "2023-04-04T16:32:09.795878",
     "exception": false,
     "start_time": "2023-04-04T16:32:09.508942",
     "status": "completed"
    },
    "tags": []
   },
   "outputs": [
    {
     "data": {
      "text/plain": [
       "Text(0.5, 1.0, 'Number of siblings')"
      ]
     },
     "execution_count": 40,
     "metadata": {},
     "output_type": "execute_result"
    },
    {
     "data": {
      "image/png": "[encoded data removed]",
      "text/plain": [
       "<Figure size 640x480 with 1 Axes>"
      ]
     },
     "metadata": {},
     "output_type": "display_data"
    }
   ],
   "source": [
    "labels = ['0','1','2','3','4','5','8']\n",
    "plt.xlabel('No. Of siblings')\n",
    "plt.ylabel('Count')\n",
    "plt.bar(labels, df['SibSp'].value_counts(),color='green')\n",
    "plt.title('Number of siblings')\n"
   ]
  },
  {
   "cell_type": "markdown",
   "id": "cf51bb0d",
   "metadata": {
    "papermill": {
     "duration": 0.019961,
     "end_time": "2023-04-04T16:32:09.836437",
     "exception": false,
     "start_time": "2023-04-04T16:32:09.816476",
     "status": "completed"
    },
    "tags": []
   },
   "source": [
    "# **Embarked analysis**"
   ]
  },
  {
   "cell_type": "code",
   "execution_count": 41,
   "id": "773b6053",
   "metadata": {
    "execution": {
     "iopub.execute_input": "2023-04-04T16:32:09.878631Z",
     "iopub.status.busy": "2023-04-04T16:32:09.877238Z",
     "iopub.status.idle": "2023-04-04T16:32:09.886854Z",
     "shell.execute_reply": "2023-04-04T16:32:09.885507Z"
    },
    "papermill": {
     "duration": 0.033036,
     "end_time": "2023-04-04T16:32:09.889113",
     "exception": false,
     "start_time": "2023-04-04T16:32:09.856077",
     "status": "completed"
    },
    "tags": []
   },
   "outputs": [
    {
     "data": {
      "text/plain": [
       "S    646\n",
       "C    168\n",
       "Q     77\n",
       "Name: Embarked, dtype: int64"
      ]
     },
     "execution_count": 41,
     "metadata": {},
     "output_type": "execute_result"
    }
   ],
   "source": [
    "df['Embarked'].value_counts()"
   ]
  },
  {
   "cell_type": "code",
   "execution_count": 42,
   "id": "b00128d6",
   "metadata": {
    "execution": {
     "iopub.execute_input": "2023-04-04T16:32:09.933083Z",
     "iopub.status.busy": "2023-04-04T16:32:09.931981Z",
     "iopub.status.idle": "2023-04-04T16:32:10.001853Z",
     "shell.execute_reply": "2023-04-04T16:32:10.000428Z"
    },
    "papermill": {
     "duration": 0.094533,
     "end_time": "2023-04-04T16:32:10.004485",
     "exception": false,
     "start_time": "2023-04-04T16:32:09.909952",
     "status": "completed"
    },
    "tags": []
   },
   "outputs": [
    {
     "data": {
      "text/html": [
       "<div>                            <div id=\"c4397c41-deea-46ab-9f87-d2084c8160a2\" class=\"plotly-graph-div\" style=\"height:525px; width:100%;\"></div>            <script type=\"text/javascript\">                require([\"plotly\"], function(Plotly) {                    window.PLOTLYENV=window.PLOTLYENV || {};                                    if (document.getElementById(\"c4397c41-deea-46ab-9f87-d2084c8160a2\")) {                    Plotly.newPlot(                        \"c4397c41-deea-46ab-9f87-d2084c8160a2\",                        [{\"alignmentgroup\":\"True\",\"bingroup\":\"x\",\"hovertemplate\":\"Embarked=%{x}<br>count=%{y}<extra></extra>\",\"legendgroup\":\"S\",\"marker\":{\"color\":\"#636efa\",\"pattern\":{\"shape\":\"\"}},\"name\":\"S\",\"offsetgroup\":\"S\",\"orientation\":\"v\",\"showlegend\":true,\"texttemplate\":\"%{value:3s}\",\"x\":[\"S\",\"S\",\"S\",\"S\",\"S\",\"S\",\"S\",\"S\",\"S\",\"S\",\"S\",\"S\",\"S\",\"S\",\"S\",\"S\",\"S\",\"S\",\"S\",\"S\",\"S\",\"S\",\"S\",\"S\",\"S\",\"S\",\"S\",\"S\",\"S\",\"S\",\"S\",\"S\",\"S\",\"S\",\"S\",\"S\",\"S\",\"S\",\"S\",\"S\",\"S\",\"S\",\"S\",\"S\",\"S\",\"S\",\"S\",\"S\",\"S\",\"S\",\"S\",\"S\",\"S\",\"S\",\"S\",\"S\",\"S\",\"S\",\"S\",\"S\",\"S\",\"S\",\"S\",\"S\",\"S\",\"S\",\"S\",\"S\",\"S\",\"S\",\"S\",\"S\",\"S\",\"S\",\"S\",\"S\",\"S\",\"S\",\"S\",\"S\",\"S\",\"S\",\"S\",\"S\",\"S\",\"S\",\"S\",\"S\",\"S\",\"S\",\"S\",\"S\",\"S\",\"S\",\"S\",\"S\",\"S\",\"S\",\"S\",\"S\",\"S\",\"S\",\"S\",\"S\",\"S\",\"S\",\"S\",\"S\",\"S\",\"S\",\"S\",\"S\",\"S\",\"S\",\"S\",\"S\",\"S\",\"S\",\"S\",\"S\",\"S\",\"S\",\"S\",\"S\",\"S\",\"S\",\"S\",\"S\",\"S\",\"S\",\"S\",\"S\",\"S\",\"S\",\"S\",\"S\",\"S\",\"S\",\"S\",\"S\",\"S\",\"S\",\"S\",\"S\",\"S\",\"S\",\"S\",\"S\",\"S\",\"S\",\"S\",\"S\",\"S\",\"S\",\"S\",\"S\",\"S\",\"S\",\"S\",\"S\",\"S\",\"S\",\"S\",\"S\",\"S\",\"S\",\"S\",\"S\",\"S\",\"S\",\"S\",\"S\",\"S\",\"S\",\"S\",\"S\",\"S\",\"S\",\"S\",\"S\",\"S\",\"S\",\"S\",\"S\",\"S\",\"S\",\"S\",\"S\",\"S\",\"S\",\"S\",\"S\",\"S\",\"S\",\"S\",\"S\",\"S\",\"S\",\"S\",\"S\",\"S\",\"S\",\"S\",\"S\",\"S\",\"S\",\"S\",\"S\",\"S\",\"S\",\"S\",\"S\",\"S\",\"S\",\"S\",\"S\",\"S\",\"S\",\"S\",\"S\",\"S\",\"S\",\"S\",\"S\",\"S\",\"S\",\"S\",\"S\",\"S\",\"S\",\"S\",\"S\",\"S\",\"S\",\"S\",\"S\",\"S\",\"S\",\"S\",\"S\",\"S\",\"S\",\"S\",\"S\",\"S\",\"S\",\"S\",\"S\",\"S\",\"S\",\"S\",\"S\",\"S\",\"S\",\"S\",\"S\",\"S\",\"S\",\"S\",\"S\",\"S\",\"S\",\"S\",\"S\",\"S\",\"S\",\"S\",\"S\",\"S\",\"S\",\"S\",\"S\",\"S\",\"S\",\"S\",\"S\",\"S\",\"S\",\"S\",\"S\",\"S\",\"S\",\"S\",\"S\",\"S\",\"S\",\"S\",\"S\",\"S\",\"S\",\"S\",\"S\",\"S\",\"S\",\"S\",\"S\",\"S\",\"S\",\"S\",\"S\",\"S\",\"S\",\"S\",\"S\",\"S\",\"S\",\"S\",\"S\",\"S\",\"S\",\"S\",\"S\",\"S\",\"S\",\"S\",\"S\",\"S\",\"S\",\"S\",\"S\",\"S\",\"S\",\"S\",\"S\",\"S\",\"S\",\"S\",\"S\",\"S\",\"S\",\"S\",\"S\",\"S\",\"S\",\"S\",\"S\",\"S\",\"S\",\"S\",\"S\",\"S\",\"S\",\"S\",\"S\",\"S\",\"S\",\"S\",\"S\",\"S\",\"S\",\"S\",\"S\",\"S\",\"S\",\"S\",\"S\",\"S\",\"S\",\"S\",\"S\",\"S\",\"S\",\"S\",\"S\",\"S\",\"S\",\"S\",\"S\",\"S\",\"S\",\"S\",\"S\",\"S\",\"S\",\"S\",\"S\",\"S\",\"S\",\"S\",\"S\",\"S\",\"S\",\"S\",\"S\",\"S\",\"S\",\"S\",\"S\",\"S\",\"S\",\"S\",\"S\",\"S\",\"S\",\"S\",\"S\",\"S\",\"S\",\"S\",\"S\",\"S\",\"S\",\"S\",\"S\",\"S\",\"S\",\"S\",\"S\",\"S\",\"S\",\"S\",\"S\",\"S\",\"S\",\"S\",\"S\",\"S\",\"S\",\"S\",\"S\",\"S\",\"S\",\"S\",\"S\",\"S\",\"S\",\"S\",\"S\",\"S\",\"S\",\"S\",\"S\",\"S\",\"S\",\"S\",\"S\",\"S\",\"S\",\"S\",\"S\",\"S\",\"S\",\"S\",\"S\",\"S\",\"S\",\"S\",\"S\",\"S\",\"S\",\"S\",\"S\",\"S\",\"S\",\"S\",\"S\",\"S\",\"S\",\"S\",\"S\",\"S\",\"S\",\"S\",\"S\",\"S\",\"S\",\"S\",\"S\",\"S\",\"S\",\"S\",\"S\",\"S\",\"S\",\"S\",\"S\",\"S\",\"S\",\"S\",\"S\",\"S\",\"S\",\"S\",\"S\",\"S\",\"S\",\"S\",\"S\",\"S\",\"S\",\"S\",\"S\",\"S\",\"S\",\"S\",\"S\",\"S\",\"S\",\"S\",\"S\",\"S\",\"S\",\"S\",\"S\",\"S\",\"S\",\"S\",\"S\",\"S\",\"S\",\"S\",\"S\",\"S\",\"S\",\"S\",\"S\",\"S\",\"S\",\"S\",\"S\",\"S\",\"S\",\"S\",\"S\",\"S\",\"S\",\"S\",\"S\",\"S\",\"S\",\"S\",\"S\",\"S\",\"S\",\"S\",\"S\",\"S\",\"S\",\"S\",\"S\",\"S\",\"S\",\"S\",\"S\",\"S\",\"S\",\"S\",\"S\",\"S\",\"S\",\"S\",\"S\",\"S\",\"S\",\"S\",\"S\",\"S\",\"S\",\"S\",\"S\",\"S\",\"S\",\"S\",\"S\",\"S\",\"S\",\"S\",\"S\",\"S\",\"S\",\"S\",\"S\",\"S\",\"S\",\"S\",\"S\",\"S\",\"S\",\"S\",\"S\",\"S\",\"S\",\"S\",\"S\",\"S\",\"S\",\"S\",\"S\",\"S\",\"S\",\"S\",\"S\",\"S\",\"S\",\"S\",\"S\",\"S\",\"S\",\"S\",\"S\",\"S\",\"S\",\"S\",\"S\",\"S\",\"S\",\"S\",\"S\",\"S\",\"S\",\"S\",\"S\",\"S\",\"S\",\"S\",\"S\",\"S\",\"S\",\"S\",\"S\",\"S\",\"S\",\"S\",\"S\",\"S\",\"S\",\"S\",\"S\",\"S\",\"S\",\"S\",\"S\",\"S\",\"S\",\"S\",\"S\",\"S\",\"S\",\"S\",\"S\",\"S\",\"S\",\"S\",\"S\",\"S\",\"S\"],\"xaxis\":\"x\",\"yaxis\":\"y\",\"type\":\"histogram\"},{\"alignmentgroup\":\"True\",\"bingroup\":\"x\",\"hovertemplate\":\"Embarked=%{x}<br>count=%{y}<extra></extra>\",\"legendgroup\":\"C\",\"marker\":{\"color\":\"#EF553B\",\"pattern\":{\"shape\":\"\"}},\"name\":\"C\",\"offsetgroup\":\"C\",\"orientation\":\"v\",\"showlegend\":true,\"texttemplate\":\"%{value:3s}\",\"x\":[\"C\",\"C\",\"C\",\"C\",\"C\",\"C\",\"C\",\"C\",\"C\",\"C\",\"C\",\"C\",\"C\",\"C\",\"C\",\"C\",\"C\",\"C\",\"C\",\"C\",\"C\",\"C\",\"C\",\"C\",\"C\",\"C\",\"C\",\"C\",\"C\",\"C\",\"C\",\"C\",\"C\",\"C\",\"C\",\"C\",\"C\",\"C\",\"C\",\"C\",\"C\",\"C\",\"C\",\"C\",\"C\",\"C\",\"C\",\"C\",\"C\",\"C\",\"C\",\"C\",\"C\",\"C\",\"C\",\"C\",\"C\",\"C\",\"C\",\"C\",\"C\",\"C\",\"C\",\"C\",\"C\",\"C\",\"C\",\"C\",\"C\",\"C\",\"C\",\"C\",\"C\",\"C\",\"C\",\"C\",\"C\",\"C\",\"C\",\"C\",\"C\",\"C\",\"C\",\"C\",\"C\",\"C\",\"C\",\"C\",\"C\",\"C\",\"C\",\"C\",\"C\",\"C\",\"C\",\"C\",\"C\",\"C\",\"C\",\"C\",\"C\",\"C\",\"C\",\"C\",\"C\",\"C\",\"C\",\"C\",\"C\",\"C\",\"C\",\"C\",\"C\",\"C\",\"C\",\"C\",\"C\",\"C\",\"C\",\"C\",\"C\",\"C\",\"C\",\"C\",\"C\",\"C\",\"C\",\"C\",\"C\",\"C\",\"C\",\"C\",\"C\",\"C\",\"C\",\"C\",\"C\",\"C\",\"C\",\"C\",\"C\",\"C\",\"C\",\"C\",\"C\",\"C\",\"C\",\"C\",\"C\",\"C\",\"C\",\"C\",\"C\",\"C\",\"C\",\"C\",\"C\",\"C\",\"C\",\"C\",\"C\",\"C\",\"C\",\"C\",\"C\",\"C\",\"C\",\"C\"],\"xaxis\":\"x\",\"yaxis\":\"y\",\"type\":\"histogram\"},{\"alignmentgroup\":\"True\",\"bingroup\":\"x\",\"hovertemplate\":\"Embarked=%{x}<br>count=%{y}<extra></extra>\",\"legendgroup\":\"Q\",\"marker\":{\"color\":\"#00cc96\",\"pattern\":{\"shape\":\"\"}},\"name\":\"Q\",\"offsetgroup\":\"Q\",\"orientation\":\"v\",\"showlegend\":true,\"texttemplate\":\"%{value:3s}\",\"x\":[\"Q\",\"Q\",\"Q\",\"Q\",\"Q\",\"Q\",\"Q\",\"Q\",\"Q\",\"Q\",\"Q\",\"Q\",\"Q\",\"Q\",\"Q\",\"Q\",\"Q\",\"Q\",\"Q\",\"Q\",\"Q\",\"Q\",\"Q\",\"Q\",\"Q\",\"Q\",\"Q\",\"Q\",\"Q\",\"Q\",\"Q\",\"Q\",\"Q\",\"Q\",\"Q\",\"Q\",\"Q\",\"Q\",\"Q\",\"Q\",\"Q\",\"Q\",\"Q\",\"Q\",\"Q\",\"Q\",\"Q\",\"Q\",\"Q\",\"Q\",\"Q\",\"Q\",\"Q\",\"Q\",\"Q\",\"Q\",\"Q\",\"Q\",\"Q\",\"Q\",\"Q\",\"Q\",\"Q\",\"Q\",\"Q\",\"Q\",\"Q\",\"Q\",\"Q\",\"Q\",\"Q\",\"Q\",\"Q\",\"Q\",\"Q\",\"Q\",\"Q\"],\"xaxis\":\"x\",\"yaxis\":\"y\",\"type\":\"histogram\"}],                        {\"template\":{\"data\":{\"histogram2dcontour\":[{\"type\":\"histogram2dcontour\",\"colorbar\":{\"outlinewidth\":0,\"ticks\":\"\"},\"colorscale\":[[0.0,\"#0d0887\"],[0.1111111111111111,\"#46039f\"],[0.2222222222222222,\"#7201a8\"],[0.3333333333333333,\"#9c179e\"],[0.4444444444444444,\"#bd3786\"],[0.5555555555555556,\"#d8576b\"],[0.6666666666666666,\"#ed7953\"],[0.7777777777777778,\"#fb9f3a\"],[0.8888888888888888,\"#fdca26\"],[1.0,\"#f0f921\"]]}],\"choropleth\":[{\"type\":\"choropleth\",\"colorbar\":{\"outlinewidth\":0,\"ticks\":\"\"}}],\"histogram2d\":[{\"type\":\"histogram2d\",\"colorbar\":{\"outlinewidth\":0,\"ticks\":\"\"},\"colorscale\":[[0.0,\"#0d0887\"],[0.1111111111111111,\"#46039f\"],[0.2222222222222222,\"#7201a8\"],[0.3333333333333333,\"#9c179e\"],[0.4444444444444444,\"#bd3786\"],[0.5555555555555556,\"#d8576b\"],[0.6666666666666666,\"#ed7953\"],[0.7777777777777778,\"#fb9f3a\"],[0.8888888888888888,\"#fdca26\"],[1.0,\"#f0f921\"]]}],\"heatmap\":[{\"type\":\"heatmap\",\"colorbar\":{\"outlinewidth\":0,\"ticks\":\"\"},\"colorscale\":[[0.0,\"#0d0887\"],[0.1111111111111111,\"#46039f\"],[0.2222222222222222,\"#7201a8\"],[0.3333333333333333,\"#9c179e\"],[0.4444444444444444,\"#bd3786\"],[0.5555555555555556,\"#d8576b\"],[0.6666666666666666,\"#ed7953\"],[0.7777777777777778,\"#fb9f3a\"],[0.8888888888888888,\"#fdca26\"],[1.0,\"#f0f921\"]]}],\"heatmapgl\":[{\"type\":\"heatmapgl\",\"colorbar\":{\"outlinewidth\":0,\"ticks\":\"\"},\"colorscale\":[[0.0,\"#0d0887\"],[0.1111111111111111,\"#46039f\"],[0.2222222222222222,\"#7201a8\"],[0.3333333333333333,\"#9c179e\"],[0.4444444444444444,\"#bd3786\"],[0.5555555555555556,\"#d8576b\"],[0.6666666666666666,\"#ed7953\"],[0.7777777777777778,\"#fb9f3a\"],[0.8888888888888888,\"#fdca26\"],[1.0,\"#f0f921\"]]}],\"contourcarpet\":[{\"type\":\"contourcarpet\",\"colorbar\":{\"outlinewidth\":0,\"ticks\":\"\"}}],\"contour\":[{\"type\":\"contour\",\"colorbar\":{\"outlinewidth\":0,\"ticks\":\"\"},\"colorscale\":[[0.0,\"#0d0887\"],[0.1111111111111111,\"#46039f\"],[0.2222222222222222,\"#7201a8\"],[0.3333333333333333,\"#9c179e\"],[0.4444444444444444,\"#bd3786\"],[0.5555555555555556,\"#d8576b\"],[0.6666666666666666,\"#ed7953\"],[0.7777777777777778,\"#fb9f3a\"],[0.8888888888888888,\"#fdca26\"],[1.0,\"#f0f921\"]]}],\"surface\":[{\"type\":\"surface\",\"colorbar\":{\"outlinewidth\":0,\"ticks\":\"\"},\"colorscale\":[[0.0,\"#0d0887\"],[0.1111111111111111,\"#46039f\"],[0.2222222222222222,\"#7201a8\"],[0.3333333333333333,\"#9c179e\"],[0.4444444444444444,\"#bd3786\"],[0.5555555555555556,\"#d8576b\"],[0.6666666666666666,\"#ed7953\"],[0.7777777777777778,\"#fb9f3a\"],[0.8888888888888888,\"#fdca26\"],[1.0,\"#f0f921\"]]}],\"mesh3d\":[{\"type\":\"mesh3d\",\"colorbar\":{\"outlinewidth\":0,\"ticks\":\"\"}}],\"scatter\":[{\"fillpattern\":{\"fillmode\":\"overlay\",\"size\":10,\"solidity\":0.2},\"type\":\"scatter\"}],\"parcoords\":[{\"type\":\"parcoords\",\"line\":{\"colorbar\":{\"outlinewidth\":0,\"ticks\":\"\"}}}],\"scatterpolargl\":[{\"type\":\"scatterpolargl\",\"marker\":{\"colorbar\":{\"outlinewidth\":0,\"ticks\":\"\"}}}],\"bar\":[{\"error_x\":{\"color\":\"#2a3f5f\"},\"error_y\":{\"color\":\"#2a3f5f\"},\"marker\":{\"line\":{\"color\":\"#E5ECF6\",\"width\":0.5},\"pattern\":{\"fillmode\":\"overlay\",\"size\":10,\"solidity\":0.2}},\"type\":\"bar\"}],\"scattergeo\":[{\"type\":\"scattergeo\",\"marker\":{\"colorbar\":{\"outlinewidth\":0,\"ticks\":\"\"}}}],\"scatterpolar\":[{\"type\":\"scatterpolar\",\"marker\":{\"colorbar\":{\"outlinewidth\":0,\"ticks\":\"\"}}}],\"histogram\":[{\"marker\":{\"pattern\":{\"fillmode\":\"overlay\",\"size\":10,\"solidity\":0.2}},\"type\":\"histogram\"}],\"scattergl\":[{\"type\":\"scattergl\",\"marker\":{\"colorbar\":{\"outlinewidth\":0,\"ticks\":\"\"}}}],\"scatter3d\":[{\"type\":\"scatter3d\",\"line\":{\"colorbar\":{\"outlinewidth\":0,\"ticks\":\"\"}},\"marker\":{\"colorbar\":{\"outlinewidth\":0,\"ticks\":\"\"}}}],\"scattermapbox\":[{\"type\":\"scattermapbox\",\"marker\":{\"colorbar\":{\"outlinewidth\":0,\"ticks\":\"\"}}}],\"scatterternary\":[{\"type\":\"scatterternary\",\"marker\":{\"colorbar\":{\"outlinewidth\":0,\"ticks\":\"\"}}}],\"scattercarpet\":[{\"type\":\"scattercarpet\",\"marker\":{\"colorbar\":{\"outlinewidth\":0,\"ticks\":\"\"}}}],\"carpet\":[{\"aaxis\":{\"endlinecolor\":\"#2a3f5f\",\"gridcolor\":\"white\",\"linecolor\":\"white\",\"minorgridcolor\":\"white\",\"startlinecolor\":\"#2a3f5f\"},\"baxis\":{\"endlinecolor\":\"#2a3f5f\",\"gridcolor\":\"white\",\"linecolor\":\"white\",\"minorgridcolor\":\"white\",\"startlinecolor\":\"#2a3f5f\"},\"type\":\"carpet\"}],\"table\":[{\"cells\":{\"fill\":{\"color\":\"#EBF0F8\"},\"line\":{\"color\":\"white\"}},\"header\":{\"fill\":{\"color\":\"#C8D4E3\"},\"line\":{\"color\":\"white\"}},\"type\":\"table\"}],\"barpolar\":[{\"marker\":{\"line\":{\"color\":\"#E5ECF6\",\"width\":0.5},\"pattern\":{\"fillmode\":\"overlay\",\"size\":10,\"solidity\":0.2}},\"type\":\"barpolar\"}],\"pie\":[{\"automargin\":true,\"type\":\"pie\"}]},\"layout\":{\"autotypenumbers\":\"strict\",\"colorway\":[\"#636efa\",\"#EF553B\",\"#00cc96\",\"#ab63fa\",\"#FFA15A\",\"#19d3f3\",\"#FF6692\",\"#B6E880\",\"#FF97FF\",\"#FECB52\"],\"font\":{\"color\":\"#2a3f5f\"},\"hovermode\":\"closest\",\"hoverlabel\":{\"align\":\"left\"},\"paper_bgcolor\":\"white\",\"plot_bgcolor\":\"#E5ECF6\",\"polar\":{\"bgcolor\":\"#E5ECF6\",\"angularaxis\":{\"gridcolor\":\"white\",\"linecolor\":\"white\",\"ticks\":\"\"},\"radialaxis\":{\"gridcolor\":\"white\",\"linecolor\":\"white\",\"ticks\":\"\"}},\"ternary\":{\"bgcolor\":\"#E5ECF6\",\"aaxis\":{\"gridcolor\":\"white\",\"linecolor\":\"white\",\"ticks\":\"\"},\"baxis\":{\"gridcolor\":\"white\",\"linecolor\":\"white\",\"ticks\":\"\"},\"caxis\":{\"gridcolor\":\"white\",\"linecolor\":\"white\",\"ticks\":\"\"}},\"coloraxis\":{\"colorbar\":{\"outlinewidth\":0,\"ticks\":\"\"}},\"colorscale\":{\"sequential\":[[0.0,\"#0d0887\"],[0.1111111111111111,\"#46039f\"],[0.2222222222222222,\"#7201a8\"],[0.3333333333333333,\"#9c179e\"],[0.4444444444444444,\"#bd3786\"],[0.5555555555555556,\"#d8576b\"],[0.6666666666666666,\"#ed7953\"],[0.7777777777777778,\"#fb9f3a\"],[0.8888888888888888,\"#fdca26\"],[1.0,\"#f0f921\"]],\"sequentialminus\":[[0.0,\"#0d0887\"],[0.1111111111111111,\"#46039f\"],[0.2222222222222222,\"#7201a8\"],[0.3333333333333333,\"#9c179e\"],[0.4444444444444444,\"#bd3786\"],[0.5555555555555556,\"#d8576b\"],[0.6666666666666666,\"#ed7953\"],[0.7777777777777778,\"#fb9f3a\"],[0.8888888888888888,\"#fdca26\"],[1.0,\"#f0f921\"]],\"diverging\":[[0,\"#8e0152\"],[0.1,\"#c51b7d\"],[0.2,\"#de77ae\"],[0.3,\"#f1b6da\"],[0.4,\"#fde0ef\"],[0.5,\"#f7f7f7\"],[0.6,\"#e6f5d0\"],[0.7,\"#b8e186\"],[0.8,\"#7fbc41\"],[0.9,\"#4d9221\"],[1,\"#276419\"]]},\"xaxis\":{\"gridcolor\":\"white\",\"linecolor\":\"white\",\"ticks\":\"\",\"title\":{\"standoff\":15},\"zerolinecolor\":\"white\",\"automargin\":true,\"zerolinewidth\":2},\"yaxis\":{\"gridcolor\":\"white\",\"linecolor\":\"white\",\"ticks\":\"\",\"title\":{\"standoff\":15},\"zerolinecolor\":\"white\",\"automargin\":true,\"zerolinewidth\":2},\"scene\":{\"xaxis\":{\"backgroundcolor\":\"#E5ECF6\",\"gridcolor\":\"white\",\"linecolor\":\"white\",\"showbackground\":true,\"ticks\":\"\",\"zerolinecolor\":\"white\",\"gridwidth\":2},\"yaxis\":{\"backgroundcolor\":\"#E5ECF6\",\"gridcolor\":\"white\",\"linecolor\":\"white\",\"showbackground\":true,\"ticks\":\"\",\"zerolinecolor\":\"white\",\"gridwidth\":2},\"zaxis\":{\"backgroundcolor\":\"#E5ECF6\",\"gridcolor\":\"white\",\"linecolor\":\"white\",\"showbackground\":true,\"ticks\":\"\",\"zerolinecolor\":\"white\",\"gridwidth\":2}},\"shapedefaults\":{\"line\":{\"color\":\"#2a3f5f\"}},\"annotationdefaults\":{\"arrowcolor\":\"#2a3f5f\",\"arrowhead\":0,\"arrowwidth\":1},\"geo\":{\"bgcolor\":\"white\",\"landcolor\":\"#E5ECF6\",\"subunitcolor\":\"white\",\"showland\":true,\"showlakes\":true,\"lakecolor\":\"white\"},\"title\":{\"x\":0.05},\"mapbox\":{\"style\":\"light\"}}},\"xaxis\":{\"anchor\":\"y\",\"domain\":[0.0,1.0],\"title\":{\"text\":\"Embarked\"},\"categoryorder\":\"array\",\"categoryarray\":[\"S\",\"C\",\"Q\"]},\"yaxis\":{\"anchor\":\"x\",\"domain\":[0.0,1.0],\"title\":{\"text\":\"count\"}},\"legend\":{\"title\":{\"text\":\"Embarked\"},\"tracegroupgap\":0},\"title\":{\"text\":\"Embarked analysis\"},\"barmode\":\"relative\"},                        {\"responsive\": true}                    ).then(function(){\n",
       "                            \n",
       "var gd = document.getElementById('c4397c41-deea-46ab-9f87-d2084c8160a2');\n",
       "var x = new MutationObserver(function (mutations, observer) {{\n",
       "        var display = window.getComputedStyle(gd).display;\n",
       "        if (!display || display === 'none') {{\n",
       "            console.log([gd, 'removed!']);\n",
       "            Plotly.purge(gd);\n",
       "            observer.disconnect();\n",
       "        }}\n",
       "}});\n",
       "\n",
       "// Listen for the removal of the full notebook cells\n",
       "var notebookContainer = gd.closest('#notebook-container');\n",
       "if (notebookContainer) {{\n",
       "    x.observe(notebookContainer, {childList: true});\n",
       "}}\n",
       "\n",
       "// Listen for the clearing of the current output cell\n",
       "var outputEl = gd.closest('.output');\n",
       "if (outputEl) {{\n",
       "    x.observe(outputEl, {childList: true});\n",
       "}}\n",
       "\n",
       "                        })                };                });            </script>        </div>"
      ]
     },
     "metadata": {},
     "output_type": "display_data"
    }
   ],
   "source": [
    "px.histogram(df,x='Embarked',color='Embarked',title='Embarked analysis',text_auto='3s')\n"
   ]
  },
  {
   "cell_type": "markdown",
   "id": "05868860",
   "metadata": {
    "papermill": {
     "duration": 0.02126,
     "end_time": "2023-04-04T16:32:10.047122",
     "exception": false,
     "start_time": "2023-04-04T16:32:10.025862",
     "status": "completed"
    },
    "tags": []
   },
   "source": [
    "# **Cabin info**"
   ]
  },
  {
   "cell_type": "code",
   "execution_count": 43,
   "id": "6f0e310c",
   "metadata": {
    "execution": {
     "iopub.execute_input": "2023-04-04T16:32:10.092188Z",
     "iopub.status.busy": "2023-04-04T16:32:10.091465Z",
     "iopub.status.idle": "2023-04-04T16:32:10.099966Z",
     "shell.execute_reply": "2023-04-04T16:32:10.098752Z"
    },
    "papermill": {
     "duration": 0.033386,
     "end_time": "2023-04-04T16:32:10.102343",
     "exception": false,
     "start_time": "2023-04-04T16:32:10.068957",
     "status": "completed"
    },
    "tags": []
   },
   "outputs": [
    {
     "data": {
      "text/plain": [
       "True     687\n",
       "False    204\n",
       "Name: Cabin, dtype: int64"
      ]
     },
     "execution_count": 43,
     "metadata": {},
     "output_type": "execute_result"
    }
   ],
   "source": [
    "#As cabin column is having 80% of null values so we cant substitute any value as we dont have info about it\n",
    "df['Cabin'].isnull().value_counts()"
   ]
  },
  {
   "cell_type": "markdown",
   "id": "497dfa15",
   "metadata": {
    "papermill": {
     "duration": 0.020799,
     "end_time": "2023-04-04T16:32:10.144130",
     "exception": false,
     "start_time": "2023-04-04T16:32:10.123331",
     "status": "completed"
    },
    "tags": []
   },
   "source": [
    "# **Grouping data of Embarked with sex**"
   ]
  },
  {
   "cell_type": "code",
   "execution_count": 44,
   "id": "b2f80d87",
   "metadata": {
    "execution": {
     "iopub.execute_input": "2023-04-04T16:32:10.188907Z",
     "iopub.status.busy": "2023-04-04T16:32:10.188488Z",
     "iopub.status.idle": "2023-04-04T16:32:10.204686Z",
     "shell.execute_reply": "2023-04-04T16:32:10.203441Z"
    },
    "papermill": {
     "duration": 0.041044,
     "end_time": "2023-04-04T16:32:10.207090",
     "exception": false,
     "start_time": "2023-04-04T16:32:10.166046",
     "status": "completed"
    },
    "tags": []
   },
   "outputs": [
    {
     "data": {
      "text/html": [
       "<div>\n",
       "<style scoped>\n",
       "    .dataframe tbody tr th:only-of-type {\n",
       "        vertical-align: middle;\n",
       "    }\n",
       "\n",
       "    .dataframe tbody tr th {\n",
       "        vertical-align: top;\n",
       "    }\n",
       "\n",
       "    .dataframe thead th {\n",
       "        text-align: right;\n",
       "    }\n",
       "</style>\n",
       "<table border=\"1\" class=\"dataframe\">\n",
       "  <thead>\n",
       "    <tr style=\"text-align: right;\">\n",
       "      <th></th>\n",
       "      <th>Sex</th>\n",
       "    </tr>\n",
       "    <tr>\n",
       "      <th>Embarked</th>\n",
       "      <th></th>\n",
       "    </tr>\n",
       "  </thead>\n",
       "  <tbody>\n",
       "    <tr>\n",
       "      <th>C</th>\n",
       "      <td>[95, 73]</td>\n",
       "    </tr>\n",
       "    <tr>\n",
       "      <th>Q</th>\n",
       "      <td>[41, 36]</td>\n",
       "    </tr>\n",
       "    <tr>\n",
       "      <th>S</th>\n",
       "      <td>[441, 205]</td>\n",
       "    </tr>\n",
       "  </tbody>\n",
       "</table>\n",
       "</div>"
      ],
      "text/plain": [
       "                 Sex\n",
       "Embarked            \n",
       "C           [95, 73]\n",
       "Q           [41, 36]\n",
       "S         [441, 205]"
      ]
     },
     "execution_count": 44,
     "metadata": {},
     "output_type": "execute_result"
    }
   ],
   "source": [
    "df.groupby(\"Embarked\").agg({'Sex': lambda x: x.value_counts()})"
   ]
  },
  {
   "cell_type": "code",
   "execution_count": 45,
   "id": "f6cf677c",
   "metadata": {
    "execution": {
     "iopub.execute_input": "2023-04-04T16:32:10.251758Z",
     "iopub.status.busy": "2023-04-04T16:32:10.250923Z",
     "iopub.status.idle": "2023-04-04T16:32:10.502212Z",
     "shell.execute_reply": "2023-04-04T16:32:10.501013Z"
    },
    "papermill": {
     "duration": 0.276653,
     "end_time": "2023-04-04T16:32:10.504856",
     "exception": false,
     "start_time": "2023-04-04T16:32:10.228203",
     "status": "completed"
    },
    "tags": []
   },
   "outputs": [
    {
     "data": {
      "text/plain": [
       "Text(0.5, 1.0, 'Embarked with sex demographic')"
      ]
     },
     "execution_count": 45,
     "metadata": {},
     "output_type": "execute_result"
    },
    {
     "data": {
      "image/png": "[encoded data removed]",
      "text/plain": [
       "<Figure size 1500x800 with 1 Axes>"
      ]
     },
     "metadata": {},
     "output_type": "display_data"
    }
   ],
   "source": [
    "\n",
    "df.groupby('Embarked')['Sex'] \\\n",
    "    .value_counts() \\\n",
    "    .unstack(level=1) \\\n",
    "    .plot.bar(stacked=True,figsize=(15,8))\n",
    "plt.title('Embarked with sex demographic')"
   ]
  },
  {
   "cell_type": "markdown",
   "id": "f0631e4e",
   "metadata": {
    "papermill": {
     "duration": 0.020538,
     "end_time": "2023-04-04T16:32:10.546635",
     "exception": false,
     "start_time": "2023-04-04T16:32:10.526097",
     "status": "completed"
    },
    "tags": []
   },
   "source": [
    "# **Grouping data of Embarked with pclass**"
   ]
  },
  {
   "cell_type": "code",
   "execution_count": 46,
   "id": "9443c8f6",
   "metadata": {
    "execution": {
     "iopub.execute_input": "2023-04-04T16:32:10.591241Z",
     "iopub.status.busy": "2023-04-04T16:32:10.590324Z",
     "iopub.status.idle": "2023-04-04T16:32:10.606084Z",
     "shell.execute_reply": "2023-04-04T16:32:10.604855Z"
    },
    "papermill": {
     "duration": 0.040574,
     "end_time": "2023-04-04T16:32:10.608280",
     "exception": false,
     "start_time": "2023-04-04T16:32:10.567706",
     "status": "completed"
    },
    "tags": []
   },
   "outputs": [
    {
     "data": {
      "text/html": [
       "<div>\n",
       "<style scoped>\n",
       "    .dataframe tbody tr th:only-of-type {\n",
       "        vertical-align: middle;\n",
       "    }\n",
       "\n",
       "    .dataframe tbody tr th {\n",
       "        vertical-align: top;\n",
       "    }\n",
       "\n",
       "    .dataframe thead th {\n",
       "        text-align: right;\n",
       "    }\n",
       "</style>\n",
       "<table border=\"1\" class=\"dataframe\">\n",
       "  <thead>\n",
       "    <tr style=\"text-align: right;\">\n",
       "      <th></th>\n",
       "      <th>Pclass</th>\n",
       "    </tr>\n",
       "    <tr>\n",
       "      <th>Embarked</th>\n",
       "      <th></th>\n",
       "    </tr>\n",
       "  </thead>\n",
       "  <tbody>\n",
       "    <tr>\n",
       "      <th>C</th>\n",
       "      <td>[85, 66, 17]</td>\n",
       "    </tr>\n",
       "    <tr>\n",
       "      <th>Q</th>\n",
       "      <td>[72, 3, 2]</td>\n",
       "    </tr>\n",
       "    <tr>\n",
       "      <th>S</th>\n",
       "      <td>[353, 164, 129]</td>\n",
       "    </tr>\n",
       "  </tbody>\n",
       "</table>\n",
       "</div>"
      ],
      "text/plain": [
       "                   Pclass\n",
       "Embarked                 \n",
       "C            [85, 66, 17]\n",
       "Q              [72, 3, 2]\n",
       "S         [353, 164, 129]"
      ]
     },
     "execution_count": 46,
     "metadata": {},
     "output_type": "execute_result"
    }
   ],
   "source": [
    "df.groupby(\"Embarked\").agg({'Pclass': lambda x: x.value_counts()})"
   ]
  },
  {
   "cell_type": "code",
   "execution_count": 47,
   "id": "4b1b5876",
   "metadata": {
    "execution": {
     "iopub.execute_input": "2023-04-04T16:32:10.654343Z",
     "iopub.status.busy": "2023-04-04T16:32:10.653239Z",
     "iopub.status.idle": "2023-04-04T16:32:10.953783Z",
     "shell.execute_reply": "2023-04-04T16:32:10.952973Z"
    },
    "papermill": {
     "duration": 0.325958,
     "end_time": "2023-04-04T16:32:10.956118",
     "exception": false,
     "start_time": "2023-04-04T16:32:10.630160",
     "status": "completed"
    },
    "tags": []
   },
   "outputs": [
    {
     "data": {
      "text/plain": [
       "Text(0.5, 1.0, 'Embarked with Pclass')"
      ]
     },
     "execution_count": 47,
     "metadata": {},
     "output_type": "execute_result"
    },
    {
     "data": {
      "image/png": "[encoded data removed]",
      "text/plain": [
       "<Figure size 1500x800 with 1 Axes>"
      ]
     },
     "metadata": {},
     "output_type": "display_data"
    }
   ],
   "source": [
    "\n",
    "df.groupby('Embarked')['Pclass'] \\\n",
    "    .value_counts() \\\n",
    "    .unstack(level=1) \\\n",
    "    .plot.bar(stacked=True,figsize=(15,8))\n",
    "\n",
    "plt.title('Embarked with Pclass')"
   ]
  },
  {
   "cell_type": "markdown",
   "id": "8ac71e2f",
   "metadata": {
    "papermill": {
     "duration": 0.021916,
     "end_time": "2023-04-04T16:32:11.000123",
     "exception": false,
     "start_time": "2023-04-04T16:32:10.978207",
     "status": "completed"
    },
    "tags": []
   },
   "source": [
    "# **Grouping data of Age_range with sex**"
   ]
  },
  {
   "cell_type": "code",
   "execution_count": 48,
   "id": "d98ee20c",
   "metadata": {
    "execution": {
     "iopub.execute_input": "2023-04-04T16:32:11.046421Z",
     "iopub.status.busy": "2023-04-04T16:32:11.045364Z",
     "iopub.status.idle": "2023-04-04T16:32:11.063174Z",
     "shell.execute_reply": "2023-04-04T16:32:11.062039Z"
    },
    "papermill": {
     "duration": 0.043902,
     "end_time": "2023-04-04T16:32:11.065532",
     "exception": false,
     "start_time": "2023-04-04T16:32:11.021630",
     "status": "completed"
    },
    "tags": []
   },
   "outputs": [
    {
     "data": {
      "text/html": [
       "<div>\n",
       "<style scoped>\n",
       "    .dataframe tbody tr th:only-of-type {\n",
       "        vertical-align: middle;\n",
       "    }\n",
       "\n",
       "    .dataframe tbody tr th {\n",
       "        vertical-align: top;\n",
       "    }\n",
       "\n",
       "    .dataframe thead th {\n",
       "        text-align: right;\n",
       "    }\n",
       "</style>\n",
       "<table border=\"1\" class=\"dataframe\">\n",
       "  <thead>\n",
       "    <tr style=\"text-align: right;\">\n",
       "      <th></th>\n",
       "      <th>Sex</th>\n",
       "    </tr>\n",
       "    <tr>\n",
       "      <th>Age_Range</th>\n",
       "      <th></th>\n",
       "    </tr>\n",
       "  </thead>\n",
       "  <tbody>\n",
       "    <tr>\n",
       "      <th>0-10</th>\n",
       "      <td>[48, 34]</td>\n",
       "    </tr>\n",
       "    <tr>\n",
       "      <th>10-20</th>\n",
       "      <td>[75, 54]</td>\n",
       "    </tr>\n",
       "    <tr>\n",
       "      <th>20-30</th>\n",
       "      <td>[182, 84]</td>\n",
       "    </tr>\n",
       "    <tr>\n",
       "      <th>30-40</th>\n",
       "      <td>[137, 74]</td>\n",
       "    </tr>\n",
       "    <tr>\n",
       "      <th>40-50</th>\n",
       "      <td>[69, 42]</td>\n",
       "    </tr>\n",
       "    <tr>\n",
       "      <th>50-60</th>\n",
       "      <td>[43, 19]</td>\n",
       "    </tr>\n",
       "    <tr>\n",
       "      <th>60-70</th>\n",
       "      <td>[23, 7]</td>\n",
       "    </tr>\n",
       "  </tbody>\n",
       "</table>\n",
       "</div>"
      ],
      "text/plain": [
       "                 Sex\n",
       "Age_Range           \n",
       "0-10        [48, 34]\n",
       "10-20       [75, 54]\n",
       "20-30      [182, 84]\n",
       "30-40      [137, 74]\n",
       "40-50       [69, 42]\n",
       "50-60       [43, 19]\n",
       "60-70        [23, 7]"
      ]
     },
     "execution_count": 48,
     "metadata": {},
     "output_type": "execute_result"
    }
   ],
   "source": [
    "df.groupby(\"Age_Range\").agg({'Sex': lambda x: x.value_counts()})"
   ]
  },
  {
   "cell_type": "code",
   "execution_count": 49,
   "id": "dca76192",
   "metadata": {
    "execution": {
     "iopub.execute_input": "2023-04-04T16:32:11.111113Z",
     "iopub.status.busy": "2023-04-04T16:32:11.110700Z",
     "iopub.status.idle": "2023-04-04T16:32:11.459838Z",
     "shell.execute_reply": "2023-04-04T16:32:11.458407Z"
    },
    "papermill": {
     "duration": 0.37571,
     "end_time": "2023-04-04T16:32:11.462847",
     "exception": false,
     "start_time": "2023-04-04T16:32:11.087137",
     "status": "completed"
    },
    "tags": []
   },
   "outputs": [
    {
     "data": {
      "text/plain": [
       "Text(0.5, 1.0, 'Age_Range with Sex')"
      ]
     },
     "execution_count": 49,
     "metadata": {},
     "output_type": "execute_result"
    },
    {
     "data": {
      "image/png": "[encoded data removed]",
      "text/plain": [
       "<Figure size 1500x800 with 1 Axes>"
      ]
     },
     "metadata": {},
     "output_type": "display_data"
    }
   ],
   "source": [
    "df.groupby('Age_Range')['Sex'] \\\n",
    "    .value_counts() \\\n",
    "    .unstack(level=1) \\\n",
    "    .plot.bar(stacked=True,figsize=(15,8))\n",
    "\n",
    "#score at each bar of plot\n",
    "for i, v in enumerate(df.groupby('Age_Range') \\\n",
    "                      .agg({'Sex': lambda x: len(x)})['Sex']):\n",
    "    plt.text(i - .25, v + 3, int(v), color='black')\n",
    "axes = plt.gca()\n",
    "\n",
    "#setting y limit of plot\n",
    "axes.set_ylim([0, 500])\n",
    "plt.title('Age_Range with Sex')"
   ]
  },
  {
   "cell_type": "markdown",
   "id": "689fe61c",
   "metadata": {
    "papermill": {
     "duration": 0.032354,
     "end_time": "2023-04-04T16:32:11.529687",
     "exception": false,
     "start_time": "2023-04-04T16:32:11.497333",
     "status": "completed"
    },
    "tags": []
   },
   "source": [
    "# **Grouping data of Age_range with Survived**"
   ]
  },
  {
   "cell_type": "code",
   "execution_count": 50,
   "id": "694d5aae",
   "metadata": {
    "execution": {
     "iopub.execute_input": "2023-04-04T16:32:11.578964Z",
     "iopub.status.busy": "2023-04-04T16:32:11.577911Z",
     "iopub.status.idle": "2023-04-04T16:32:11.930436Z",
     "shell.execute_reply": "2023-04-04T16:32:11.929110Z"
    },
    "papermill": {
     "duration": 0.379855,
     "end_time": "2023-04-04T16:32:11.933067",
     "exception": false,
     "start_time": "2023-04-04T16:32:11.553212",
     "status": "completed"
    },
    "tags": []
   },
   "outputs": [
    {
     "data": {
      "text/plain": [
       "Text(0.5, 1.0, 'Age_Range with Survived or died')"
      ]
     },
     "execution_count": 50,
     "metadata": {},
     "output_type": "execute_result"
    },
    {
     "data": {
      "image/png": "[encoded data removed]",
      "text/plain": [
       "<Figure size 1500x800 with 1 Axes>"
      ]
     },
     "metadata": {},
     "output_type": "display_data"
    }
   ],
   "source": [
    "df.groupby('Age_Range')['Survived'] \\\n",
    "    .value_counts() \\\n",
    "    .unstack(level=1) \\\n",
    "    .plot.bar(stacked=True,figsize=(15,8))\n",
    "\n",
    "#score at each bar of plot\n",
    "for i, v in enumerate(df.groupby('Age_Range') \\\n",
    "                      .agg({'Survived': lambda x: len(x)})['Survived']):\n",
    "    plt.text(i - .25, v + 3, int(v), color='black')\n",
    "axes = plt.gca()\n",
    "\n",
    "#setting y limit of plot\n",
    "plt.ylabel('No. of people')\n",
    "axes.set_ylim([0, 500])\n",
    "plt.title('Age_Range with Survived or died')"
   ]
  },
  {
   "cell_type": "markdown",
   "id": "7af0b286",
   "metadata": {
    "papermill": {
     "duration": 0.023237,
     "end_time": "2023-04-04T16:32:11.980270",
     "exception": false,
     "start_time": "2023-04-04T16:32:11.957033",
     "status": "completed"
    },
    "tags": []
   },
   "source": [
    "# **Poisson distribution for age**"
   ]
  },
  {
   "cell_type": "code",
   "execution_count": 51,
   "id": "f95a0b6b",
   "metadata": {
    "execution": {
     "iopub.execute_input": "2023-04-04T16:32:12.029542Z",
     "iopub.status.busy": "2023-04-04T16:32:12.029097Z",
     "iopub.status.idle": "2023-04-04T16:32:12.339128Z",
     "shell.execute_reply": "2023-04-04T16:32:12.338056Z"
    },
    "papermill": {
     "duration": 0.337847,
     "end_time": "2023-04-04T16:32:12.341846",
     "exception": false,
     "start_time": "2023-04-04T16:32:12.003999",
     "status": "completed"
    },
    "tags": []
   },
   "outputs": [
    {
     "data": {
      "text/plain": [
       "[<matplotlib.lines.Line2D at 0x749ec163a750>]"
      ]
     },
     "execution_count": 51,
     "metadata": {},
     "output_type": "execute_result"
    },
    {
     "data": {
      "image/png": "[encoded data removed]",
      "text/plain": [
       "<Figure size 640x480 with 1 Axes>"
      ]
     },
     "metadata": {},
     "output_type": "display_data"
    }
   ],
   "source": [
    "binwidth = 5\n",
    "xstart = 0\n",
    "xend = 80\n",
    "bins = np.arange(xstart,xend,binwidth)\n",
    "\n",
    "o = sns.histplot(df['Age'], kde=True,bins = bins)\n",
    "mu = df['Age'].mean() \n",
    "n = len(df['Age'])\n",
    "plt.plot(bins + binwidth/2 , (n)*(poisson.cdf(bins+binwidth,mu) - poisson.cdf(bins,mu)), color='red')\n"
   ]
  },
  {
   "cell_type": "markdown",
   "id": "44b2cf11",
   "metadata": {
    "papermill": {
     "duration": 0.023772,
     "end_time": "2023-04-04T16:32:12.389280",
     "exception": false,
     "start_time": "2023-04-04T16:32:12.365508",
     "status": "completed"
    },
    "tags": []
   },
   "source": [
    "# **Non-linear trendline for fare**"
   ]
  },
  {
   "cell_type": "code",
   "execution_count": 52,
   "id": "a9edb8a2",
   "metadata": {
    "execution": {
     "iopub.execute_input": "2023-04-04T16:32:12.440496Z",
     "iopub.status.busy": "2023-04-04T16:32:12.439327Z",
     "iopub.status.idle": "2023-04-04T16:32:12.536781Z",
     "shell.execute_reply": "2023-04-04T16:32:12.535636Z"
    },
    "papermill": {
     "duration": 0.126051,
     "end_time": "2023-04-04T16:32:12.539277",
     "exception": false,
     "start_time": "2023-04-04T16:32:12.413226",
     "status": "completed"
    },
    "tags": []
   },
   "outputs": [
    {
     "data": {
      "text/html": [
       "<div>                            <div id=\"d31cdc8a-f6f3-4b85-bc8f-b7827be64750\" class=\"plotly-graph-div\" style=\"height:525px; width:100%;\"></div>            <script type=\"text/javascript\">                require([\"plotly\"], function(Plotly) {                    window.PLOTLYENV=window.PLOTLYENV || {};                                    if (document.getElementById(\"d31cdc8a-f6f3-4b85-bc8f-b7827be64750\")) {                    Plotly.newPlot(                        \"d31cdc8a-f6f3-4b85-bc8f-b7827be64750\",                        [{\"hovertemplate\":\"Fare=%{x}<br>index=%{y}<extra></extra>\",\"legendgroup\":\"\",\"marker\":{\"color\":\"#636efa\",\"symbol\":\"circle\"},\"mode\":\"markers\",\"name\":\"\",\"orientation\":\"h\",\"showlegend\":false,\"x\":[7.25,71.2833,7.925,53.1,8.05,8.4583,51.8625,21.075,11.1333,30.0708,16.7,26.55,8.05,31.275,7.8542,16.0,29.125,13.0,18.0,7.225,26.0,13.0,8.0292,35.5,21.075,31.3875,7.225,263.0,7.8792,7.8958,27.7208,146.5208,7.75,10.5,82.1708,52.0,7.2292,8.05,18.0,11.2417,9.475,21.0,7.8958,41.5792,7.8792,8.05,15.5,7.75,21.6792,17.8,39.6875,7.8,76.7292,26.0,61.9792,35.5,10.5,7.2292,27.75,46.9,7.2292,80.0,83.475,27.9,27.7208,15.2458,10.5,8.1583,7.925,8.6625,10.5,46.9,73.5,14.4542,56.4958,7.65,7.8958,8.05,29.0,12.475,9.0,9.5,7.7875,47.1,10.5,15.85,34.375,8.05,263.0,8.05,8.05,7.8542,61.175,20.575,7.25,8.05,34.6542,63.3583,23.0,26.0,7.8958,7.8958,77.2875,8.6542,7.925,7.8958,7.65,7.775,7.8958,24.15,52.0,14.4542,8.05,9.825,14.4583,7.925,7.75,21.0,247.5208,31.275,73.5,8.05,30.0708,13.0,77.2875,11.2417,7.75,7.1417,22.3583,6.975,7.8958,7.05,14.5,26.0,13.0,15.0458,26.2833,53.1,9.2167,79.2,15.2458,7.75,15.85,6.75,11.5,36.75,7.7958,34.375,26.0,13.0,12.525,66.6,8.05,14.5,7.3125,61.3792,7.7333,8.05,8.6625,69.55,16.1,15.75,7.775,8.6625,39.6875,20.525,55.0,27.9,25.925,56.4958,33.5,29.125,11.1333,7.925,30.6958,7.8542,25.4667,28.7125,13.0,0.0,69.55,15.05,31.3875,39.0,22.025,50.0,15.5,26.55,15.5,7.8958,13.0,13.0,7.8542,26.0,27.7208,146.5208,7.75,8.4042,7.75,13.0,9.5,69.55,6.4958,7.225,8.05,10.4625,15.85,18.7875,7.75,31.0,7.05,21.0,7.25,13.0,7.75,113.275,7.925,27.0,76.2917,10.5,8.05,13.0,8.05,7.8958,90.0,9.35,10.5,7.25,13.0,25.4667,83.475,7.775,13.5,31.3875,10.5,7.55,26.0,26.25,10.5,12.275,14.4542,15.5,10.5,7.125,7.225,90.0,7.775,14.5,52.5542,26.0,7.25,10.4625,26.55,16.1,20.2125,15.2458,79.2,86.5,512.3292,26.0,7.75,31.3875,79.65,0.0,7.75,10.5,39.6875,7.775,153.4625,135.6333,31.0,0.0,19.5,29.7,7.75,77.9583,7.75,0.0,29.125,20.25,7.75,7.8542,9.5,8.05,26.0,8.6625,9.5,7.8958,13.0,7.75,78.85,91.0792,12.875,8.85,7.8958,27.7208,7.2292,151.55,30.5,247.5208,7.75,23.25,0.0,12.35,8.05,151.55,110.8833,108.9,24.0,56.9292,83.1583,262.375,26.0,7.8958,26.25,7.8542,26.0,14.0,164.8667,134.5,7.25,7.8958,12.35,29.0,69.55,135.6333,6.2375,13.0,20.525,57.9792,23.25,28.5,153.4625,18.0,133.65,7.8958,66.6,134.5,8.05,35.5,26.0,263.0,13.0,13.0,13.0,13.0,13.0,16.1,15.9,8.6625,9.225,35.0,7.2292,17.8,7.225,9.5,55.0,13.0,7.8792,7.8792,27.9,27.7208,14.4542,7.05,15.5,7.25,75.25,7.2292,7.75,69.3,55.4417,6.4958,8.05,135.6333,21.075,82.1708,7.25,211.5,4.0125,7.775,227.525,15.7417,7.925,52.0,7.8958,73.5,46.9,13.0,7.7292,12.0,120.0,7.7958,7.925,113.275,16.7,7.7958,7.8542,26.0,10.5,12.65,7.925,8.05,9.825,15.85,8.6625,21.0,7.75,18.75,7.775,25.4667,7.8958,6.8583,90.0,0.0,7.925,8.05,32.5,13.0,13.0,24.15,7.8958,7.7333,7.875,14.4,20.2125,7.25,26.0,26.0,7.75,8.05,26.55,16.1,26.0,7.125,55.9,120.0,34.375,18.75,263.0,10.5,26.25,9.5,7.775,13.0,8.1125,81.8583,19.5,26.55,19.2583,30.5,27.75,19.9667,27.75,89.1042,8.05,7.8958,26.55,51.8625,10.5,7.75,26.55,8.05,38.5,13.0,8.05,7.05,0.0,26.55,7.725,19.2583,7.25,8.6625,27.75,13.7917,9.8375,52.0,21.0,7.0458,7.5208,12.2875,46.9,0.0,8.05,9.5875,91.0792,25.4667,90.0,29.7,8.05,15.9,19.9667,7.25,30.5,49.5042,8.05,14.4583,78.2667,15.1,151.55,7.7958,8.6625,7.75,7.6292,9.5875,86.5,108.9,26.0,26.55,22.525,56.4958,7.75,8.05,26.2875,59.4,7.4958,34.0208,10.5,24.15,26.0,7.8958,93.5,7.8958,7.225,57.9792,7.2292,7.75,10.5,221.7792,7.925,11.5,26.0,7.2292,7.2292,22.3583,8.6625,26.25,26.55,106.425,14.5,49.5,71.0,31.275,31.275,26.0,106.425,26.0,26.0,13.8625,20.525,36.75,110.8833,26.0,7.8292,7.225,7.775,26.55,39.6,227.525,79.65,17.4,7.75,7.8958,13.5,8.05,8.05,24.15,7.8958,21.075,7.2292,7.8542,10.5,51.4792,26.3875,7.75,8.05,14.5,13.0,55.9,14.4583,7.925,30.0,110.8833,26.0,40.125,8.7125,79.65,15.0,79.2,8.05,8.05,7.125,78.2667,7.25,7.75,26.0,24.15,33.0,0.0,7.225,56.9292,27.0,7.8958,42.4,8.05,26.55,15.55,7.8958,30.5,41.5792,153.4625,31.275,7.05,15.5,7.75,8.05,65.0,14.4,16.1,39.0,10.5,14.4542,52.5542,15.7417,7.8542,16.1,32.3208,12.35,77.9583,7.8958,7.7333,30.0,7.0542,30.5,0.0,27.9,13.0,7.925,26.25,39.6875,16.1,7.8542,69.3,27.9,56.4958,19.2583,76.7292,7.8958,35.5,7.55,7.55,7.8958,23.0,8.4333,7.8292,6.75,73.5,7.8958,15.5,13.0,113.275,133.65,7.225,25.5875,7.4958,7.925,73.5,13.0,7.775,8.05,52.0,39.0,52.0,10.5,13.0,0.0,7.775,8.05,9.8417,46.9,512.3292,8.1375,76.7292,9.225,46.9,39.0,41.5792,39.6875,10.1708,7.7958,211.3375,57.0,13.4167,56.4958,7.225,26.55,13.5,8.05,7.7333,110.8833,7.65,227.525,26.2875,14.4542,7.7417,7.8542,26.0,13.5,26.2875,151.55,15.2458,49.5042,26.55,52.0,9.4833,13.0,7.65,227.525,10.5,15.5,7.775,33.0,7.0542,13.0,13.0,53.1,8.6625,21.0,7.7375,26.0,7.925,211.3375,18.7875,0.0,13.0,13.0,16.1,34.375,512.3292,7.8958,7.8958,30.0,78.85,262.375,16.1,7.925,71.0,20.25,13.0,53.1,7.75,23.0,12.475,9.5,7.8958,65.0,14.5,7.7958,11.5,8.05,86.5,14.5,7.125,7.2292,120.0,7.775,77.9583,39.6,7.75,24.15,8.3625,9.5,7.8542,10.5,7.225,23.0,7.75,7.75,12.475,7.7375,211.3375,7.2292,57.0,30.0,23.45,7.05,7.25,7.4958,29.125,20.575,79.2,7.75,26.0,69.55,30.6958,7.8958,13.0,25.9292,8.6833,7.2292,24.15,13.0,26.25,120.0,8.5167,6.975,7.775,0.0,7.775,13.0,53.1,7.8875,24.15,10.5,31.275,8.05,0.0,7.925,37.0042,6.45,27.9,93.5,8.6625,0.0,12.475,39.6875,6.95,56.4958,37.0042,7.75,80.0,14.4542,18.75,7.2292,7.8542,8.3,83.1583,8.6625,8.05,56.4958,29.7,7.925,10.5,31.0,6.4375,8.6625,7.55,69.55,7.8958,33.0,89.1042,31.275,7.775,15.2458,39.4,26.0,9.35,164.8667,26.55,19.2583,7.2292,14.1083,11.5,25.9292,69.55,13.0,13.0,13.8583,50.4958,9.5,11.1333,7.8958,52.5542,5.0,9.0,24.0,7.225,9.8458,7.8958,7.8958,83.1583,26.0,7.8958,10.5167,10.5,7.05,29.125,13.0,30.0,23.45,30.0,7.75],\"xaxis\":\"x\",\"y\":[0,1,2,3,4,5,6,7,8,9,10,11,12,13,14,15,16,17,18,19,20,21,22,23,24,25,26,27,28,29,30,31,32,33,34,35,36,37,38,39,40,41,42,43,44,45,46,47,48,49,50,51,52,53,54,55,56,57,58,59,60,61,62,63,64,65,66,67,68,69,70,71,72,73,74,75,76,77,78,79,80,81,82,83,84,85,86,87,88,89,90,91,92,93,94,95,96,97,98,99,100,101,102,103,104,105,106,107,108,109,110,111,112,113,114,115,116,117,118,119,120,121,122,123,124,125,126,127,128,129,130,131,132,133,134,135,136,137,138,139,140,141,142,143,144,145,146,147,148,149,150,151,152,153,154,155,156,157,158,159,160,161,162,163,164,165,166,167,168,169,170,171,172,173,174,175,176,177,178,179,180,181,182,183,184,185,186,187,188,189,190,191,192,193,194,195,196,197,198,199,200,201,202,203,204,205,206,207,208,209,210,211,212,213,214,215,216,217,218,219,220,221,222,223,224,225,226,227,228,229,230,231,232,233,234,235,236,237,238,239,240,241,242,243,244,245,246,247,248,249,250,251,252,253,254,255,256,257,258,259,260,261,262,263,264,265,266,267,268,269,270,271,272,273,274,275,276,277,278,279,280,281,282,283,284,285,286,287,288,289,290,291,292,293,294,295,296,297,298,299,300,301,302,303,304,305,306,307,308,309,310,311,312,313,314,315,316,317,318,319,320,321,322,323,324,325,326,327,328,329,330,331,332,333,334,335,336,337,338,339,340,341,342,343,344,345,346,347,348,349,350,351,352,353,354,355,356,357,358,359,360,361,362,363,364,365,366,367,368,369,370,371,372,373,374,375,376,377,378,379,380,381,382,383,384,385,386,387,388,389,390,391,392,393,394,395,396,397,398,399,400,401,402,403,404,405,406,407,408,409,410,411,412,413,414,415,416,417,418,419,420,421,422,423,424,425,426,427,428,429,430,431,432,433,434,435,436,437,438,439,440,441,442,443,444,445,446,447,448,449,450,451,452,453,454,455,456,457,458,459,460,461,462,463,464,465,466,467,468,469,470,471,472,473,474,475,476,477,478,479,480,481,482,483,484,485,486,487,488,489,490,491,492,493,494,495,496,497,498,499,500,501,502,503,504,505,506,507,508,509,510,511,512,513,514,515,516,517,518,519,520,521,522,523,524,525,526,527,528,529,530,531,532,533,534,535,536,537,538,539,540,541,542,543,544,545,546,547,548,549,550,551,552,553,554,555,556,557,558,559,560,561,562,563,564,565,566,567,568,569,570,571,572,573,574,575,576,577,578,579,580,581,582,583,584,585,586,587,588,589,590,591,592,593,594,595,596,597,598,599,600,601,602,603,604,605,606,607,608,609,610,611,612,613,614,615,616,617,618,619,620,621,622,623,624,625,626,627,628,629,630,631,632,633,634,635,636,637,638,639,640,641,642,643,644,645,646,647,648,649,650,651,652,653,654,655,656,657,658,659,660,661,662,663,664,665,666,667,668,669,670,671,672,673,674,675,676,677,678,679,680,681,682,683,684,685,686,687,688,689,690,691,692,693,694,695,696,697,698,699,700,701,702,703,704,705,706,707,708,709,710,711,712,713,714,715,716,717,718,719,720,721,722,723,724,725,726,727,728,729,730,731,732,733,734,735,736,737,738,739,740,741,742,743,744,745,746,747,748,749,750,751,752,753,754,755,756,757,758,759,760,761,762,763,764,765,766,767,768,769,770,771,772,773,774,775,776,777,778,779,780,781,782,783,784,785,786,787,788,789,790,791,792,793,794,795,796,797,798,799,800,801,802,803,804,805,806,807,808,809,810,811,812,813,814,815,816,817,818,819,820,821,822,823,824,825,826,827,828,829,830,831,832,833,834,835,836,837,838,839,840,841,842,843,844,845,846,847,848,849,850,851,852,853,854,855,856,857,858,859,860,861,862,863,864,865,866,867,868,869,870,871,872,873,874,875,876,877,878,879,880,881,882,883,884,885,886,887,888,889,890],\"yaxis\":\"y\",\"type\":\"scatter\"},{\"hovertemplate\":\"<b>Expanding mean trendline</b><br><br>Fare=%{x}<br>index=%{y} <b>(trend)</b><extra></extra>\",\"legendgroup\":\"Overall Trendline\",\"line\":{\"color\":\"#EF553B\"},\"mode\":\"lines\",\"name\":\"Overall Trendline\",\"showlegend\":true,\"x\":[0.0,0.0,0.0,0.0,0.0,0.0,0.0,0.0,0.0,0.0,0.0,0.0,0.0,0.0,0.0,4.0125,5.0,6.2375,6.4375,6.45,6.4958,6.4958,6.75,6.75,6.8583,6.95,6.975,6.975,7.0458,7.05,7.05,7.05,7.05,7.05,7.05,7.05,7.0542,7.0542,7.125,7.125,7.125,7.125,7.1417,7.225,7.225,7.225,7.225,7.225,7.225,7.225,7.225,7.225,7.225,7.225,7.225,7.2292,7.2292,7.2292,7.2292,7.2292,7.2292,7.2292,7.2292,7.2292,7.2292,7.2292,7.2292,7.2292,7.2292,7.2292,7.25,7.25,7.25,7.25,7.25,7.25,7.25,7.25,7.25,7.25,7.25,7.25,7.25,7.3125,7.4958,7.4958,7.4958,7.5208,7.55,7.55,7.55,7.55,7.6292,7.65,7.65,7.65,7.65,7.725,7.7292,7.7333,7.7333,7.7333,7.7333,7.7375,7.7375,7.7417,7.75,7.75,7.75,7.75,7.75,7.75,7.75,7.75,7.75,7.75,7.75,7.75,7.75,7.75,7.75,7.75,7.75,7.75,7.75,7.75,7.75,7.75,7.75,7.75,7.75,7.75,7.75,7.75,7.75,7.75,7.75,7.75,7.75,7.75,7.775,7.775,7.775,7.775,7.775,7.775,7.775,7.775,7.775,7.775,7.775,7.775,7.775,7.775,7.775,7.775,7.7875,7.7958,7.7958,7.7958,7.7958,7.7958,7.7958,7.8,7.8292,7.8292,7.8542,7.8542,7.8542,7.8542,7.8542,7.8542,7.8542,7.8542,7.8542,7.8542,7.8542,7.8542,7.8542,7.875,7.8792,7.8792,7.8792,7.8792,7.8875,7.8958,7.8958,7.8958,7.8958,7.8958,7.8958,7.8958,7.8958,7.8958,7.8958,7.8958,7.8958,7.8958,7.8958,7.8958,7.8958,7.8958,7.8958,7.8958,7.8958,7.8958,7.8958,7.8958,7.8958,7.8958,7.8958,7.8958,7.8958,7.8958,7.8958,7.8958,7.8958,7.8958,7.8958,7.8958,7.8958,7.8958,7.8958,7.925,7.925,7.925,7.925,7.925,7.925,7.925,7.925,7.925,7.925,7.925,7.925,7.925,7.925,7.925,7.925,7.925,7.925,8.0292,8.05,8.05,8.05,8.05,8.05,8.05,8.05,8.05,8.05,8.05,8.05,8.05,8.05,8.05,8.05,8.05,8.05,8.05,8.05,8.05,8.05,8.05,8.05,8.05,8.05,8.05,8.05,8.05,8.05,8.05,8.05,8.05,8.05,8.05,8.05,8.05,8.05,8.05,8.05,8.05,8.05,8.05,8.05,8.1125,8.1375,8.1583,8.3,8.3625,8.4042,8.4333,8.4583,8.5167,8.6542,8.6625,8.6625,8.6625,8.6625,8.6625,8.6625,8.6625,8.6625,8.6625,8.6625,8.6625,8.6625,8.6625,8.6833,8.7125,8.85,9.0,9.0,9.2167,9.225,9.225,9.35,9.35,9.475,9.4833,9.5,9.5,9.5,9.5,9.5,9.5,9.5,9.5,9.5,9.5875,9.5875,9.825,9.825,9.8375,9.8417,9.8458,10.1708,10.4625,10.4625,10.5,10.5,10.5,10.5,10.5,10.5,10.5,10.5,10.5,10.5,10.5,10.5,10.5,10.5,10.5,10.5,10.5,10.5,10.5,10.5,10.5,10.5,10.5,10.5,10.5167,11.1333,11.1333,11.1333,11.2417,11.2417,11.5,11.5,11.5,11.5,12.0,12.275,12.2875,12.35,12.35,12.35,12.475,12.475,12.475,12.475,12.525,12.65,12.875,13.0,13.0,13.0,13.0,13.0,13.0,13.0,13.0,13.0,13.0,13.0,13.0,13.0,13.0,13.0,13.0,13.0,13.0,13.0,13.0,13.0,13.0,13.0,13.0,13.0,13.0,13.0,13.0,13.0,13.0,13.0,13.0,13.0,13.0,13.0,13.0,13.0,13.0,13.0,13.0,13.0,13.0,13.4167,13.5,13.5,13.5,13.5,13.7917,13.8583,13.8625,14.0,14.1083,14.4,14.4,14.4542,14.4542,14.4542,14.4542,14.4542,14.4542,14.4542,14.4583,14.4583,14.4583,14.5,14.5,14.5,14.5,14.5,14.5,14.5,15.0,15.0458,15.05,15.1,15.2458,15.2458,15.2458,15.2458,15.2458,15.5,15.5,15.5,15.5,15.5,15.5,15.5,15.5,15.55,15.7417,15.7417,15.75,15.85,15.85,15.85,15.85,15.9,15.9,16.0,16.1,16.1,16.1,16.1,16.1,16.1,16.1,16.1,16.1,16.7,16.7,17.4,17.8,17.8,18.0,18.0,18.0,18.75,18.75,18.75,18.7875,18.7875,19.2583,19.2583,19.2583,19.2583,19.5,19.5,19.9667,19.9667,20.2125,20.2125,20.25,20.25,20.525,20.525,20.525,20.575,20.575,21.0,21.0,21.0,21.0,21.0,21.0,21.075,21.075,21.075,21.075,21.6792,22.025,22.3583,22.3583,22.525,23.0,23.0,23.0,23.0,23.25,23.25,23.45,23.45,24.0,24.0,24.15,24.15,24.15,24.15,24.15,24.15,24.15,24.15,25.4667,25.4667,25.4667,25.4667,25.5875,25.925,25.9292,25.9292,26.0,26.0,26.0,26.0,26.0,26.0,26.0,26.0,26.0,26.0,26.0,26.0,26.0,26.0,26.0,26.0,26.0,26.0,26.0,26.0,26.0,26.0,26.0,26.0,26.0,26.0,26.0,26.0,26.0,26.0,26.0,26.25,26.25,26.25,26.25,26.25,26.25,26.2833,26.2875,26.2875,26.2875,26.3875,26.55,26.55,26.55,26.55,26.55,26.55,26.55,26.55,26.55,26.55,26.55,26.55,26.55,26.55,26.55,27.0,27.0,27.7208,27.7208,27.7208,27.7208,27.7208,27.75,27.75,27.75,27.75,27.9,27.9,27.9,27.9,27.9,27.9,28.5,28.7125,29.0,29.0,29.125,29.125,29.125,29.125,29.125,29.7,29.7,29.7,30.0,30.0,30.0,30.0,30.0,30.0,30.0708,30.0708,30.5,30.5,30.5,30.5,30.5,30.6958,30.6958,31.0,31.0,31.0,31.275,31.275,31.275,31.275,31.275,31.275,31.275,31.3875,31.3875,31.3875,31.3875,32.3208,32.5,33.0,33.0,33.0,33.5,34.0208,34.375,34.375,34.375,34.375,34.6542,35.0,35.5,35.5,35.5,35.5,36.75,36.75,37.0042,37.0042,38.5,39.0,39.0,39.0,39.0,39.4,39.6,39.6,39.6875,39.6875,39.6875,39.6875,39.6875,39.6875,40.125,41.5792,41.5792,41.5792,42.4,46.9,46.9,46.9,46.9,46.9,46.9,47.1,49.5,49.5042,49.5042,50.0,50.4958,51.4792,51.8625,51.8625,52.0,52.0,52.0,52.0,52.0,52.0,52.0,52.5542,52.5542,52.5542,53.1,53.1,53.1,53.1,53.1,55.0,55.0,55.4417,55.9,55.9,56.4958,56.4958,56.4958,56.4958,56.4958,56.4958,56.4958,56.9292,56.9292,57.0,57.0,57.9792,57.9792,59.4,61.175,61.3792,61.9792,63.3583,65.0,65.0,66.6,66.6,69.3,69.3,69.55,69.55,69.55,69.55,69.55,69.55,69.55,71.0,71.0,71.2833,73.5,73.5,73.5,73.5,73.5,75.25,76.2917,76.7292,76.7292,76.7292,77.2875,77.2875,77.9583,77.9583,77.9583,78.2667,78.2667,78.85,78.85,79.2,79.2,79.2,79.2,79.65,79.65,79.65,80.0,80.0,81.8583,82.1708,82.1708,83.1583,83.1583,83.1583,83.475,83.475,86.5,86.5,86.5,89.1042,89.1042,90.0,90.0,90.0,90.0,91.0792,91.0792,93.5,93.5,106.425,106.425,108.9,108.9,110.8833,110.8833,110.8833,110.8833,113.275,113.275,113.275,120.0,120.0,120.0,120.0,133.65,133.65,134.5,134.5,135.6333,135.6333,135.6333,146.5208,146.5208,151.55,151.55,151.55,151.55,153.4625,153.4625,153.4625,164.8667,164.8667,211.3375,211.3375,211.3375,211.5,221.7792,227.525,227.525,227.525,227.525,247.5208,247.5208,262.375,262.375,263.0,263.0,263.0,263.0,512.3292,512.3292,512.3292],\"y\":[271.0,434.0,390.0,450.75,416.0,415.5,452.42857142857144,428.75,432.8888888888889,462.8,437.0,467.75,468.7692307692308,494.0,515.4,506.8125,528.2941176470588,517.0555555555555,534.2105263157895,548.4,539.952380952381,524.5909090909091,530.2173913043479,514.0833333333334,509.96,522.0769230769231,507.51851851851853,518.1071428571429,516.6896551724138,519.8333333333334,531.5806451612904,519.0625,517.4242424242424,508.38235294117646,504.22857142857146,512.0,517.6486486486486,520.6315789473684,513.5128205128206,515.425,513.4146341463414,519.3095238095239,510.1860465116279,506.6363636363636,507.6666666666667,509.6304347826087,509.8936170212766,517.5,520.4285714285714,514.9,518.3921568627451,508.78846153846155,503.0188679245283,508.01851851851853,499.25454545454545,504.5892857142857,509.42105263157896,509.67241379310343,510.03389830508473,510.4,503.0163934426229,507.19354838709677,508.1587301587302,501.109375,498.81538461538463,496.8181818181818,489.94029850746267,494.97058823529414,500.2463768115942,497.3285714285714,495.61971830985914,495.2638888888889,488.47945205479454,483.14864864864865,481.5733333333333,483.0263157894737,480.90909090909093,477.94871794871796,474.7721518987342,471.4875,475.358024691358,475.5487804878049,474.93975903614455,471.1190476190476,471.6235294117647,475.27906976744185,477.4367816091954,477.4431818181818,481.5730337078652,483.4222222222222,485.24175824175825,482.5217391304348,482.73118279569894,485.20212765957444,480.88421052631577,483.15625,479.2680412371134,479.1530612244898,478.2323232323232,480.42,481.8910891089109,481.29411764705884,478.13592233009706,481.0192307692308,483.3619047619048,485.4339622641509,482.89719626168227,482.3888888888889,485.0,482.4818181818182,485.1261261261261,482.5625,480.0265486725664,482.7456140350877,485.74782608695654,488.01724137931035,490.47008547008545,488.635593220339,486.74789915966386,486.51666666666665,485.8512396694215,484.88524590163934,485.0162601626016,485.21774193548384,485.536,483.74603174603175,484.34645669291336,485.1953125,486.1860465116279,484.75384615384615,483.25954198473283,481.719696969697,480.17293233082705,480.86567164179104,478.34814814814814,481.375,478.0948905109489,474.9710144927536,472.3884892086331,469.9142857142857,467.7304964539007,466.0633802816901,465.65734265734267,468.3333333333333,467.71724137931034,467.541095890411,468.95238095238096,467.44594594594594,466.1006711409396,468.08666666666664,465.6953642384106,467.92763157894734,470.1437908496732,470.68831168831167,471.9548387096774,473.53846153846155,471.04458598726114,472.8481012658228,474.2012578616352,474.35625,473.8633540372671,473.35185185185185,471.34355828220856,468.780487804878,469.2848484848485,470.39156626506025,468.11976047904193,466.4761904761905,466.0591715976331,466.9823529411765,469.12280701754383,468.2267441860465,467.1445086705202,464.5402298850575,462.8857142857143,464.2556818181818,465.24858757062145,466.96629213483146,467.536312849162,467.28333333333336,466.6795580110497,464.2692307692308,461.9726775956284,461.4130434782609,463.2972972972973,465.48387096774195,466.2352941176471,464.9414893617021,463.0529100529101,463.77894736842103,463.0314136125655,462.1145833333333,461.7098445595855,462.7113402061856,460.55384615384617,460.2959183673469,461.25888324873097,462.19191919191917,461.97989949748745,463.64,463.0,464.9009900990099,466.9310344827586,465.13235294117646,464.390243902439,462.626213592233,463.42512077294685,462.6105769230769,462.57416267942585,460.87142857142857,462.8483412322275,461.02358490566036,461.30516431924883,462.6682242990654,464.6139534883721,465.8796296296296,464.33179723502303,464.58256880733944,463.324200913242,463.7909090909091,464.2307692307692,462.27027027027026,463.5112107623318,463.22767857142856,463.99555555555554,462.4513274336283,462.0969162995595,460.36842105263156,461.6069868995633,461.4,462.5584415584416,461.49568965517244,461.78111587982835,460.2521367521368,459.02978723404254,459.5381355932203,461.042194092827,462.6344537815126,460.7071129707113,460.42083333333335,461.2655601659751,459.4504132231405,458.81069958847735,458.7909836065574,456.934693877551,455.2276422764228,454.53036437246965,455.01209677419354,456.45381526104416,456.672,457.62549800796813,455.85714285714283,456.69565217391306,456.5866141732283,457.00392156862745,455.56640625,454.14396887159535,455.6279069767442,455.3050193050193,455.7230769230769,455.51340996168585,456.35496183206106,455.1977186311787,453.8030303030303,452.68301886792455,452.54135338345867,451.01498127340824,452.160447761194,452.19330855018586,451.77037037037036,450.45387453874537,451.05514705882354,449.84615384615387,449.985401459854,450.5418181818182,449.70652173913044,448.884476534296,447.6726618705036,447.7956989247312,448.2964285714286,447.4270462633452,447.5921985815603,446.2826855123675,446.78521126760563,446.8456140350877,446.8356643356643,447.64808362369337,446.3263888888889,447.66782006920414,448.7758620689655,447.9106529209622,448.6095890410959,447.09556313993176,448.3061224489796,447.135593220339,446.98986486486484,445.7171717171717,444.7684563758389,445.066889632107,446.37,446.04651162790697,446.1291390728477,447.36633663366337,448.2796052631579,448.4491803278689,447.91503267973854,446.9706840390879,448.2597402597403,449.3883495145631,449.8225806451613,449.31832797427654,448.13461538461536,449.49201277955274,448.5,449.24126984126985,448.92721518987344,450.20820189274446,449.5,448.2163009404389,449.04375,448.5233644859813,448.2329192546584,448.2105263157895,447.7098765432099,448.70153846153846,449.9877300613497,448.8593272171254,448.1006097560976,449.0243161094225,449.1878787878788,449.29003021148037,448.27710843373495,448.1381381381381,448.21556886227546,448.89850746268655,450.16964285714283,450.87240356083083,450.2810650887574,449.5575221238938,448.9235294117647,448.2697947214076,449.41812865497076,449.268221574344,448.65406976744185,449.0057971014493,447.9104046242775,447.2507204610951,448.2988505747126,449.22636103151865,450.4657142857143,450.94586894586894,449.75852272727275,449.23512747875355,448.1525423728813,448.1267605633803,448.3174157303371,448.53501400560225,449.2849162011173,449.3091922005571,448.21666666666664,447.20775623268696,447.82872928176795,447.26170798898073,448.45604395604397,449.6082191780822,448.8497267759563,447.64850136239784,446.5380434782609,445.6666666666667,444.85135135135135,445.97304582210245,446.80913978494624,447.02949061662196,446.87433155080214,446.32,446.406914893617,446.8832891246684,446.5529100529101,446.17414248021106,447.1657894736842,447.96325459317586,448.82460732984293,447.85900783289816,447.0833333333333,446.95844155844156,446.55699481865287,446.48320413436693,446.4072164948454,446.89203084832906,447.7974358974359,447.83631713554985,448.7219387755102,449.0458015267176,449.0304568527919,448.7620253164557,448.50252525252523,447.9471032745592,448.63819095477385,449.6791979949875,449.4175,449.1546134663342,450.047263681592,450.5831265508685,450.1806930693069,449.91358024691357,450.935960591133,451.48157248157247,450.4166666666667,449.3667481662592,449.0682926829268,449.7323600973236,450.373786407767,449.818401937046,450.5024154589372,450.34939759036143,449.5889423076923,448.86810551558756,449.9138755980861,450.41050119331743,451.1166666666667,450.89311163895485,450.2464454976303,449.6335697399527,449.04245283018867,448.27529411764704,448.94600938967136,448.39344262295083,447.7897196261682,448.35664335664336,447.853488372093,448.1183294663573,448.68981481481484,449.284064665127,449.33870967741933,450.29655172413794,450.5183486238532,450.2128146453089,451.148401826484,451.5239179954442,451.4590909090909,450.687074829932,449.8325791855204,450.4018058690745,450.7837837837838,450.31011235955054,451.1614349775785,450.9619686800895,450.20982142857144,450.3095768374165,450.5933333333333,450.1419068736142,450.41814159292034,451.0905077262693,450.43392070484583,450.6263736263736,449.92763157894734,450.6061269146608,450.9017467248908,450.2135076252723,449.6282608695652,449.7310195227766,449.06060606060606,448.23110151187905,447.8146551724138,448.68387096774194,449.2424892703863,449.6873661670235,450.2606837606838,450.0767590618337,449.631914893617,449.07643312101914,448.51906779661016,448.8646934460888,448.01476793248946,448.34526315789475,448.203781512605,448.56813417190773,447.9665271966527,447.32776617954073,446.5729166666667,446.0727650727651,445.98340248962654,446.07246376811594,445.8698347107438,444.98144329896905,445.5781893004115,444.9917864476386,445.6024590163934,445.2085889570552,445.0081632653061,445.3727087576375,445.3434959349593,445.73630831643004,446.082995951417,445.97777777777776,445.09879032258067,445.32796780684106,444.53212851405624,444.34869739478955,444.126,443.31536926147703,442.4681274900398,442.3976143141153,443.1686507936508,443.15643564356435,442.6897233201581,443.258382642998,443.3090551181102,443.31827111984285,444.1313725490196,444.5225048923679,444.185546875,444.18908382066274,444.2023346303502,444.29126213592235,443.92248062015506,443.88394584139263,443.5656370656371,444.14836223506745,444.3480769230769,444.12476007677543,443.59003831417624,444.24856596558317,443.57824427480915,443.5047619047619,443.5665399239544,444.1024667931689,443.48295454545456,443.04347826086956,442.2849056603774,441.46516007532955,440.68045112781954,440.9174484052533,440.79213483146066,440.05794392523364,439.58022388059703,439.0,439.1747211895911,439.30241187384047,439.9222222222222,440.49537892791125,440.88376383763836,440.2523020257827,439.99632352941177,439.794495412844,440.61538461538464,441.24131627056676,442.0310218978102,441.78688524590166,442.06545454545454,442.7132486388385,442.9347826086956,443.5226039783002,443.47833935018053,443.6108108108108,443.0089928057554,443.66965888689407,443.60752688172045,443.22361359570664,442.74642857142857,442.8217468805704,443.211743772242,442.72291296625224,443.34929078014187,444.0902654867257,444.0583038869258,444.7813051146384,444.88908450704224,444.5219683655536,443.77719298245614,444.27495621716287,444.4475524475524,443.76439790575915,444.02613240418117,443.68695652173915,443.40972222222223,443.0901213171577,443.5432525951557,443.006908462867,442.7810344827586,443.0206540447504,442.59106529209623,443.34133790737565,443.1232876712329,442.6188034188034,442.7952218430034,442.92333901192507,442.33843537414964,442.4872665534805,442.46949152542373,442.29610829103217,442.27027027027026,442.4435075885329,442.62626262626264,442.54957983193276,443.13422818791946,443.73366834170855,444.056856187291,443.7111853088481,443.705,443.8569051580699,443.64119601328906,443.13101160862357,443.567880794702,443.9933884297521,444.1056105610561,444.3163097199341,444.4983552631579,444.4745484400657,444.62459016393444,444.20294599018,444.2075163398693,444.3099510603589,444.328990228013,444.7349593495935,445.1672077922078,445.83468395461915,446.0906148867314,446.124394184168,445.4225806451613,445.1111111111111,445.13504823151123,444.76886035313004,445.01762820512823,444.616,443.95367412140575,443.8213716108453,443.5843949044586,442.9809220985692,442.3698412698413,442.4167987321712,442.42879746835445,442.44391785150077,443.0378548895899,442.90708661417324,443.2201257861635,443.51962323390893,442.923197492163,442.49139280125195,442.3171875,441.90327613104523,441.33644859813086,441.15241057542767,440.7329192546584,441.26976744186044,441.95665634674924,441.7032457496136,441.0462962962963,441.1171032357473,440.85846153846154,441.4700460829493,441.92791411042947,442.1393568147014,442.42660550458714,442.94503816793895,443.6219512195122,444.2998477929985,443.8100303951368,443.1502276176024,443.15909090909093,443.4069591527988,443.6918429003021,443.47209653092006,443.5451807228916,443.13984962406016,443.66516516516515,444.2623688155922,443.9101796407186,443.6502242152466,443.7955223880597,444.043219076006,444.5922619047619,444.7369985141159,444.25370919881306,443.6148148148148,444.21597633136093,443.9453471196455,443.63421828908554,443.0176730486009,442.63382352941176,442.90161527165935,442.86217008797655,443.08638360175695,443.49122807017545,444.0817518248175,443.6822157434402,443.7860262008734,443.3546511627907,443.343976777939,443.768115942029,443.25036179450075,442.7485549132948,442.6161616161616,442.9106628242075,442.3525179856115,441.75,441.6025824964132,441.1776504297994,441.3319027181688,441.8828571428571,442.41797432239656,442.44586894586894,442.69559032716927,443.01846590909093,443.36028368794325,442.9915014164306,443.57142857142856,443.73022598870057,444.1847672778561,444.4577464788732,444.7974683544304,444.4030898876405,443.8499298737728,444.38235294117646,444.13286713286715,444.3268156424581,443.7670850767085,444.10306406685237,444.33101529902643,444.55,444.88072122052705,444.3628808864266,444.28215767634856,444.3314917127072,444.65379310344827,444.12258953168043,443.62585969738655,443.75686813186815,443.8244170096022,444.1890410958904,443.83447332421343,444.41256830601094,444.58526603001366,444.6021798365123,444.00544217687076,444.3138586956522,444.35549525101766,443.8008130081301,443.7185385656292,444.0810810810811,444.38461538461536,443.9339622641509,443.67025572005383,444.244623655914,444.4818791946309,444.06970509383376,444.4765729585007,444.9639037433155,444.3738317757009,444.74666666666667,444.37549933422105,444.2579787234043,444.1593625498008,444.14588859416443,444.32185430463574,444.6494708994709,444.15984147952446,444.66358839050133,445.1818181818182,445.2657894736842,445.52562417871223,445.16272965879267,444.9842726081258,445.18586387434556,445.50588235294117,445.94386422976504,446.0443285528031,445.8919270833333,445.97919375812745,445.5194805194805,445.1426718547341,444.6360103626943,444.1862871927555,444.5865633074935,444.80645161290323,444.6662371134021,444.2882882882883,444.1915167095116,444.4441591784339,444.8897435897436,445.42509603072983,445.05882352941177,445.57088122605364,445.23214285714283,445.07770700636945,444.7671755725191,445.14866581956795,445.2690355329949,444.7059569074778,444.29493670886075,444.21997471554994,444.49873737373736,444.02900378310216,444.2947103274559,444.1962264150943,443.91206030150755,444.20953575909664,443.71804511278197,443.96996245306633,443.57,443.143570536829,443.5448877805486,443.7733499377335,443.5634328358209,443.7465838509317,443.81141439205953,443.6208178438662,443.98886138613864,444.1656365883807,444.5913580246914,444.3588162762022,443.98275862068965,444.15621156211563,444.2960687960688,444.07239263803683,444.54411764705884,444.0746634026928,444.0757946210269,443.991452991453,443.49146341463415,444.0219244823386,444.49756690997566,444.33414337788577,444.0740291262136,443.6109090909091,443.3849878934625,443.4582829504232,443.83937198067633,444.32810615199037,444.33855421686746,444.0734055354994,444.1237980769231,444.08523409363744,443.8465227817746,443.66347305389223,443.7117224880383,444.16129032258067,444.25178997613364,444.3623361144219,444.4809523809524,444.31747919143874,444.3895486935867,444.55160142348757,444.6765402843602,444.97633136094674,444.81205673758865,444.54073199527744,444.47995283018867,444.73262661955243,445.1070588235294,445.5264394829612,445.51408450704224,445.4490035169988,445.3185011709602,445.56959064327486,445.44275700934577,445.29521586931156,445.0897435897436,444.9499417927823,444.8662790697674,444.5760743321719,444.09628770301623,444.4020857473928,444.4641203703704,444.3028901734104,444.1327944572748,444.32295271049594,444.19354838709677,443.9907940161105,444.46436781609196,444.31917336394946,444.70298165137615,445.02978235967925,445.3089244851259,445.23085714285713,445.324200913242,445.6145952109464,445.5398633257403,445.6666666666667,445.97386363636366,445.6015891032917,445.4353741496599,445.7712344280861,445.618778280543,445.1457627118644,444.7426636568849,444.7350620067644,444.6182432432432,444.94713160854894,444.7370786516854,445.0],\"type\":\"scatter\",\"xaxis\":\"x\",\"yaxis\":\"y\"}],                        {\"template\":{\"data\":{\"histogram2dcontour\":[{\"type\":\"histogram2dcontour\",\"colorbar\":{\"outlinewidth\":0,\"ticks\":\"\"},\"colorscale\":[[0.0,\"#0d0887\"],[0.1111111111111111,\"#46039f\"],[0.2222222222222222,\"#7201a8\"],[0.3333333333333333,\"#9c179e\"],[0.4444444444444444,\"#bd3786\"],[0.5555555555555556,\"#d8576b\"],[0.6666666666666666,\"#ed7953\"],[0.7777777777777778,\"#fb9f3a\"],[0.8888888888888888,\"#fdca26\"],[1.0,\"#f0f921\"]]}],\"choropleth\":[{\"type\":\"choropleth\",\"colorbar\":{\"outlinewidth\":0,\"ticks\":\"\"}}],\"histogram2d\":[{\"type\":\"histogram2d\",\"colorbar\":{\"outlinewidth\":0,\"ticks\":\"\"},\"colorscale\":[[0.0,\"#0d0887\"],[0.1111111111111111,\"#46039f\"],[0.2222222222222222,\"#7201a8\"],[0.3333333333333333,\"#9c179e\"],[0.4444444444444444,\"#bd3786\"],[0.5555555555555556,\"#d8576b\"],[0.6666666666666666,\"#ed7953\"],[0.7777777777777778,\"#fb9f3a\"],[0.8888888888888888,\"#fdca26\"],[1.0,\"#f0f921\"]]}],\"heatmap\":[{\"type\":\"heatmap\",\"colorbar\":{\"outlinewidth\":0,\"ticks\":\"\"},\"colorscale\":[[0.0,\"#0d0887\"],[0.1111111111111111,\"#46039f\"],[0.2222222222222222,\"#7201a8\"],[0.3333333333333333,\"#9c179e\"],[0.4444444444444444,\"#bd3786\"],[0.5555555555555556,\"#d8576b\"],[0.6666666666666666,\"#ed7953\"],[0.7777777777777778,\"#fb9f3a\"],[0.8888888888888888,\"#fdca26\"],[1.0,\"#f0f921\"]]}],\"heatmapgl\":[{\"type\":\"heatmapgl\",\"colorbar\":{\"outlinewidth\":0,\"ticks\":\"\"},\"colorscale\":[[0.0,\"#0d0887\"],[0.1111111111111111,\"#46039f\"],[0.2222222222222222,\"#7201a8\"],[0.3333333333333333,\"#9c179e\"],[0.4444444444444444,\"#bd3786\"],[0.5555555555555556,\"#d8576b\"],[0.6666666666666666,\"#ed7953\"],[0.7777777777777778,\"#fb9f3a\"],[0.8888888888888888,\"#fdca26\"],[1.0,\"#f0f921\"]]}],\"contourcarpet\":[{\"type\":\"contourcarpet\",\"colorbar\":{\"outlinewidth\":0,\"ticks\":\"\"}}],\"contour\":[{\"type\":\"contour\",\"colorbar\":{\"outlinewidth\":0,\"ticks\":\"\"},\"colorscale\":[[0.0,\"#0d0887\"],[0.1111111111111111,\"#46039f\"],[0.2222222222222222,\"#7201a8\"],[0.3333333333333333,\"#9c179e\"],[0.4444444444444444,\"#bd3786\"],[0.5555555555555556,\"#d8576b\"],[0.6666666666666666,\"#ed7953\"],[0.7777777777777778,\"#fb9f3a\"],[0.8888888888888888,\"#fdca26\"],[1.0,\"#f0f921\"]]}],\"surface\":[{\"type\":\"surface\",\"colorbar\":{\"outlinewidth\":0,\"ticks\":\"\"},\"colorscale\":[[0.0,\"#0d0887\"],[0.1111111111111111,\"#46039f\"],[0.2222222222222222,\"#7201a8\"],[0.3333333333333333,\"#9c179e\"],[0.4444444444444444,\"#bd3786\"],[0.5555555555555556,\"#d8576b\"],[0.6666666666666666,\"#ed7953\"],[0.7777777777777778,\"#fb9f3a\"],[0.8888888888888888,\"#fdca26\"],[1.0,\"#f0f921\"]]}],\"mesh3d\":[{\"type\":\"mesh3d\",\"colorbar\":{\"outlinewidth\":0,\"ticks\":\"\"}}],\"scatter\":[{\"fillpattern\":{\"fillmode\":\"overlay\",\"size\":10,\"solidity\":0.2},\"type\":\"scatter\"}],\"parcoords\":[{\"type\":\"parcoords\",\"line\":{\"colorbar\":{\"outlinewidth\":0,\"ticks\":\"\"}}}],\"scatterpolargl\":[{\"type\":\"scatterpolargl\",\"marker\":{\"colorbar\":{\"outlinewidth\":0,\"ticks\":\"\"}}}],\"bar\":[{\"error_x\":{\"color\":\"#2a3f5f\"},\"error_y\":{\"color\":\"#2a3f5f\"},\"marker\":{\"line\":{\"color\":\"#E5ECF6\",\"width\":0.5},\"pattern\":{\"fillmode\":\"overlay\",\"size\":10,\"solidity\":0.2}},\"type\":\"bar\"}],\"scattergeo\":[{\"type\":\"scattergeo\",\"marker\":{\"colorbar\":{\"outlinewidth\":0,\"ticks\":\"\"}}}],\"scatterpolar\":[{\"type\":\"scatterpolar\",\"marker\":{\"colorbar\":{\"outlinewidth\":0,\"ticks\":\"\"}}}],\"histogram\":[{\"marker\":{\"pattern\":{\"fillmode\":\"overlay\",\"size\":10,\"solidity\":0.2}},\"type\":\"histogram\"}],\"scattergl\":[{\"type\":\"scattergl\",\"marker\":{\"colorbar\":{\"outlinewidth\":0,\"ticks\":\"\"}}}],\"scatter3d\":[{\"type\":\"scatter3d\",\"line\":{\"colorbar\":{\"outlinewidth\":0,\"ticks\":\"\"}},\"marker\":{\"colorbar\":{\"outlinewidth\":0,\"ticks\":\"\"}}}],\"scattermapbox\":[{\"type\":\"scattermapbox\",\"marker\":{\"colorbar\":{\"outlinewidth\":0,\"ticks\":\"\"}}}],\"scatterternary\":[{\"type\":\"scatterternary\",\"marker\":{\"colorbar\":{\"outlinewidth\":0,\"ticks\":\"\"}}}],\"scattercarpet\":[{\"type\":\"scattercarpet\",\"marker\":{\"colorbar\":{\"outlinewidth\":0,\"ticks\":\"\"}}}],\"carpet\":[{\"aaxis\":{\"endlinecolor\":\"#2a3f5f\",\"gridcolor\":\"white\",\"linecolor\":\"white\",\"minorgridcolor\":\"white\",\"startlinecolor\":\"#2a3f5f\"},\"baxis\":{\"endlinecolor\":\"#2a3f5f\",\"gridcolor\":\"white\",\"linecolor\":\"white\",\"minorgridcolor\":\"white\",\"startlinecolor\":\"#2a3f5f\"},\"type\":\"carpet\"}],\"table\":[{\"cells\":{\"fill\":{\"color\":\"#EBF0F8\"},\"line\":{\"color\":\"white\"}},\"header\":{\"fill\":{\"color\":\"#C8D4E3\"},\"line\":{\"color\":\"white\"}},\"type\":\"table\"}],\"barpolar\":[{\"marker\":{\"line\":{\"color\":\"#E5ECF6\",\"width\":0.5},\"pattern\":{\"fillmode\":\"overlay\",\"size\":10,\"solidity\":0.2}},\"type\":\"barpolar\"}],\"pie\":[{\"automargin\":true,\"type\":\"pie\"}]},\"layout\":{\"autotypenumbers\":\"strict\",\"colorway\":[\"#636efa\",\"#EF553B\",\"#00cc96\",\"#ab63fa\",\"#FFA15A\",\"#19d3f3\",\"#FF6692\",\"#B6E880\",\"#FF97FF\",\"#FECB52\"],\"font\":{\"color\":\"#2a3f5f\"},\"hovermode\":\"closest\",\"hoverlabel\":{\"align\":\"left\"},\"paper_bgcolor\":\"white\",\"plot_bgcolor\":\"#E5ECF6\",\"polar\":{\"bgcolor\":\"#E5ECF6\",\"angularaxis\":{\"gridcolor\":\"white\",\"linecolor\":\"white\",\"ticks\":\"\"},\"radialaxis\":{\"gridcolor\":\"white\",\"linecolor\":\"white\",\"ticks\":\"\"}},\"ternary\":{\"bgcolor\":\"#E5ECF6\",\"aaxis\":{\"gridcolor\":\"white\",\"linecolor\":\"white\",\"ticks\":\"\"},\"baxis\":{\"gridcolor\":\"white\",\"linecolor\":\"white\",\"ticks\":\"\"},\"caxis\":{\"gridcolor\":\"white\",\"linecolor\":\"white\",\"ticks\":\"\"}},\"coloraxis\":{\"colorbar\":{\"outlinewidth\":0,\"ticks\":\"\"}},\"colorscale\":{\"sequential\":[[0.0,\"#0d0887\"],[0.1111111111111111,\"#46039f\"],[0.2222222222222222,\"#7201a8\"],[0.3333333333333333,\"#9c179e\"],[0.4444444444444444,\"#bd3786\"],[0.5555555555555556,\"#d8576b\"],[0.6666666666666666,\"#ed7953\"],[0.7777777777777778,\"#fb9f3a\"],[0.8888888888888888,\"#fdca26\"],[1.0,\"#f0f921\"]],\"sequentialminus\":[[0.0,\"#0d0887\"],[0.1111111111111111,\"#46039f\"],[0.2222222222222222,\"#7201a8\"],[0.3333333333333333,\"#9c179e\"],[0.4444444444444444,\"#bd3786\"],[0.5555555555555556,\"#d8576b\"],[0.6666666666666666,\"#ed7953\"],[0.7777777777777778,\"#fb9f3a\"],[0.8888888888888888,\"#fdca26\"],[1.0,\"#f0f921\"]],\"diverging\":[[0,\"#8e0152\"],[0.1,\"#c51b7d\"],[0.2,\"#de77ae\"],[0.3,\"#f1b6da\"],[0.4,\"#fde0ef\"],[0.5,\"#f7f7f7\"],[0.6,\"#e6f5d0\"],[0.7,\"#b8e186\"],[0.8,\"#7fbc41\"],[0.9,\"#4d9221\"],[1,\"#276419\"]]},\"xaxis\":{\"gridcolor\":\"white\",\"linecolor\":\"white\",\"ticks\":\"\",\"title\":{\"standoff\":15},\"zerolinecolor\":\"white\",\"automargin\":true,\"zerolinewidth\":2},\"yaxis\":{\"gridcolor\":\"white\",\"linecolor\":\"white\",\"ticks\":\"\",\"title\":{\"standoff\":15},\"zerolinecolor\":\"white\",\"automargin\":true,\"zerolinewidth\":2},\"scene\":{\"xaxis\":{\"backgroundcolor\":\"#E5ECF6\",\"gridcolor\":\"white\",\"linecolor\":\"white\",\"showbackground\":true,\"ticks\":\"\",\"zerolinecolor\":\"white\",\"gridwidth\":2},\"yaxis\":{\"backgroundcolor\":\"#E5ECF6\",\"gridcolor\":\"white\",\"linecolor\":\"white\",\"showbackground\":true,\"ticks\":\"\",\"zerolinecolor\":\"white\",\"gridwidth\":2},\"zaxis\":{\"backgroundcolor\":\"#E5ECF6\",\"gridcolor\":\"white\",\"linecolor\":\"white\",\"showbackground\":true,\"ticks\":\"\",\"zerolinecolor\":\"white\",\"gridwidth\":2}},\"shapedefaults\":{\"line\":{\"color\":\"#2a3f5f\"}},\"annotationdefaults\":{\"arrowcolor\":\"#2a3f5f\",\"arrowhead\":0,\"arrowwidth\":1},\"geo\":{\"bgcolor\":\"white\",\"landcolor\":\"#E5ECF6\",\"subunitcolor\":\"white\",\"showland\":true,\"showlakes\":true,\"lakecolor\":\"white\"},\"title\":{\"x\":0.05},\"mapbox\":{\"style\":\"light\"}}},\"xaxis\":{\"anchor\":\"y\",\"domain\":[0.0,1.0],\"title\":{\"text\":\"Fare\"}},\"yaxis\":{\"anchor\":\"x\",\"domain\":[0.0,1.0],\"title\":{\"text\":\"index\"}},\"legend\":{\"tracegroupgap\":0},\"title\":{\"text\":\"Non-Linear trendline for fare\"}},                        {\"responsive\": true}                    ).then(function(){\n",
       "                            \n",
       "var gd = document.getElementById('d31cdc8a-f6f3-4b85-bc8f-b7827be64750');\n",
       "var x = new MutationObserver(function (mutations, observer) {{\n",
       "        var display = window.getComputedStyle(gd).display;\n",
       "        if (!display || display === 'none') {{\n",
       "            console.log([gd, 'removed!']);\n",
       "            Plotly.purge(gd);\n",
       "            observer.disconnect();\n",
       "        }}\n",
       "}});\n",
       "\n",
       "// Listen for the removal of the full notebook cells\n",
       "var notebookContainer = gd.closest('#notebook-container');\n",
       "if (notebookContainer) {{\n",
       "    x.observe(notebookContainer, {childList: true});\n",
       "}}\n",
       "\n",
       "// Listen for the clearing of the current output cell\n",
       "var outputEl = gd.closest('.output');\n",
       "if (outputEl) {{\n",
       "    x.observe(outputEl, {childList: true});\n",
       "}}\n",
       "\n",
       "                        })                };                });            </script>        </div>"
      ]
     },
     "metadata": {},
     "output_type": "display_data"
    }
   ],
   "source": [
    "px.scatter(df,x='Fare', trendline=\"expanding\",trendline_scope=\"overall\",title='Non-Linear trendline for fare')"
   ]
  },
  {
   "cell_type": "markdown",
   "id": "abffcb79",
   "metadata": {
    "papermill": {
     "duration": 0.024994,
     "end_time": "2023-04-04T16:32:12.589683",
     "exception": false,
     "start_time": "2023-04-04T16:32:12.564689",
     "status": "completed"
    },
    "tags": []
   },
   "source": [
    "# **Linear trendline for age**"
   ]
  },
  {
   "cell_type": "code",
   "execution_count": 53,
   "id": "68334aa2",
   "metadata": {
    "execution": {
     "iopub.execute_input": "2023-04-04T16:32:12.641817Z",
     "iopub.status.busy": "2023-04-04T16:32:12.641382Z",
     "iopub.status.idle": "2023-04-04T16:32:14.175714Z",
     "shell.execute_reply": "2023-04-04T16:32:14.174317Z"
    },
    "papermill": {
     "duration": 1.563579,
     "end_time": "2023-04-04T16:32:14.178179",
     "exception": false,
     "start_time": "2023-04-04T16:32:12.614600",
     "status": "completed"
    },
    "tags": []
   },
   "outputs": [
    {
     "data": {
      "text/html": [
       "<div>                            <div id=\"45a73818-cc58-41ec-851e-b90127804c9d\" class=\"plotly-graph-div\" style=\"height:525px; width:100%;\"></div>            <script type=\"text/javascript\">                require([\"plotly\"], function(Plotly) {                    window.PLOTLYENV=window.PLOTLYENV || {};                                    if (document.getElementById(\"45a73818-cc58-41ec-851e-b90127804c9d\")) {                    Plotly.newPlot(                        \"45a73818-cc58-41ec-851e-b90127804c9d\",                        [{\"hovertemplate\":\"Age=%{x}<br>index=%{y}<extra></extra>\",\"legendgroup\":\"\",\"marker\":{\"color\":\"#636efa\",\"symbol\":\"circle\"},\"mode\":\"markers\",\"name\":\"\",\"orientation\":\"h\",\"showlegend\":false,\"x\":[22.0,38.0,26.0,35.0,35.0,35.0,54.0,2.0,27.0,14.0,4.0,58.0,20.0,39.0,14.0,55.0,2.0,2.0,31.0,31.0,35.0,34.0,15.0,28.0,8.0,38.0,38.0,19.0,19.0,19.0,40.0,40.0,40.0,66.0,28.0,42.0,42.0,21.0,18.0,14.0,40.0,27.0,27.0,3.0,19.0,19.0,19.0,19.0,19.0,18.0,7.0,21.0,49.0,29.0,65.0,65.0,21.0,28.5,5.0,11.0,22.0,38.0,45.0,4.0,4.0,4.0,29.0,19.0,17.0,26.0,32.0,16.0,21.0,26.0,32.0,25.0,25.0,25.0,0.83,30.0,22.0,29.0,29.0,28.0,17.0,33.0,16.0,16.0,23.0,24.0,29.0,20.0,46.0,26.0,59.0,59.0,71.0,23.0,34.0,34.0,28.0,28.0,21.0,33.0,37.0,28.0,21.0,21.0,38.0,38.0,47.0,14.5,22.0,20.0,17.0,21.0,70.5,29.0,24.0,2.0,21.0,21.0,32.5,32.5,54.0,12.0,12.0,24.0,24.0,45.0,33.0,20.0,47.0,29.0,25.0,23.0,19.0,37.0,16.0,24.0,24.0,22.0,24.0,19.0,18.0,19.0,27.0,9.0,36.5,42.0,51.0,22.0,55.5,40.5,40.5,51.0,16.0,30.0,30.0,30.0,44.0,40.0,26.0,17.0,1.0,9.0,9.0,45.0,45.0,28.0,61.0,4.0,1.0,21.0,56.0,18.0,18.0,50.0,30.0,36.0,36.0,36.0,9.0,1.0,4.0,4.0,4.0,45.0,40.0,36.0,32.0,19.0,19.0,3.0,44.0,58.0,58.0,42.0,42.0,24.0,28.0,28.0,34.0,45.5,18.0,2.0,32.0,26.0,16.0,40.0,24.0,35.0,22.0,30.0,30.0,31.0,27.0,42.0,32.0,30.0,16.0,27.0,51.0,51.0,38.0,22.0,19.0,20.5,18.0,18.0,35.0,29.0,59.0,5.0,24.0,24.0,44.0,8.0,19.0,33.0,33.0,33.0,29.0,22.0,30.0,44.0,25.0,24.0,37.0,54.0,54.0,29.0,62.0,30.0,41.0,29.0,29.0,30.0,35.0,50.0,50.0,3.0,52.0,40.0,40.0,36.0,16.0,25.0,58.0,35.0,35.0,25.0,41.0,37.0,37.0,63.0,45.0,45.0,7.0,35.0,65.0,28.0,16.0,19.0,19.0,33.0,30.0,22.0,42.0,22.0,26.0,19.0,36.0,24.0,24.0,24.0,23.5,2.0,2.0,50.0,50.0,50.0,19.0,19.0,19.0,0.92,0.92,17.0,30.0,30.0,24.0,18.0,26.0,28.0,43.0,26.0,24.0,54.0,31.0,40.0,22.0,27.0,30.0,22.0,22.0,36.0,61.0,36.0,31.0,16.0,16.0,45.5,38.0,16.0,16.0,16.0,29.0,41.0,45.0,45.0,2.0,24.0,28.0,25.0,36.0,24.0,40.0,40.0,3.0,42.0,23.0,23.0,15.0,25.0,25.0,28.0,22.0,38.0,38.0,38.0,40.0,29.0,45.0,35.0,35.0,30.0,60.0,60.0,60.0,24.0,25.0,18.0,19.0,22.0,3.0,3.0,22.0,27.0,20.0,19.0,42.0,1.0,32.0,35.0,35.0,18.0,1.0,36.0,36.0,17.0,36.0,21.0,28.0,23.0,24.0,22.0,31.0,46.0,23.0,28.0,39.0,26.0,21.0,28.0,20.0,34.0,51.0,3.0,21.0,21.0,21.0,21.0,33.0,33.0,44.0,44.0,34.0,18.0,30.0,10.0,10.0,21.0,29.0,28.0,18.0,18.0,28.0,19.0,19.0,32.0,28.0,28.0,42.0,17.0,50.0,14.0,21.0,24.0,64.0,31.0,45.0,20.0,25.0,28.0,28.0,4.0,13.0,34.0,5.0,52.0,36.0,36.0,30.0,49.0,49.0,29.0,65.0,65.0,50.0,50.0,48.0,34.0,47.0,48.0,48.0,38.0,38.0,56.0,56.0,0.75,0.75,38.0,33.0,23.0,22.0,22.0,34.0,29.0,22.0,2.0,9.0,9.0,50.0,63.0,25.0,25.0,35.0,58.0,30.0,9.0,9.0,21.0,55.0,71.0,21.0,21.0,54.0,54.0,25.0,24.0,17.0,21.0,21.0,37.0,16.0,18.0,33.0,33.0,28.0,26.0,29.0,29.0,36.0,54.0,24.0,47.0,34.0,34.0,36.0,32.0,30.0,22.0,22.0,44.0,44.0,40.5,50.0,50.0,39.0,23.0,2.0,2.0,17.0,17.0,30.0,7.0,45.0,30.0,30.0,22.0,36.0,9.0,11.0,32.0,50.0,64.0,19.0,19.0,33.0,8.0,17.0,27.0,27.0,22.0,22.0,62.0,48.0,48.0,39.0,36.0,36.0,40.0,28.0,28.0,28.0,24.0,19.0,29.0,29.0,32.0,62.0,53.0,36.0,36.0,16.0,19.0,34.0,39.0,39.0,32.0,25.0,39.0,54.0,36.0,36.0,18.0,47.0,60.0,22.0,22.0,35.0,52.0,47.0,47.0,37.0,36.0,36.0,49.0,49.0,49.0,24.0,24.0,24.0,44.0,35.0,36.0,30.0,27.0,22.0,40.0,39.0,39.0,39.0,39.0,35.0,24.0,34.0,26.0,4.0,26.0,27.0,42.0,20.0,21.0,21.0,61.0,57.0,21.0,26.0,26.0,80.0,51.0,32.0,32.0,9.0,28.0,32.0,31.0,41.0,41.0,20.0,24.0,2.0,2.0,0.75,48.0,19.0,56.0,56.0,23.0,23.0,18.0,21.0,21.0,18.0,24.0,24.0,32.0,23.0,58.0,50.0,40.0,47.0,36.0,20.0,32.0,25.0,25.0,43.0,43.0,40.0,31.0,70.0,31.0,31.0,18.0,24.5,18.0,43.0,36.0,36.0,27.0,20.0,14.0,60.0,25.0,14.0,19.0,18.0,15.0,31.0,4.0,4.0,25.0,60.0,52.0,44.0,44.0,49.0,42.0,18.0,35.0,18.0,25.0,26.0,39.0,45.0,42.0,22.0,22.0,24.0,24.0,48.0,29.0,52.0,19.0,38.0,27.0,27.0,33.0,6.0,17.0,34.0,50.0,27.0,20.0,30.0,30.0,25.0,25.0,29.0,11.0,11.0,23.0,23.0,28.5,48.0,35.0,35.0,35.0,35.0,36.0,21.0,24.0,31.0,70.0,16.0,30.0,19.0,31.0,4.0,6.0,33.0,23.0,48.0,0.67,28.0,18.0,34.0,33.0,33.0,41.0,20.0,36.0,16.0,51.0,51.0,30.5,30.5,32.0,24.0,48.0,57.0,57.0,54.0,18.0,18.0,5.0,5.0,43.0,13.0,17.0,29.0,29.0,25.0,25.0,18.0,8.0,1.0,46.0,46.0,16.0,16.0,16.0,25.0,39.0,49.0,31.0,30.0,30.0,34.0,31.0,11.0,0.42,27.0,31.0,39.0,18.0,39.0,33.0,26.0,39.0,35.0,6.0,30.5,30.5,23.0,31.0,43.0,10.0,52.0,27.0,38.0,27.0,2.0,2.0,2.0,1.0,1.0,62.0,15.0,0.83,0.83,23.0,18.0,39.0,21.0,21.0,32.0,32.0,20.0,16.0,30.0,34.5,17.0,42.0,42.0,35.0,28.0,28.0,4.0,74.0,9.0,16.0,44.0,18.0,45.0,51.0,24.0,24.0,41.0,21.0,48.0,48.0,24.0,42.0,27.0,31.0,31.0,4.0,26.0,47.0,33.0,47.0,28.0,15.0,20.0,19.0,19.0,56.0,25.0,33.0,22.0,28.0,25.0,39.0,27.0,19.0,19.0,26.0,32.0],\"xaxis\":\"x\",\"y\":[0,1,2,3,4,5,6,7,8,9,10,11,12,13,14,15,16,17,18,19,20,21,22,23,24,25,26,27,28,29,30,31,32,33,34,35,36,37,38,39,40,41,42,43,44,45,46,47,48,49,50,51,52,53,54,55,56,57,58,59,60,61,62,63,64,65,66,67,68,69,70,71,72,73,74,75,76,77,78,79,80,81,82,83,84,85,86,87,88,89,90,91,92,93,94,95,96,97,98,99,100,101,102,103,104,105,106,107,108,109,110,111,112,113,114,115,116,117,118,119,120,121,122,123,124,125,126,127,128,129,130,131,132,133,134,135,136,137,138,139,140,141,142,143,144,145,146,147,148,149,150,151,152,153,154,155,156,157,158,159,160,161,162,163,164,165,166,167,168,169,170,171,172,173,174,175,176,177,178,179,180,181,182,183,184,185,186,187,188,189,190,191,192,193,194,195,196,197,198,199,200,201,202,203,204,205,206,207,208,209,210,211,212,213,214,215,216,217,218,219,220,221,222,223,224,225,226,227,228,229,230,231,232,233,234,235,236,237,238,239,240,241,242,243,244,245,246,247,248,249,250,251,252,253,254,255,256,257,258,259,260,261,262,263,264,265,266,267,268,269,270,271,272,273,274,275,276,277,278,279,280,281,282,283,284,285,286,287,288,289,290,291,292,293,294,295,296,297,298,299,300,301,302,303,304,305,306,307,308,309,310,311,312,313,314,315,316,317,318,319,320,321,322,323,324,325,326,327,328,329,330,331,332,333,334,335,336,337,338,339,340,341,342,343,344,345,346,347,348,349,350,351,352,353,354,355,356,357,358,359,360,361,362,363,364,365,366,367,368,369,370,371,372,373,374,375,376,377,378,379,380,381,382,383,384,385,386,387,388,389,390,391,392,393,394,395,396,397,398,399,400,401,402,403,404,405,406,407,408,409,410,411,412,413,414,415,416,417,418,419,420,421,422,423,424,425,426,427,428,429,430,431,432,433,434,435,436,437,438,439,440,441,442,443,444,445,446,447,448,449,450,451,452,453,454,455,456,457,458,459,460,461,462,463,464,465,466,467,468,469,470,471,472,473,474,475,476,477,478,479,480,481,482,483,484,485,486,487,488,489,490,491,492,493,494,495,496,497,498,499,500,501,502,503,504,505,506,507,508,509,510,511,512,513,514,515,516,517,518,519,520,521,522,523,524,525,526,527,528,529,530,531,532,533,534,535,536,537,538,539,540,541,542,543,544,545,546,547,548,549,550,551,552,553,554,555,556,557,558,559,560,561,562,563,564,565,566,567,568,569,570,571,572,573,574,575,576,577,578,579,580,581,582,583,584,585,586,587,588,589,590,591,592,593,594,595,596,597,598,599,600,601,602,603,604,605,606,607,608,609,610,611,612,613,614,615,616,617,618,619,620,621,622,623,624,625,626,627,628,629,630,631,632,633,634,635,636,637,638,639,640,641,642,643,644,645,646,647,648,649,650,651,652,653,654,655,656,657,658,659,660,661,662,663,664,665,666,667,668,669,670,671,672,673,674,675,676,677,678,679,680,681,682,683,684,685,686,687,688,689,690,691,692,693,694,695,696,697,698,699,700,701,702,703,704,705,706,707,708,709,710,711,712,713,714,715,716,717,718,719,720,721,722,723,724,725,726,727,728,729,730,731,732,733,734,735,736,737,738,739,740,741,742,743,744,745,746,747,748,749,750,751,752,753,754,755,756,757,758,759,760,761,762,763,764,765,766,767,768,769,770,771,772,773,774,775,776,777,778,779,780,781,782,783,784,785,786,787,788,789,790,791,792,793,794,795,796,797,798,799,800,801,802,803,804,805,806,807,808,809,810,811,812,813,814,815,816,817,818,819,820,821,822,823,824,825,826,827,828,829,830,831,832,833,834,835,836,837,838,839,840,841,842,843,844,845,846,847,848,849,850,851,852,853,854,855,856,857,858,859,860,861,862,863,864,865,866,867,868,869,870,871,872,873,874,875,876,877,878,879,880,881,882,883,884,885,886,887,888,889,890],\"yaxis\":\"y\",\"type\":\"scatter\"},{\"hovertemplate\":\"<b>OLS trendline</b><br>index = 0.471283 * Age + 431.059<br>R<sup>2</sup>=0.000710<br><br>Age=%{x}<br>index=%{y} <b>(trend)</b><extra></extra>\",\"legendgroup\":\"Overall Trendline\",\"line\":{\"color\":\"#EF553B\"},\"mode\":\"lines\",\"name\":\"Overall Trendline\",\"showlegend\":true,\"x\":[0.42,0.67,0.75,0.75,0.75,0.83,0.83,0.83,0.92,0.92,1.0,1.0,1.0,1.0,1.0,1.0,1.0,1.0,2.0,2.0,2.0,2.0,2.0,2.0,2.0,2.0,2.0,2.0,2.0,2.0,2.0,2.0,2.0,2.0,3.0,3.0,3.0,3.0,3.0,3.0,3.0,4.0,4.0,4.0,4.0,4.0,4.0,4.0,4.0,4.0,4.0,4.0,4.0,4.0,4.0,4.0,5.0,5.0,5.0,5.0,5.0,6.0,6.0,6.0,7.0,7.0,7.0,8.0,8.0,8.0,8.0,9.0,9.0,9.0,9.0,9.0,9.0,9.0,9.0,9.0,9.0,9.0,10.0,10.0,10.0,11.0,11.0,11.0,11.0,11.0,12.0,12.0,13.0,13.0,14.0,14.0,14.0,14.0,14.0,14.0,14.5,15.0,15.0,15.0,15.0,15.0,16.0,16.0,16.0,16.0,16.0,16.0,16.0,16.0,16.0,16.0,16.0,16.0,16.0,16.0,16.0,16.0,16.0,16.0,16.0,16.0,16.0,16.0,16.0,17.0,17.0,17.0,17.0,17.0,17.0,17.0,17.0,17.0,17.0,17.0,17.0,17.0,17.0,18.0,18.0,18.0,18.0,18.0,18.0,18.0,18.0,18.0,18.0,18.0,18.0,18.0,18.0,18.0,18.0,18.0,18.0,18.0,18.0,18.0,18.0,18.0,18.0,18.0,18.0,18.0,18.0,18.0,18.0,19.0,19.0,19.0,19.0,19.0,19.0,19.0,19.0,19.0,19.0,19.0,19.0,19.0,19.0,19.0,19.0,19.0,19.0,19.0,19.0,19.0,19.0,19.0,19.0,19.0,19.0,19.0,19.0,19.0,19.0,19.0,19.0,19.0,19.0,19.0,19.0,19.0,19.0,20.0,20.0,20.0,20.0,20.0,20.0,20.0,20.0,20.0,20.0,20.0,20.0,20.0,20.0,20.0,20.5,21.0,21.0,21.0,21.0,21.0,21.0,21.0,21.0,21.0,21.0,21.0,21.0,21.0,21.0,21.0,21.0,21.0,21.0,21.0,21.0,21.0,21.0,21.0,21.0,21.0,21.0,21.0,21.0,21.0,21.0,21.0,21.0,21.0,22.0,22.0,22.0,22.0,22.0,22.0,22.0,22.0,22.0,22.0,22.0,22.0,22.0,22.0,22.0,22.0,22.0,22.0,22.0,22.0,22.0,22.0,22.0,22.0,22.0,22.0,22.0,22.0,22.0,22.0,22.0,22.0,23.0,23.0,23.0,23.0,23.0,23.0,23.0,23.0,23.0,23.0,23.0,23.0,23.0,23.0,23.0,23.0,23.0,23.5,24.0,24.0,24.0,24.0,24.0,24.0,24.0,24.0,24.0,24.0,24.0,24.0,24.0,24.0,24.0,24.0,24.0,24.0,24.0,24.0,24.0,24.0,24.0,24.0,24.0,24.0,24.0,24.0,24.0,24.0,24.0,24.0,24.0,24.0,24.0,24.0,24.0,24.0,24.0,24.5,25.0,25.0,25.0,25.0,25.0,25.0,25.0,25.0,25.0,25.0,25.0,25.0,25.0,25.0,25.0,25.0,25.0,25.0,25.0,25.0,25.0,25.0,25.0,25.0,25.0,25.0,25.0,25.0,26.0,26.0,26.0,26.0,26.0,26.0,26.0,26.0,26.0,26.0,26.0,26.0,26.0,26.0,26.0,26.0,26.0,26.0,26.0,27.0,27.0,27.0,27.0,27.0,27.0,27.0,27.0,27.0,27.0,27.0,27.0,27.0,27.0,27.0,27.0,27.0,27.0,27.0,27.0,27.0,28.0,28.0,28.0,28.0,28.0,28.0,28.0,28.0,28.0,28.0,28.0,28.0,28.0,28.0,28.0,28.0,28.0,28.0,28.0,28.0,28.0,28.0,28.0,28.0,28.0,28.0,28.0,28.0,28.0,28.0,28.0,28.0,28.5,28.5,29.0,29.0,29.0,29.0,29.0,29.0,29.0,29.0,29.0,29.0,29.0,29.0,29.0,29.0,29.0,29.0,29.0,29.0,29.0,29.0,29.0,29.0,29.0,29.0,29.0,30.0,30.0,30.0,30.0,30.0,30.0,30.0,30.0,30.0,30.0,30.0,30.0,30.0,30.0,30.0,30.0,30.0,30.0,30.0,30.0,30.0,30.0,30.0,30.0,30.0,30.0,30.0,30.0,30.0,30.0,30.5,30.5,30.5,30.5,31.0,31.0,31.0,31.0,31.0,31.0,31.0,31.0,31.0,31.0,31.0,31.0,31.0,31.0,31.0,31.0,31.0,31.0,31.0,31.0,32.0,32.0,32.0,32.0,32.0,32.0,32.0,32.0,32.0,32.0,32.0,32.0,32.0,32.0,32.0,32.0,32.0,32.0,32.0,32.0,32.5,32.5,33.0,33.0,33.0,33.0,33.0,33.0,33.0,33.0,33.0,33.0,33.0,33.0,33.0,33.0,33.0,33.0,33.0,33.0,33.0,33.0,34.0,34.0,34.0,34.0,34.0,34.0,34.0,34.0,34.0,34.0,34.0,34.0,34.0,34.0,34.0,34.0,34.5,35.0,35.0,35.0,35.0,35.0,35.0,35.0,35.0,35.0,35.0,35.0,35.0,35.0,35.0,35.0,35.0,35.0,35.0,35.0,35.0,35.0,35.0,35.0,35.0,35.0,36.0,36.0,36.0,36.0,36.0,36.0,36.0,36.0,36.0,36.0,36.0,36.0,36.0,36.0,36.0,36.0,36.0,36.0,36.0,36.0,36.0,36.0,36.0,36.0,36.0,36.0,36.0,36.0,36.0,36.0,36.0,36.5,37.0,37.0,37.0,37.0,37.0,37.0,37.0,38.0,38.0,38.0,38.0,38.0,38.0,38.0,38.0,38.0,38.0,38.0,38.0,38.0,38.0,38.0,38.0,39.0,39.0,39.0,39.0,39.0,39.0,39.0,39.0,39.0,39.0,39.0,39.0,39.0,39.0,39.0,39.0,39.0,39.0,40.0,40.0,40.0,40.0,40.0,40.0,40.0,40.0,40.0,40.0,40.0,40.0,40.0,40.0,40.0,40.0,40.0,40.5,40.5,40.5,41.0,41.0,41.0,41.0,41.0,41.0,41.0,42.0,42.0,42.0,42.0,42.0,42.0,42.0,42.0,42.0,42.0,42.0,42.0,42.0,42.0,42.0,42.0,43.0,43.0,43.0,43.0,43.0,43.0,44.0,44.0,44.0,44.0,44.0,44.0,44.0,44.0,44.0,44.0,44.0,44.0,45.0,45.0,45.0,45.0,45.0,45.0,45.0,45.0,45.0,45.0,45.0,45.0,45.0,45.0,45.5,45.5,46.0,46.0,46.0,46.0,47.0,47.0,47.0,47.0,47.0,47.0,47.0,47.0,47.0,47.0,48.0,48.0,48.0,48.0,48.0,48.0,48.0,48.0,48.0,48.0,48.0,48.0,49.0,49.0,49.0,49.0,49.0,49.0,49.0,49.0,50.0,50.0,50.0,50.0,50.0,50.0,50.0,50.0,50.0,50.0,50.0,50.0,50.0,50.0,50.0,51.0,51.0,51.0,51.0,51.0,51.0,51.0,51.0,51.0,52.0,52.0,52.0,52.0,52.0,52.0,53.0,54.0,54.0,54.0,54.0,54.0,54.0,54.0,54.0,54.0,54.0,55.0,55.0,55.5,56.0,56.0,56.0,56.0,56.0,56.0,57.0,57.0,57.0,58.0,58.0,58.0,58.0,58.0,58.0,59.0,59.0,59.0,60.0,60.0,60.0,60.0,60.0,60.0,61.0,61.0,61.0,62.0,62.0,62.0,62.0,63.0,63.0,64.0,64.0,65.0,65.0,65.0,65.0,65.0,66.0,70.0,70.0,70.5,71.0,71.0,74.0,80.0],\"y\":[431.25666231549644,431.37448298132625,431.4121855943918,431.4121855943918,431.4121855943918,431.4498882074574,431.4498882074574,431.4498882074574,431.4923036471561,431.4923036471561,431.5300062602217,431.5300062602217,431.5300062602217,431.5300062602217,431.5300062602217,431.5300062602217,431.5300062602217,431.5300062602217,432.001288923541,432.001288923541,432.001288923541,432.001288923541,432.001288923541,432.001288923541,432.001288923541,432.001288923541,432.001288923541,432.001288923541,432.001288923541,432.001288923541,432.001288923541,432.001288923541,432.001288923541,432.001288923541,432.47257158686034,432.47257158686034,432.47257158686034,432.47257158686034,432.47257158686034,432.47257158686034,432.47257158686034,432.94385425017964,432.94385425017964,432.94385425017964,432.94385425017964,432.94385425017964,432.94385425017964,432.94385425017964,432.94385425017964,432.94385425017964,432.94385425017964,432.94385425017964,432.94385425017964,432.94385425017964,432.94385425017964,432.94385425017964,433.415136913499,433.415136913499,433.415136913499,433.415136913499,433.415136913499,433.88641957681835,433.88641957681835,433.88641957681835,434.35770224013766,434.35770224013766,434.35770224013766,434.828984903457,434.828984903457,434.828984903457,434.828984903457,435.30026756677637,435.30026756677637,435.30026756677637,435.30026756677637,435.30026756677637,435.30026756677637,435.30026756677637,435.30026756677637,435.30026756677637,435.30026756677637,435.30026756677637,435.77155023009567,435.77155023009567,435.77155023009567,436.242832893415,436.242832893415,436.242832893415,436.242832893415,436.242832893415,436.7141155567343,436.7141155567343,437.1853982200537,437.1853982200537,437.65668088337304,437.65668088337304,437.65668088337304,437.65668088337304,437.65668088337304,437.65668088337304,437.89232221503266,438.12796354669234,438.12796354669234,438.12796354669234,438.12796354669234,438.12796354669234,438.5992462100117,438.5992462100117,438.5992462100117,438.5992462100117,438.5992462100117,438.5992462100117,438.5992462100117,438.5992462100117,438.5992462100117,438.5992462100117,438.5992462100117,438.5992462100117,438.5992462100117,438.5992462100117,438.5992462100117,438.5992462100117,438.5992462100117,438.5992462100117,438.5992462100117,438.5992462100117,438.5992462100117,438.5992462100117,438.5992462100117,439.070528873331,439.070528873331,439.070528873331,439.070528873331,439.070528873331,439.070528873331,439.070528873331,439.070528873331,439.070528873331,439.070528873331,439.070528873331,439.070528873331,439.070528873331,439.070528873331,439.54181153665036,439.54181153665036,439.54181153665036,439.54181153665036,439.54181153665036,439.54181153665036,439.54181153665036,439.54181153665036,439.54181153665036,439.54181153665036,439.54181153665036,439.54181153665036,439.54181153665036,439.54181153665036,439.54181153665036,439.54181153665036,439.54181153665036,439.54181153665036,439.54181153665036,439.54181153665036,439.54181153665036,439.54181153665036,439.54181153665036,439.54181153665036,439.54181153665036,439.54181153665036,439.54181153665036,439.54181153665036,439.54181153665036,439.54181153665036,440.0130941999697,440.0130941999697,440.0130941999697,440.0130941999697,440.0130941999697,440.0130941999697,440.0130941999697,440.0130941999697,440.0130941999697,440.0130941999697,440.0130941999697,440.0130941999697,440.0130941999697,440.0130941999697,440.0130941999697,440.0130941999697,440.0130941999697,440.0130941999697,440.0130941999697,440.0130941999697,440.0130941999697,440.0130941999697,440.0130941999697,440.0130941999697,440.0130941999697,440.0130941999697,440.0130941999697,440.0130941999697,440.0130941999697,440.0130941999697,440.0130941999697,440.0130941999697,440.0130941999697,440.0130941999697,440.0130941999697,440.0130941999697,440.0130941999697,440.0130941999697,440.484376863289,440.484376863289,440.484376863289,440.484376863289,440.484376863289,440.484376863289,440.484376863289,440.484376863289,440.484376863289,440.484376863289,440.484376863289,440.484376863289,440.484376863289,440.484376863289,440.484376863289,440.7200181949487,440.9556595266084,440.9556595266084,440.9556595266084,440.9556595266084,440.9556595266084,440.9556595266084,440.9556595266084,440.9556595266084,440.9556595266084,440.9556595266084,440.9556595266084,440.9556595266084,440.9556595266084,440.9556595266084,440.9556595266084,440.9556595266084,440.9556595266084,440.9556595266084,440.9556595266084,440.9556595266084,440.9556595266084,440.9556595266084,440.9556595266084,440.9556595266084,440.9556595266084,440.9556595266084,440.9556595266084,440.9556595266084,440.9556595266084,440.9556595266084,440.9556595266084,440.9556595266084,440.9556595266084,441.4269421899277,441.4269421899277,441.4269421899277,441.4269421899277,441.4269421899277,441.4269421899277,441.4269421899277,441.4269421899277,441.4269421899277,441.4269421899277,441.4269421899277,441.4269421899277,441.4269421899277,441.4269421899277,441.4269421899277,441.4269421899277,441.4269421899277,441.4269421899277,441.4269421899277,441.4269421899277,441.4269421899277,441.4269421899277,441.4269421899277,441.4269421899277,441.4269421899277,441.4269421899277,441.4269421899277,441.4269421899277,441.4269421899277,441.4269421899277,441.4269421899277,441.4269421899277,441.89822485324703,441.89822485324703,441.89822485324703,441.89822485324703,441.89822485324703,441.89822485324703,441.89822485324703,441.89822485324703,441.89822485324703,441.89822485324703,441.89822485324703,441.89822485324703,441.89822485324703,441.89822485324703,441.89822485324703,441.89822485324703,441.89822485324703,442.1338661849067,442.3695075165664,442.3695075165664,442.3695075165664,442.3695075165664,442.3695075165664,442.3695075165664,442.3695075165664,442.3695075165664,442.3695075165664,442.3695075165664,442.3695075165664,442.3695075165664,442.3695075165664,442.3695075165664,442.3695075165664,442.3695075165664,442.3695075165664,442.3695075165664,442.3695075165664,442.3695075165664,442.3695075165664,442.3695075165664,442.3695075165664,442.3695075165664,442.3695075165664,442.3695075165664,442.3695075165664,442.3695075165664,442.3695075165664,442.3695075165664,442.3695075165664,442.3695075165664,442.3695075165664,442.3695075165664,442.3695075165664,442.3695075165664,442.3695075165664,442.3695075165664,442.3695075165664,442.605148848226,442.8407901798857,442.8407901798857,442.8407901798857,442.8407901798857,442.8407901798857,442.8407901798857,442.8407901798857,442.8407901798857,442.8407901798857,442.8407901798857,442.8407901798857,442.8407901798857,442.8407901798857,442.8407901798857,442.8407901798857,442.8407901798857,442.8407901798857,442.8407901798857,442.8407901798857,442.8407901798857,442.8407901798857,442.8407901798857,442.8407901798857,442.8407901798857,442.8407901798857,442.8407901798857,442.8407901798857,442.8407901798857,443.31207284320504,443.31207284320504,443.31207284320504,443.31207284320504,443.31207284320504,443.31207284320504,443.31207284320504,443.31207284320504,443.31207284320504,443.31207284320504,443.31207284320504,443.31207284320504,443.31207284320504,443.31207284320504,443.31207284320504,443.31207284320504,443.31207284320504,443.31207284320504,443.31207284320504,443.78335550652434,443.78335550652434,443.78335550652434,443.78335550652434,443.78335550652434,443.78335550652434,443.78335550652434,443.78335550652434,443.78335550652434,443.78335550652434,443.78335550652434,443.78335550652434,443.78335550652434,443.78335550652434,443.78335550652434,443.78335550652434,443.78335550652434,443.78335550652434,443.78335550652434,443.78335550652434,443.78335550652434,444.2546381698437,444.2546381698437,444.2546381698437,444.2546381698437,444.2546381698437,444.2546381698437,444.2546381698437,444.2546381698437,444.2546381698437,444.2546381698437,444.2546381698437,444.2546381698437,444.2546381698437,444.2546381698437,444.2546381698437,444.2546381698437,444.2546381698437,444.2546381698437,444.2546381698437,444.2546381698437,444.2546381698437,444.2546381698437,444.2546381698437,444.2546381698437,444.2546381698437,444.2546381698437,444.2546381698437,444.2546381698437,444.2546381698437,444.2546381698437,444.2546381698437,444.2546381698437,444.4902795015034,444.4902795015034,444.72592083316306,444.72592083316306,444.72592083316306,444.72592083316306,444.72592083316306,444.72592083316306,444.72592083316306,444.72592083316306,444.72592083316306,444.72592083316306,444.72592083316306,444.72592083316306,444.72592083316306,444.72592083316306,444.72592083316306,444.72592083316306,444.72592083316306,444.72592083316306,444.72592083316306,444.72592083316306,444.72592083316306,444.72592083316306,444.72592083316306,444.72592083316306,444.72592083316306,445.19720349648236,445.19720349648236,445.19720349648236,445.19720349648236,445.19720349648236,445.19720349648236,445.19720349648236,445.19720349648236,445.19720349648236,445.19720349648236,445.19720349648236,445.19720349648236,445.19720349648236,445.19720349648236,445.19720349648236,445.19720349648236,445.19720349648236,445.19720349648236,445.19720349648236,445.19720349648236,445.19720349648236,445.19720349648236,445.19720349648236,445.19720349648236,445.19720349648236,445.19720349648236,445.19720349648236,445.19720349648236,445.19720349648236,445.19720349648236,445.43284482814204,445.43284482814204,445.43284482814204,445.43284482814204,445.6684861598017,445.6684861598017,445.6684861598017,445.6684861598017,445.6684861598017,445.6684861598017,445.6684861598017,445.6684861598017,445.6684861598017,445.6684861598017,445.6684861598017,445.6684861598017,445.6684861598017,445.6684861598017,445.6684861598017,445.6684861598017,445.6684861598017,445.6684861598017,445.6684861598017,445.6684861598017,446.1397688231211,446.1397688231211,446.1397688231211,446.1397688231211,446.1397688231211,446.1397688231211,446.1397688231211,446.1397688231211,446.1397688231211,446.1397688231211,446.1397688231211,446.1397688231211,446.1397688231211,446.1397688231211,446.1397688231211,446.1397688231211,446.1397688231211,446.1397688231211,446.1397688231211,446.1397688231211,446.3754101547807,446.3754101547807,446.6110514864404,446.6110514864404,446.6110514864404,446.6110514864404,446.6110514864404,446.6110514864404,446.6110514864404,446.6110514864404,446.6110514864404,446.6110514864404,446.6110514864404,446.6110514864404,446.6110514864404,446.6110514864404,446.6110514864404,446.6110514864404,446.6110514864404,446.6110514864404,446.6110514864404,446.6110514864404,447.08233414975973,447.08233414975973,447.08233414975973,447.08233414975973,447.08233414975973,447.08233414975973,447.08233414975973,447.08233414975973,447.08233414975973,447.08233414975973,447.08233414975973,447.08233414975973,447.08233414975973,447.08233414975973,447.08233414975973,447.08233414975973,447.3179754814194,447.55361681307903,447.55361681307903,447.55361681307903,447.55361681307903,447.55361681307903,447.55361681307903,447.55361681307903,447.55361681307903,447.55361681307903,447.55361681307903,447.55361681307903,447.55361681307903,447.55361681307903,447.55361681307903,447.55361681307903,447.55361681307903,447.55361681307903,447.55361681307903,447.55361681307903,447.55361681307903,447.55361681307903,447.55361681307903,447.55361681307903,447.55361681307903,447.55361681307903,448.0248994763984,448.0248994763984,448.0248994763984,448.0248994763984,448.0248994763984,448.0248994763984,448.0248994763984,448.0248994763984,448.0248994763984,448.0248994763984,448.0248994763984,448.0248994763984,448.0248994763984,448.0248994763984,448.0248994763984,448.0248994763984,448.0248994763984,448.0248994763984,448.0248994763984,448.0248994763984,448.0248994763984,448.0248994763984,448.0248994763984,448.0248994763984,448.0248994763984,448.0248994763984,448.0248994763984,448.0248994763984,448.0248994763984,448.0248994763984,448.0248994763984,448.26054080805807,448.49618213971775,448.49618213971775,448.49618213971775,448.49618213971775,448.49618213971775,448.49618213971775,448.49618213971775,448.96746480303705,448.96746480303705,448.96746480303705,448.96746480303705,448.96746480303705,448.96746480303705,448.96746480303705,448.96746480303705,448.96746480303705,448.96746480303705,448.96746480303705,448.96746480303705,448.96746480303705,448.96746480303705,448.96746480303705,448.96746480303705,449.4387474663564,449.4387474663564,449.4387474663564,449.4387474663564,449.4387474663564,449.4387474663564,449.4387474663564,449.4387474663564,449.4387474663564,449.4387474663564,449.4387474663564,449.4387474663564,449.4387474663564,449.4387474663564,449.4387474663564,449.4387474663564,449.4387474663564,449.4387474663564,449.9100301296757,449.9100301296757,449.9100301296757,449.9100301296757,449.9100301296757,449.9100301296757,449.9100301296757,449.9100301296757,449.9100301296757,449.9100301296757,449.9100301296757,449.9100301296757,449.9100301296757,449.9100301296757,449.9100301296757,449.9100301296757,449.9100301296757,450.1456714613354,450.1456714613354,450.1456714613354,450.38131279299506,450.38131279299506,450.38131279299506,450.38131279299506,450.38131279299506,450.38131279299506,450.38131279299506,450.8525954563144,450.8525954563144,450.8525954563144,450.8525954563144,450.8525954563144,450.8525954563144,450.8525954563144,450.8525954563144,450.8525954563144,450.8525954563144,450.8525954563144,450.8525954563144,450.8525954563144,450.8525954563144,450.8525954563144,450.8525954563144,451.3238781196337,451.3238781196337,451.3238781196337,451.3238781196337,451.3238781196337,451.3238781196337,451.7951607829531,451.7951607829531,451.7951607829531,451.7951607829531,451.7951607829531,451.7951607829531,451.7951607829531,451.7951607829531,451.7951607829531,451.7951607829531,451.7951607829531,451.7951607829531,452.26644344627243,452.26644344627243,452.26644344627243,452.26644344627243,452.26644344627243,452.26644344627243,452.26644344627243,452.26644344627243,452.26644344627243,452.26644344627243,452.26644344627243,452.26644344627243,452.26644344627243,452.26644344627243,452.50208477793205,452.50208477793205,452.73772610959173,452.73772610959173,452.73772610959173,452.73772610959173,453.2090087729111,453.2090087729111,453.2090087729111,453.2090087729111,453.2090087729111,453.2090087729111,453.2090087729111,453.2090087729111,453.2090087729111,453.2090087729111,453.6802914362304,453.6802914362304,453.6802914362304,453.6802914362304,453.6802914362304,453.6802914362304,453.6802914362304,453.6802914362304,453.6802914362304,453.6802914362304,453.6802914362304,453.6802914362304,454.15157409954975,454.15157409954975,454.15157409954975,454.15157409954975,454.15157409954975,454.15157409954975,454.15157409954975,454.15157409954975,454.6228567628691,454.6228567628691,454.6228567628691,454.6228567628691,454.6228567628691,454.6228567628691,454.6228567628691,454.6228567628691,454.6228567628691,454.6228567628691,454.6228567628691,454.6228567628691,454.6228567628691,454.6228567628691,454.6228567628691,455.0941394261884,455.0941394261884,455.0941394261884,455.0941394261884,455.0941394261884,455.0941394261884,455.0941394261884,455.0941394261884,455.0941394261884,455.56542208950776,455.56542208950776,455.56542208950776,455.56542208950776,455.56542208950776,455.56542208950776,456.03670475282706,456.5079874161464,456.5079874161464,456.5079874161464,456.5079874161464,456.5079874161464,456.5079874161464,456.5079874161464,456.5079874161464,456.5079874161464,456.5079874161464,456.9792700794658,456.9792700794658,457.2149114111254,457.4505527427851,457.4505527427851,457.4505527427851,457.4505527427851,457.4505527427851,457.4505527427851,457.92183540610444,457.92183540610444,457.92183540610444,458.39311806942374,458.39311806942374,458.39311806942374,458.39311806942374,458.39311806942374,458.39311806942374,458.8644007327431,458.8644007327431,458.8644007327431,459.33568339606245,459.33568339606245,459.33568339606245,459.33568339606245,459.33568339606245,459.33568339606245,459.80696605938175,459.80696605938175,459.80696605938175,460.2782487227011,460.2782487227011,460.2782487227011,460.2782487227011,460.7495313860204,460.7495313860204,461.22081404933977,461.22081404933977,461.6920967126591,461.6920967126591,461.6920967126591,461.6920967126591,461.6920967126591,462.1633793759784,464.0485100292558,464.0485100292558,464.2841513609155,464.5197926925751,464.5197926925751,465.9336406825331,468.76133666244914],\"type\":\"scatter\",\"xaxis\":\"x\",\"yaxis\":\"y\"}],                        {\"template\":{\"data\":{\"histogram2dcontour\":[{\"type\":\"histogram2dcontour\",\"colorbar\":{\"outlinewidth\":0,\"ticks\":\"\"},\"colorscale\":[[0.0,\"#0d0887\"],[0.1111111111111111,\"#46039f\"],[0.2222222222222222,\"#7201a8\"],[0.3333333333333333,\"#9c179e\"],[0.4444444444444444,\"#bd3786\"],[0.5555555555555556,\"#d8576b\"],[0.6666666666666666,\"#ed7953\"],[0.7777777777777778,\"#fb9f3a\"],[0.8888888888888888,\"#fdca26\"],[1.0,\"#f0f921\"]]}],\"choropleth\":[{\"type\":\"choropleth\",\"colorbar\":{\"outlinewidth\":0,\"ticks\":\"\"}}],\"histogram2d\":[{\"type\":\"histogram2d\",\"colorbar\":{\"outlinewidth\":0,\"ticks\":\"\"},\"colorscale\":[[0.0,\"#0d0887\"],[0.1111111111111111,\"#46039f\"],[0.2222222222222222,\"#7201a8\"],[0.3333333333333333,\"#9c179e\"],[0.4444444444444444,\"#bd3786\"],[0.5555555555555556,\"#d8576b\"],[0.6666666666666666,\"#ed7953\"],[0.7777777777777778,\"#fb9f3a\"],[0.8888888888888888,\"#fdca26\"],[1.0,\"#f0f921\"]]}],\"heatmap\":[{\"type\":\"heatmap\",\"colorbar\":{\"outlinewidth\":0,\"ticks\":\"\"},\"colorscale\":[[0.0,\"#0d0887\"],[0.1111111111111111,\"#46039f\"],[0.2222222222222222,\"#7201a8\"],[0.3333333333333333,\"#9c179e\"],[0.4444444444444444,\"#bd3786\"],[0.5555555555555556,\"#d8576b\"],[0.6666666666666666,\"#ed7953\"],[0.7777777777777778,\"#fb9f3a\"],[0.8888888888888888,\"#fdca26\"],[1.0,\"#f0f921\"]]}],\"heatmapgl\":[{\"type\":\"heatmapgl\",\"colorbar\":{\"outlinewidth\":0,\"ticks\":\"\"},\"colorscale\":[[0.0,\"#0d0887\"],[0.1111111111111111,\"#46039f\"],[0.2222222222222222,\"#7201a8\"],[0.3333333333333333,\"#9c179e\"],[0.4444444444444444,\"#bd3786\"],[0.5555555555555556,\"#d8576b\"],[0.6666666666666666,\"#ed7953\"],[0.7777777777777778,\"#fb9f3a\"],[0.8888888888888888,\"#fdca26\"],[1.0,\"#f0f921\"]]}],\"contourcarpet\":[{\"type\":\"contourcarpet\",\"colorbar\":{\"outlinewidth\":0,\"ticks\":\"\"}}],\"contour\":[{\"type\":\"contour\",\"colorbar\":{\"outlinewidth\":0,\"ticks\":\"\"},\"colorscale\":[[0.0,\"#0d0887\"],[0.1111111111111111,\"#46039f\"],[0.2222222222222222,\"#7201a8\"],[0.3333333333333333,\"#9c179e\"],[0.4444444444444444,\"#bd3786\"],[0.5555555555555556,\"#d8576b\"],[0.6666666666666666,\"#ed7953\"],[0.7777777777777778,\"#fb9f3a\"],[0.8888888888888888,\"#fdca26\"],[1.0,\"#f0f921\"]]}],\"surface\":[{\"type\":\"surface\",\"colorbar\":{\"outlinewidth\":0,\"ticks\":\"\"},\"colorscale\":[[0.0,\"#0d0887\"],[0.1111111111111111,\"#46039f\"],[0.2222222222222222,\"#7201a8\"],[0.3333333333333333,\"#9c179e\"],[0.4444444444444444,\"#bd3786\"],[0.5555555555555556,\"#d8576b\"],[0.6666666666666666,\"#ed7953\"],[0.7777777777777778,\"#fb9f3a\"],[0.8888888888888888,\"#fdca26\"],[1.0,\"#f0f921\"]]}],\"mesh3d\":[{\"type\":\"mesh3d\",\"colorbar\":{\"outlinewidth\":0,\"ticks\":\"\"}}],\"scatter\":[{\"fillpattern\":{\"fillmode\":\"overlay\",\"size\":10,\"solidity\":0.2},\"type\":\"scatter\"}],\"parcoords\":[{\"type\":\"parcoords\",\"line\":{\"colorbar\":{\"outlinewidth\":0,\"ticks\":\"\"}}}],\"scatterpolargl\":[{\"type\":\"scatterpolargl\",\"marker\":{\"colorbar\":{\"outlinewidth\":0,\"ticks\":\"\"}}}],\"bar\":[{\"error_x\":{\"color\":\"#2a3f5f\"},\"error_y\":{\"color\":\"#2a3f5f\"},\"marker\":{\"line\":{\"color\":\"#E5ECF6\",\"width\":0.5},\"pattern\":{\"fillmode\":\"overlay\",\"size\":10,\"solidity\":0.2}},\"type\":\"bar\"}],\"scattergeo\":[{\"type\":\"scattergeo\",\"marker\":{\"colorbar\":{\"outlinewidth\":0,\"ticks\":\"\"}}}],\"scatterpolar\":[{\"type\":\"scatterpolar\",\"marker\":{\"colorbar\":{\"outlinewidth\":0,\"ticks\":\"\"}}}],\"histogram\":[{\"marker\":{\"pattern\":{\"fillmode\":\"overlay\",\"size\":10,\"solidity\":0.2}},\"type\":\"histogram\"}],\"scattergl\":[{\"type\":\"scattergl\",\"marker\":{\"colorbar\":{\"outlinewidth\":0,\"ticks\":\"\"}}}],\"scatter3d\":[{\"type\":\"scatter3d\",\"line\":{\"colorbar\":{\"outlinewidth\":0,\"ticks\":\"\"}},\"marker\":{\"colorbar\":{\"outlinewidth\":0,\"ticks\":\"\"}}}],\"scattermapbox\":[{\"type\":\"scattermapbox\",\"marker\":{\"colorbar\":{\"outlinewidth\":0,\"ticks\":\"\"}}}],\"scatterternary\":[{\"type\":\"scatterternary\",\"marker\":{\"colorbar\":{\"outlinewidth\":0,\"ticks\":\"\"}}}],\"scattercarpet\":[{\"type\":\"scattercarpet\",\"marker\":{\"colorbar\":{\"outlinewidth\":0,\"ticks\":\"\"}}}],\"carpet\":[{\"aaxis\":{\"endlinecolor\":\"#2a3f5f\",\"gridcolor\":\"white\",\"linecolor\":\"white\",\"minorgridcolor\":\"white\",\"startlinecolor\":\"#2a3f5f\"},\"baxis\":{\"endlinecolor\":\"#2a3f5f\",\"gridcolor\":\"white\",\"linecolor\":\"white\",\"minorgridcolor\":\"white\",\"startlinecolor\":\"#2a3f5f\"},\"type\":\"carpet\"}],\"table\":[{\"cells\":{\"fill\":{\"color\":\"#EBF0F8\"},\"line\":{\"color\":\"white\"}},\"header\":{\"fill\":{\"color\":\"#C8D4E3\"},\"line\":{\"color\":\"white\"}},\"type\":\"table\"}],\"barpolar\":[{\"marker\":{\"line\":{\"color\":\"#E5ECF6\",\"width\":0.5},\"pattern\":{\"fillmode\":\"overlay\",\"size\":10,\"solidity\":0.2}},\"type\":\"barpolar\"}],\"pie\":[{\"automargin\":true,\"type\":\"pie\"}]},\"layout\":{\"autotypenumbers\":\"strict\",\"colorway\":[\"#636efa\",\"#EF553B\",\"#00cc96\",\"#ab63fa\",\"#FFA15A\",\"#19d3f3\",\"#FF6692\",\"#B6E880\",\"#FF97FF\",\"#FECB52\"],\"font\":{\"color\":\"#2a3f5f\"},\"hovermode\":\"closest\",\"hoverlabel\":{\"align\":\"left\"},\"paper_bgcolor\":\"white\",\"plot_bgcolor\":\"#E5ECF6\",\"polar\":{\"bgcolor\":\"#E5ECF6\",\"angularaxis\":{\"gridcolor\":\"white\",\"linecolor\":\"white\",\"ticks\":\"\"},\"radialaxis\":{\"gridcolor\":\"white\",\"linecolor\":\"white\",\"ticks\":\"\"}},\"ternary\":{\"bgcolor\":\"#E5ECF6\",\"aaxis\":{\"gridcolor\":\"white\",\"linecolor\":\"white\",\"ticks\":\"\"},\"baxis\":{\"gridcolor\":\"white\",\"linecolor\":\"white\",\"ticks\":\"\"},\"caxis\":{\"gridcolor\":\"white\",\"linecolor\":\"white\",\"ticks\":\"\"}},\"coloraxis\":{\"colorbar\":{\"outlinewidth\":0,\"ticks\":\"\"}},\"colorscale\":{\"sequential\":[[0.0,\"#0d0887\"],[0.1111111111111111,\"#46039f\"],[0.2222222222222222,\"#7201a8\"],[0.3333333333333333,\"#9c179e\"],[0.4444444444444444,\"#bd3786\"],[0.5555555555555556,\"#d8576b\"],[0.6666666666666666,\"#ed7953\"],[0.7777777777777778,\"#fb9f3a\"],[0.8888888888888888,\"#fdca26\"],[1.0,\"#f0f921\"]],\"sequentialminus\":[[0.0,\"#0d0887\"],[0.1111111111111111,\"#46039f\"],[0.2222222222222222,\"#7201a8\"],[0.3333333333333333,\"#9c179e\"],[0.4444444444444444,\"#bd3786\"],[0.5555555555555556,\"#d8576b\"],[0.6666666666666666,\"#ed7953\"],[0.7777777777777778,\"#fb9f3a\"],[0.8888888888888888,\"#fdca26\"],[1.0,\"#f0f921\"]],\"diverging\":[[0,\"#8e0152\"],[0.1,\"#c51b7d\"],[0.2,\"#de77ae\"],[0.3,\"#f1b6da\"],[0.4,\"#fde0ef\"],[0.5,\"#f7f7f7\"],[0.6,\"#e6f5d0\"],[0.7,\"#b8e186\"],[0.8,\"#7fbc41\"],[0.9,\"#4d9221\"],[1,\"#276419\"]]},\"xaxis\":{\"gridcolor\":\"white\",\"linecolor\":\"white\",\"ticks\":\"\",\"title\":{\"standoff\":15},\"zerolinecolor\":\"white\",\"automargin\":true,\"zerolinewidth\":2},\"yaxis\":{\"gridcolor\":\"white\",\"linecolor\":\"white\",\"ticks\":\"\",\"title\":{\"standoff\":15},\"zerolinecolor\":\"white\",\"automargin\":true,\"zerolinewidth\":2},\"scene\":{\"xaxis\":{\"backgroundcolor\":\"#E5ECF6\",\"gridcolor\":\"white\",\"linecolor\":\"white\",\"showbackground\":true,\"ticks\":\"\",\"zerolinecolor\":\"white\",\"gridwidth\":2},\"yaxis\":{\"backgroundcolor\":\"#E5ECF6\",\"gridcolor\":\"white\",\"linecolor\":\"white\",\"showbackground\":true,\"ticks\":\"\",\"zerolinecolor\":\"white\",\"gridwidth\":2},\"zaxis\":{\"backgroundcolor\":\"#E5ECF6\",\"gridcolor\":\"white\",\"linecolor\":\"white\",\"showbackground\":true,\"ticks\":\"\",\"zerolinecolor\":\"white\",\"gridwidth\":2}},\"shapedefaults\":{\"line\":{\"color\":\"#2a3f5f\"}},\"annotationdefaults\":{\"arrowcolor\":\"#2a3f5f\",\"arrowhead\":0,\"arrowwidth\":1},\"geo\":{\"bgcolor\":\"white\",\"landcolor\":\"#E5ECF6\",\"subunitcolor\":\"white\",\"showland\":true,\"showlakes\":true,\"lakecolor\":\"white\"},\"title\":{\"x\":0.05},\"mapbox\":{\"style\":\"light\"}}},\"xaxis\":{\"anchor\":\"y\",\"domain\":[0.0,1.0],\"title\":{\"text\":\"Age\"}},\"yaxis\":{\"anchor\":\"x\",\"domain\":[0.0,1.0],\"title\":{\"text\":\"index\"}},\"legend\":{\"tracegroupgap\":0},\"title\":{\"text\":\"Linear trendline for age\"}},                        {\"responsive\": true}                    ).then(function(){\n",
       "                            \n",
       "var gd = document.getElementById('45a73818-cc58-41ec-851e-b90127804c9d');\n",
       "var x = new MutationObserver(function (mutations, observer) {{\n",
       "        var display = window.getComputedStyle(gd).display;\n",
       "        if (!display || display === 'none') {{\n",
       "            console.log([gd, 'removed!']);\n",
       "            Plotly.purge(gd);\n",
       "            observer.disconnect();\n",
       "        }}\n",
       "}});\n",
       "\n",
       "// Listen for the removal of the full notebook cells\n",
       "var notebookContainer = gd.closest('#notebook-container');\n",
       "if (notebookContainer) {{\n",
       "    x.observe(notebookContainer, {childList: true});\n",
       "}}\n",
       "\n",
       "// Listen for the clearing of the current output cell\n",
       "var outputEl = gd.closest('.output');\n",
       "if (outputEl) {{\n",
       "    x.observe(outputEl, {childList: true});\n",
       "}}\n",
       "\n",
       "                        })                };                });            </script>        </div>"
      ]
     },
     "metadata": {},
     "output_type": "display_data"
    }
   ],
   "source": [
    "px.scatter(df,x='Age', trendline=\"ols\",trendline_scope=\"overall\",title='Linear trendline for age')"
   ]
  },
  {
   "cell_type": "markdown",
   "id": "5e27578a",
   "metadata": {
    "papermill": {
     "duration": 0.025663,
     "end_time": "2023-04-04T16:32:14.230348",
     "exception": false,
     "start_time": "2023-04-04T16:32:14.204685",
     "status": "completed"
    },
    "tags": []
   },
   "source": [
    "# **Swarm plot Embarked by Age**"
   ]
  },
  {
   "cell_type": "code",
   "execution_count": 54,
   "id": "bd51ac35",
   "metadata": {
    "execution": {
     "iopub.execute_input": "2023-04-04T16:32:14.284450Z",
     "iopub.status.busy": "2023-04-04T16:32:14.283643Z",
     "iopub.status.idle": "2023-04-04T16:32:16.008898Z",
     "shell.execute_reply": "2023-04-04T16:32:16.007677Z"
    },
    "papermill": {
     "duration": 1.754974,
     "end_time": "2023-04-04T16:32:16.011322",
     "exception": false,
     "start_time": "2023-04-04T16:32:14.256348",
     "status": "completed"
    },
    "tags": []
   },
   "outputs": [
    {
     "data": {
      "text/plain": [
       "Text(0.5, 1.0, 'Swarm plot Embarked by Age')"
      ]
     },
     "execution_count": 54,
     "metadata": {},
     "output_type": "execute_result"
    },
    {
     "data": {
      "image/png": "[encoded data removed]",
      "text/plain": [
       "<Figure size 640x480 with 1 Axes>"
      ]
     },
     "metadata": {},
     "output_type": "display_data"
    }
   ],
   "source": [
    "sns.set()\n",
    "sns.swarmplot(x='Embarked',y='Age',data=df,size=3)\n",
    "plt.xlabel('Embarked')\n",
    "plt.ylabel('Age')\n",
    "plt.margins(0.05)\n",
    "plt.title('Swarm plot Embarked by Age')"
   ]
  },
  {
   "cell_type": "markdown",
   "id": "5422ca6f",
   "metadata": {
    "papermill": {
     "duration": 0.026544,
     "end_time": "2023-04-04T16:32:16.064402",
     "exception": false,
     "start_time": "2023-04-04T16:32:16.037858",
     "status": "completed"
    },
    "tags": []
   },
   "source": [
    "**Project by<br>**\n",
    "**Rakesh kudmulwar<br>**\n",
    " [linkedin](https://www.linkedin.com/in/rakesh-kudmulwar-b21a89152/) **|** [GitHub](https://github.com/Rakesh-Kudmulwar)"
   ]
  }
 ],
 "metadata": {
  "kernelspec": {
   "display_name": "Python 3",
   "language": "python",
   "name": "python3"
  },
  "language_info": {
   "codemirror_mode": {
    "name": "ipython",
    "version": 3
   },
   "file_extension": ".py",
   "mimetype": "text/x-python",
   "name": "python",
   "nbconvert_exporter": "python",
   "pygments_lexer": "ipython3",
   "version": "3.7.12"
  },
  "papermill": {
   "default_parameters": {},
   "duration": 25.132936,
   "end_time": "2023-04-04T16:32:17.013392",
   "environment_variables": {},
   "exception": null,
   "input_path": "__notebook__.ipynb",
   "output_path": "__notebook__.ipynb",
   "parameters": {},
   "start_time": "2023-04-04T16:31:51.880456",
   "version": "2.4.0"
  }
 },
 "nbformat": 4,
 "nbformat_minor": 5
}
